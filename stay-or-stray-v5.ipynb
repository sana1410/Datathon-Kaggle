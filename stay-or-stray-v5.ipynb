{
 "cells": [
  {
   "cell_type": "code",
   "execution_count": 1,
   "id": "c3db5eed",
   "metadata": {
    "_cell_guid": "b1076dfc-b9ad-4769-8c92-a6c4dae69d19",
    "_uuid": "8f2839f25d086af736a60e9eeb907d3b93b6e0e5",
    "execution": {
     "iopub.execute_input": "2024-03-25T19:21:56.429673Z",
     "iopub.status.busy": "2024-03-25T19:21:56.429372Z",
     "iopub.status.idle": "2024-03-25T19:21:58.769819Z",
     "shell.execute_reply": "2024-03-25T19:21:58.768584Z"
    },
    "id": "Qzrl5GR2NahP",
    "outputId": "f9c3d021-150b-4506-d5ba-5005102b1ec0",
    "papermill": {
     "duration": 2.367182,
     "end_time": "2024-03-25T19:21:58.772539",
     "exception": false,
     "start_time": "2024-03-25T19:21:56.405357",
     "status": "completed"
    },
    "tags": []
   },
   "outputs": [
    {
     "name": "stdout",
     "output_type": "stream",
     "text": [
      "/kaggle/input/stay-or-stray/sample_submission.csv\n",
      "/kaggle/input/stay-or-stray/log_train.csv\n",
      "/kaggle/input/stay-or-stray/log_test.csv\n",
      "/kaggle/input/stay-or-stray/train.csv\n",
      "/kaggle/input/stay-or-stray/test.csv\n"
     ]
    }
   ],
   "source": [
    "## This Python 3 environment comes with many helpful analytics libraries installed\n",
    "# It is defined by the kaggle/python Docker image: https://github.com/kaggle/docker-python\n",
    "# For example, here's several helpful packages to load\n",
    "\n",
    "import numpy as np\n",
    "import pandas as pd\n",
    "import matplotlib.pyplot as plt\n",
    "import seaborn as sns\n",
    "\n",
    "# Input data files are available in the read-only \"../input/\" directory\n",
    "# For example, running this (by clicking run or pressing Shift+Enter) will list all files under the input directory\n",
    "\n",
    "import os\n",
    "for dirname, _, filenames in os.walk('/kaggle/input'):\n",
    "    for filename in filenames:\n",
    "        print(os.path.join(dirname, filename))\n",
    "\n",
    "# You can write up to 20GB to the current directory (/kaggle/working/) that gets preserved as output when you create a version using \"Save & Run All\"\n",
    "# You can also write temporary files to /kaggle/temp/, but they won't be saved outside of the current session"
   ]
  },
  {
   "cell_type": "markdown",
   "id": "8d016bb1",
   "metadata": {
    "id": "LcZRop5TNahQ",
    "papermill": {
     "duration": 0.023791,
     "end_time": "2024-03-25T19:21:58.827570",
     "exception": false,
     "start_time": "2024-03-25T19:21:58.803779",
     "status": "completed"
    },
    "tags": []
   },
   "source": [
    "**Importing Data**"
   ]
  },
  {
   "cell_type": "code",
   "execution_count": 2,
   "id": "260eb1ea",
   "metadata": {
    "execution": {
     "iopub.execute_input": "2024-03-25T19:21:58.875196Z",
     "iopub.status.busy": "2024-03-25T19:21:58.874404Z",
     "iopub.status.idle": "2024-03-25T19:22:17.522615Z",
     "shell.execute_reply": "2024-03-25T19:22:17.521756Z"
    },
    "id": "DZrxE4-QNahR",
    "papermill": {
     "duration": 18.674369,
     "end_time": "2024-03-25T19:22:17.525028",
     "exception": false,
     "start_time": "2024-03-25T19:21:58.850659",
     "status": "completed"
    },
    "tags": []
   },
   "outputs": [],
   "source": [
    "train = pd.read_csv(\"/kaggle/input/stay-or-stray/train.csv\")\n",
    "test = pd.read_csv(\"/kaggle/input/stay-or-stray/test.csv\")\n",
    "\n",
    "logs_train = pd.read_csv(\"/kaggle/input/stay-or-stray/log_train.csv\")\n",
    "logs_test = pd.read_csv(\"/kaggle/input/stay-or-stray/log_test.csv\")"
   ]
  },
  {
   "cell_type": "code",
   "execution_count": 3,
   "id": "ff028a9e",
   "metadata": {
    "execution": {
     "iopub.execute_input": "2024-03-25T19:22:17.572234Z",
     "iopub.status.busy": "2024-03-25T19:22:17.571590Z",
     "iopub.status.idle": "2024-03-25T19:22:17.575881Z",
     "shell.execute_reply": "2024-03-25T19:22:17.575073Z"
    },
    "id": "s-TtEgnLNahR",
    "outputId": "fffff70d-9e07-47fb-c489-d7b171570d75",
    "papermill": {
     "duration": 0.030496,
     "end_time": "2024-03-25T19:22:17.578534",
     "exception": false,
     "start_time": "2024-03-25T19:22:17.548038",
     "status": "completed"
    },
    "tags": []
   },
   "outputs": [
    {
     "name": "stdout",
     "output_type": "stream",
     "text": [
      "(84377, 141)\n",
      "(5710093, 5)\n"
     ]
    }
   ],
   "source": [
    "print(train.shape)\n",
    "print(logs_train.shape)"
   ]
  },
  {
   "cell_type": "code",
   "execution_count": 4,
   "id": "0422f34b",
   "metadata": {
    "execution": {
     "iopub.execute_input": "2024-03-25T19:22:17.627573Z",
     "iopub.status.busy": "2024-03-25T19:22:17.627268Z",
     "iopub.status.idle": "2024-03-25T19:22:17.668356Z",
     "shell.execute_reply": "2024-03-25T19:22:17.667423Z"
    },
    "id": "tUhVayn0NahS",
    "outputId": "7315ded5-99f3-4f75-d11b-f4f1b282bf3c",
    "papermill": {
     "duration": 0.06869,
     "end_time": "2024-03-25T19:22:17.670651",
     "exception": false,
     "start_time": "2024-03-25T19:22:17.601961",
     "status": "completed"
    },
    "tags": []
   },
   "outputs": [
    {
     "data": {
      "text/html": [
       "<div>\n",
       "<style scoped>\n",
       "    .dataframe tbody tr th:only-of-type {\n",
       "        vertical-align: middle;\n",
       "    }\n",
       "\n",
       "    .dataframe tbody tr th {\n",
       "        vertical-align: top;\n",
       "    }\n",
       "\n",
       "    .dataframe thead th {\n",
       "        text-align: right;\n",
       "    }\n",
       "</style>\n",
       "<table border=\"1\" class=\"dataframe\">\n",
       "  <thead>\n",
       "    <tr style=\"text-align: right;\">\n",
       "      <th></th>\n",
       "      <th>ID</th>\n",
       "      <th>X1</th>\n",
       "      <th>X2</th>\n",
       "      <th>X3</th>\n",
       "      <th>X4</th>\n",
       "      <th>X5</th>\n",
       "      <th>X6</th>\n",
       "      <th>X7</th>\n",
       "      <th>X8</th>\n",
       "      <th>X9</th>\n",
       "      <th>...</th>\n",
       "      <th>X131</th>\n",
       "      <th>X132</th>\n",
       "      <th>X133</th>\n",
       "      <th>X134</th>\n",
       "      <th>X135</th>\n",
       "      <th>X136</th>\n",
       "      <th>X137</th>\n",
       "      <th>X138</th>\n",
       "      <th>X139</th>\n",
       "      <th>label</th>\n",
       "    </tr>\n",
       "  </thead>\n",
       "  <tbody>\n",
       "    <tr>\n",
       "      <th>0</th>\n",
       "      <td>7054.0</td>\n",
       "      <td>2.015152</td>\n",
       "      <td>0.0</td>\n",
       "      <td>32.0</td>\n",
       "      <td>NaN</td>\n",
       "      <td>4.0</td>\n",
       "      <td>NaN</td>\n",
       "      <td>NaN</td>\n",
       "      <td>7.0</td>\n",
       "      <td>6.0</td>\n",
       "      <td>...</td>\n",
       "      <td>0.0</td>\n",
       "      <td>NaN</td>\n",
       "      <td>NaN</td>\n",
       "      <td>1.0</td>\n",
       "      <td>1.0</td>\n",
       "      <td>1.0</td>\n",
       "      <td>3.0</td>\n",
       "      <td>2.0</td>\n",
       "      <td>NaN</td>\n",
       "      <td>1</td>\n",
       "    </tr>\n",
       "    <tr>\n",
       "      <th>1</th>\n",
       "      <td>147131.0</td>\n",
       "      <td>1.000000</td>\n",
       "      <td>NaN</td>\n",
       "      <td>2.0</td>\n",
       "      <td>NaN</td>\n",
       "      <td>NaN</td>\n",
       "      <td>0.0</td>\n",
       "      <td>NaN</td>\n",
       "      <td>6.0</td>\n",
       "      <td>5.0</td>\n",
       "      <td>...</td>\n",
       "      <td>NaN</td>\n",
       "      <td>NaN</td>\n",
       "      <td>0.0</td>\n",
       "      <td>3.0</td>\n",
       "      <td>1.0</td>\n",
       "      <td>1.0</td>\n",
       "      <td>2.0</td>\n",
       "      <td>10.0</td>\n",
       "      <td>NaN</td>\n",
       "      <td>1</td>\n",
       "    </tr>\n",
       "    <tr>\n",
       "      <th>2</th>\n",
       "      <td>132068.0</td>\n",
       "      <td>1.000000</td>\n",
       "      <td>NaN</td>\n",
       "      <td>1.0</td>\n",
       "      <td>NaN</td>\n",
       "      <td>2.0</td>\n",
       "      <td>NaN</td>\n",
       "      <td>0.0</td>\n",
       "      <td>9.0</td>\n",
       "      <td>1.0</td>\n",
       "      <td>...</td>\n",
       "      <td>NaN</td>\n",
       "      <td>NaN</td>\n",
       "      <td>0.0</td>\n",
       "      <td>1.0</td>\n",
       "      <td>1.0</td>\n",
       "      <td>2.0</td>\n",
       "      <td>2.0</td>\n",
       "      <td>4.0</td>\n",
       "      <td>NaN</td>\n",
       "      <td>1</td>\n",
       "    </tr>\n",
       "    <tr>\n",
       "      <th>3</th>\n",
       "      <td>85195.0</td>\n",
       "      <td>2.071429</td>\n",
       "      <td>0.0</td>\n",
       "      <td>1.0</td>\n",
       "      <td>NaN</td>\n",
       "      <td>2.0</td>\n",
       "      <td>NaN</td>\n",
       "      <td>NaN</td>\n",
       "      <td>8.0</td>\n",
       "      <td>7.0</td>\n",
       "      <td>...</td>\n",
       "      <td>NaN</td>\n",
       "      <td>NaN</td>\n",
       "      <td>0.0</td>\n",
       "      <td>2.0</td>\n",
       "      <td>2.0</td>\n",
       "      <td>1.0</td>\n",
       "      <td>4.0</td>\n",
       "      <td>2.0</td>\n",
       "      <td>NaN</td>\n",
       "      <td>1</td>\n",
       "    </tr>\n",
       "    <tr>\n",
       "      <th>4</th>\n",
       "      <td>191948.0</td>\n",
       "      <td>2.000000</td>\n",
       "      <td>NaN</td>\n",
       "      <td>2.0</td>\n",
       "      <td>0.0</td>\n",
       "      <td>2.0</td>\n",
       "      <td>NaN</td>\n",
       "      <td>NaN</td>\n",
       "      <td>14.0</td>\n",
       "      <td>2.0</td>\n",
       "      <td>...</td>\n",
       "      <td>0.0</td>\n",
       "      <td>0.0</td>\n",
       "      <td>NaN</td>\n",
       "      <td>2.0</td>\n",
       "      <td>2.0</td>\n",
       "      <td>1.0</td>\n",
       "      <td>2.0</td>\n",
       "      <td>6.0</td>\n",
       "      <td>0.0</td>\n",
       "      <td>1</td>\n",
       "    </tr>\n",
       "  </tbody>\n",
       "</table>\n",
       "<p>5 rows × 141 columns</p>\n",
       "</div>"
      ],
      "text/plain": [
       "         ID        X1   X2    X3   X4   X5   X6   X7    X8   X9  ...  X131  \\\n",
       "0    7054.0  2.015152  0.0  32.0  NaN  4.0  NaN  NaN   7.0  6.0  ...   0.0   \n",
       "1  147131.0  1.000000  NaN   2.0  NaN  NaN  0.0  NaN   6.0  5.0  ...   NaN   \n",
       "2  132068.0  1.000000  NaN   1.0  NaN  2.0  NaN  0.0   9.0  1.0  ...   NaN   \n",
       "3   85195.0  2.071429  0.0   1.0  NaN  2.0  NaN  NaN   8.0  7.0  ...   NaN   \n",
       "4  191948.0  2.000000  NaN   2.0  0.0  2.0  NaN  NaN  14.0  2.0  ...   0.0   \n",
       "\n",
       "   X132  X133  X134  X135  X136  X137  X138  X139  label  \n",
       "0   NaN   NaN   1.0   1.0   1.0   3.0   2.0   NaN      1  \n",
       "1   NaN   0.0   3.0   1.0   1.0   2.0  10.0   NaN      1  \n",
       "2   NaN   0.0   1.0   1.0   2.0   2.0   4.0   NaN      1  \n",
       "3   NaN   0.0   2.0   2.0   1.0   4.0   2.0   NaN      1  \n",
       "4   0.0   NaN   2.0   2.0   1.0   2.0   6.0   0.0      1  \n",
       "\n",
       "[5 rows x 141 columns]"
      ]
     },
     "execution_count": 4,
     "metadata": {},
     "output_type": "execute_result"
    }
   ],
   "source": [
    "train.head()"
   ]
  },
  {
   "cell_type": "code",
   "execution_count": 5,
   "id": "27af5521",
   "metadata": {
    "execution": {
     "iopub.execute_input": "2024-03-25T19:22:17.724824Z",
     "iopub.status.busy": "2024-03-25T19:22:17.724511Z",
     "iopub.status.idle": "2024-03-25T19:22:17.751509Z",
     "shell.execute_reply": "2024-03-25T19:22:17.750215Z"
    },
    "id": "QZRqF7CWIUaB",
    "outputId": "713bafcc-0d28-4e7f-d118-ee89f2153d1e",
    "papermill": {
     "duration": 0.055332,
     "end_time": "2024-03-25T19:22:17.753734",
     "exception": false,
     "start_time": "2024-03-25T19:22:17.698402",
     "status": "completed"
    },
    "tags": []
   },
   "outputs": [
    {
     "name": "stdout",
     "output_type": "stream",
     "text": [
      "<class 'pandas.core.frame.DataFrame'>\n",
      "RangeIndex: 5710093 entries, 0 to 5710092\n",
      "Data columns (total 5 columns):\n",
      " #   Column  Dtype \n",
      "---  ------  ----- \n",
      " 0   ID      int64 \n",
      " 1   time    object\n",
      " 2   source  object\n",
      " 3   event   object\n",
      " 4   object  object\n",
      "dtypes: int64(1), object(4)\n",
      "memory usage: 217.8+ MB\n"
     ]
    }
   ],
   "source": [
    "logs_train.info()"
   ]
  },
  {
   "cell_type": "code",
   "execution_count": 6,
   "id": "a2fd641e",
   "metadata": {
    "execution": {
     "iopub.execute_input": "2024-03-25T19:22:17.802368Z",
     "iopub.status.busy": "2024-03-25T19:22:17.801988Z",
     "iopub.status.idle": "2024-03-25T19:22:17.811499Z",
     "shell.execute_reply": "2024-03-25T19:22:17.810720Z"
    },
    "id": "W_ocGSYSNahS",
    "outputId": "27fdf5ca-80ac-4808-8c3f-7cd1160c5a8c",
    "papermill": {
     "duration": 0.035693,
     "end_time": "2024-03-25T19:22:17.813573",
     "exception": false,
     "start_time": "2024-03-25T19:22:17.777880",
     "status": "completed"
    },
    "tags": []
   },
   "outputs": [
    {
     "data": {
      "text/html": [
       "<div>\n",
       "<style scoped>\n",
       "    .dataframe tbody tr th:only-of-type {\n",
       "        vertical-align: middle;\n",
       "    }\n",
       "\n",
       "    .dataframe tbody tr th {\n",
       "        vertical-align: top;\n",
       "    }\n",
       "\n",
       "    .dataframe thead th {\n",
       "        text-align: right;\n",
       "    }\n",
       "</style>\n",
       "<table border=\"1\" class=\"dataframe\">\n",
       "  <thead>\n",
       "    <tr style=\"text-align: right;\">\n",
       "      <th></th>\n",
       "      <th>ID</th>\n",
       "      <th>time</th>\n",
       "      <th>source</th>\n",
       "      <th>event</th>\n",
       "      <th>object</th>\n",
       "    </tr>\n",
       "  </thead>\n",
       "  <tbody>\n",
       "    <tr>\n",
       "      <th>0</th>\n",
       "      <td>43980</td>\n",
       "      <td>2013-11-11T16:30:11</td>\n",
       "      <td>browser</td>\n",
       "      <td>page_close</td>\n",
       "      <td>3T6XwoiMKgol57cm29Rjy8FXVFcIomxl</td>\n",
       "    </tr>\n",
       "    <tr>\n",
       "      <th>1</th>\n",
       "      <td>2648</td>\n",
       "      <td>2013-12-27T06:44:08</td>\n",
       "      <td>browser</td>\n",
       "      <td>access</td>\n",
       "      <td>UaqaZdJXEAHfzB9qbZkvAe2jc0xmI3Na</td>\n",
       "    </tr>\n",
       "    <tr>\n",
       "      <th>2</th>\n",
       "      <td>18588</td>\n",
       "      <td>2013-12-07T09:58:44</td>\n",
       "      <td>server</td>\n",
       "      <td>navigate</td>\n",
       "      <td>l0kj1vWrjGxi2YqQWGitPXDEoH5G5RYd</td>\n",
       "    </tr>\n",
       "    <tr>\n",
       "      <th>3</th>\n",
       "      <td>2679</td>\n",
       "      <td>2014-01-05T13:51:34</td>\n",
       "      <td>browser</td>\n",
       "      <td>access</td>\n",
       "      <td>S64EUU2p7wiyAtSxjzfSS6jLaHB3Y9RJ</td>\n",
       "    </tr>\n",
       "    <tr>\n",
       "      <th>4</th>\n",
       "      <td>2528</td>\n",
       "      <td>2013-12-17T12:09:36</td>\n",
       "      <td>server</td>\n",
       "      <td>access</td>\n",
       "      <td>DSPbj5O8mNBS0ccEiBGXnXJvTZstHNED</td>\n",
       "    </tr>\n",
       "  </tbody>\n",
       "</table>\n",
       "</div>"
      ],
      "text/plain": [
       "      ID                 time   source       event  \\\n",
       "0  43980  2013-11-11T16:30:11  browser  page_close   \n",
       "1   2648  2013-12-27T06:44:08  browser      access   \n",
       "2  18588  2013-12-07T09:58:44   server    navigate   \n",
       "3   2679  2014-01-05T13:51:34  browser      access   \n",
       "4   2528  2013-12-17T12:09:36   server      access   \n",
       "\n",
       "                             object  \n",
       "0  3T6XwoiMKgol57cm29Rjy8FXVFcIomxl  \n",
       "1  UaqaZdJXEAHfzB9qbZkvAe2jc0xmI3Na  \n",
       "2  l0kj1vWrjGxi2YqQWGitPXDEoH5G5RYd  \n",
       "3  S64EUU2p7wiyAtSxjzfSS6jLaHB3Y9RJ  \n",
       "4  DSPbj5O8mNBS0ccEiBGXnXJvTZstHNED  "
      ]
     },
     "execution_count": 6,
     "metadata": {},
     "output_type": "execute_result"
    }
   ],
   "source": [
    "logs_train.head()"
   ]
  },
  {
   "cell_type": "code",
   "execution_count": 7,
   "id": "10d3cc4d",
   "metadata": {
    "execution": {
     "iopub.execute_input": "2024-03-25T19:22:17.862042Z",
     "iopub.status.busy": "2024-03-25T19:22:17.861770Z",
     "iopub.status.idle": "2024-03-25T19:22:19.860929Z",
     "shell.execute_reply": "2024-03-25T19:22:19.859938Z"
    },
    "id": "bHp8MfANJbDk",
    "papermill": {
     "duration": 2.026134,
     "end_time": "2024-03-25T19:22:19.863211",
     "exception": false,
     "start_time": "2024-03-25T19:22:17.837077",
     "status": "completed"
    },
    "tags": []
   },
   "outputs": [],
   "source": [
    "logs_train['time'] = pd.to_datetime(logs_train['time'])"
   ]
  },
  {
   "cell_type": "code",
   "execution_count": 8,
   "id": "d79d797a",
   "metadata": {
    "execution": {
     "iopub.execute_input": "2024-03-25T19:22:19.915214Z",
     "iopub.status.busy": "2024-03-25T19:22:19.914586Z",
     "iopub.status.idle": "2024-03-25T19:22:20.177072Z",
     "shell.execute_reply": "2024-03-25T19:22:20.176162Z"
    },
    "id": "u046jU_lJlRT",
    "papermill": {
     "duration": 0.292666,
     "end_time": "2024-03-25T19:22:20.179671",
     "exception": false,
     "start_time": "2024-03-25T19:22:19.887005",
     "status": "completed"
    },
    "tags": []
   },
   "outputs": [],
   "source": [
    "logs_train['year']=logs_train['time'].dt.year"
   ]
  },
  {
   "cell_type": "code",
   "execution_count": 9,
   "id": "85d955d7",
   "metadata": {
    "execution": {
     "iopub.execute_input": "2024-03-25T19:22:20.235609Z",
     "iopub.status.busy": "2024-03-25T19:22:20.235001Z",
     "iopub.status.idle": "2024-03-25T19:22:20.461474Z",
     "shell.execute_reply": "2024-03-25T19:22:20.460623Z"
    },
    "id": "J6Qvmo-sJ2wJ",
    "papermill": {
     "duration": 0.256431,
     "end_time": "2024-03-25T19:22:20.463829",
     "exception": false,
     "start_time": "2024-03-25T19:22:20.207398",
     "status": "completed"
    },
    "tags": []
   },
   "outputs": [],
   "source": [
    "logs_train['month']=logs_train['time'].dt.month"
   ]
  },
  {
   "cell_type": "code",
   "execution_count": 10,
   "id": "23b7db7e",
   "metadata": {
    "execution": {
     "iopub.execute_input": "2024-03-25T19:22:20.556022Z",
     "iopub.status.busy": "2024-03-25T19:22:20.555330Z",
     "iopub.status.idle": "2024-03-25T19:22:20.779149Z",
     "shell.execute_reply": "2024-03-25T19:22:20.778305Z"
    },
    "id": "16sr1omnJ5nK",
    "papermill": {
     "duration": 0.251295,
     "end_time": "2024-03-25T19:22:20.781426",
     "exception": false,
     "start_time": "2024-03-25T19:22:20.530131",
     "status": "completed"
    },
    "tags": []
   },
   "outputs": [],
   "source": [
    "logs_train['day']=logs_train['time'].dt.day"
   ]
  },
  {
   "cell_type": "code",
   "execution_count": 11,
   "id": "464f5faa",
   "metadata": {
    "execution": {
     "iopub.execute_input": "2024-03-25T19:22:20.831003Z",
     "iopub.status.busy": "2024-03-25T19:22:20.830289Z",
     "iopub.status.idle": "2024-03-25T19:22:30.804545Z",
     "shell.execute_reply": "2024-03-25T19:22:30.803600Z"
    },
    "id": "LwxnsoeoKCxu",
    "outputId": "ac7cac9e-4796-4c80-c3a1-12c883838e04",
    "papermill": {
     "duration": 10.001678,
     "end_time": "2024-03-25T19:22:30.806551",
     "exception": false,
     "start_time": "2024-03-25T19:22:20.804873",
     "status": "completed"
    },
    "tags": []
   },
   "outputs": [
    {
     "data": {
      "text/plain": [
       "Timestamp('2014-08-01 17:31:15')"
      ]
     },
     "execution_count": 11,
     "metadata": {},
     "output_type": "execute_result"
    }
   ],
   "source": [
    "max(logs_train['time'])"
   ]
  },
  {
   "cell_type": "code",
   "execution_count": 12,
   "id": "a7c41e4c",
   "metadata": {
    "execution": {
     "iopub.execute_input": "2024-03-25T19:22:30.854731Z",
     "iopub.status.busy": "2024-03-25T19:22:30.854464Z",
     "iopub.status.idle": "2024-03-25T19:22:40.506200Z",
     "shell.execute_reply": "2024-03-25T19:22:40.505374Z"
    },
    "id": "UDEp7M3AKrsN",
    "papermill": {
     "duration": 9.678241,
     "end_time": "2024-03-25T19:22:40.508634",
     "exception": false,
     "start_time": "2024-03-25T19:22:30.830393",
     "status": "completed"
    },
    "tags": []
   },
   "outputs": [],
   "source": [
    "six_months_ago = max(logs_train['time']) - pd.DateOffset(months=3)"
   ]
  },
  {
   "cell_type": "code",
   "execution_count": 13,
   "id": "fa80dbdb",
   "metadata": {
    "execution": {
     "iopub.execute_input": "2024-03-25T19:22:40.558546Z",
     "iopub.status.busy": "2024-03-25T19:22:40.558234Z",
     "iopub.status.idle": "2024-03-25T19:22:40.563890Z",
     "shell.execute_reply": "2024-03-25T19:22:40.563003Z"
    },
    "id": "95ez-jZHKz8-",
    "outputId": "42473ff6-1ad5-4d36-9751-242b14293a34",
    "papermill": {
     "duration": 0.032963,
     "end_time": "2024-03-25T19:22:40.565965",
     "exception": false,
     "start_time": "2024-03-25T19:22:40.533002",
     "status": "completed"
    },
    "tags": []
   },
   "outputs": [
    {
     "data": {
      "text/plain": [
       "Timestamp('2014-05-01 17:31:15')"
      ]
     },
     "execution_count": 13,
     "metadata": {},
     "output_type": "execute_result"
    }
   ],
   "source": [
    "six_months_ago"
   ]
  },
  {
   "cell_type": "code",
   "execution_count": 14,
   "id": "eebef420",
   "metadata": {
    "execution": {
     "iopub.execute_input": "2024-03-25T19:22:40.615057Z",
     "iopub.status.busy": "2024-03-25T19:22:40.614791Z",
     "iopub.status.idle": "2024-03-25T19:22:40.619024Z",
     "shell.execute_reply": "2024-03-25T19:22:40.618223Z"
    },
    "id": "DuEH-HtyNahT",
    "outputId": "98552c24-1800-4cdc-df2b-22aafd299a98",
    "papermill": {
     "duration": 0.030703,
     "end_time": "2024-03-25T19:22:40.620941",
     "exception": false,
     "start_time": "2024-03-25T19:22:40.590238",
     "status": "completed"
    },
    "tags": []
   },
   "outputs": [
    {
     "name": "stdout",
     "output_type": "stream",
     "text": [
      "(35982, 140)\n",
      "(2447184, 5)\n"
     ]
    }
   ],
   "source": [
    "print(test.shape)\n",
    "print(logs_test.shape)"
   ]
  },
  {
   "cell_type": "code",
   "execution_count": 15,
   "id": "0fba2fb9",
   "metadata": {
    "execution": {
     "iopub.execute_input": "2024-03-25T19:22:40.668951Z",
     "iopub.status.busy": "2024-03-25T19:22:40.668700Z",
     "iopub.status.idle": "2024-03-25T19:22:40.697203Z",
     "shell.execute_reply": "2024-03-25T19:22:40.696333Z"
    },
    "id": "CvDfJkfnNahT",
    "outputId": "23033aa0-ba0e-4907-816e-486de7e03ced",
    "papermill": {
     "duration": 0.054565,
     "end_time": "2024-03-25T19:22:40.699099",
     "exception": false,
     "start_time": "2024-03-25T19:22:40.644534",
     "status": "completed"
    },
    "tags": []
   },
   "outputs": [
    {
     "data": {
      "text/html": [
       "<div>\n",
       "<style scoped>\n",
       "    .dataframe tbody tr th:only-of-type {\n",
       "        vertical-align: middle;\n",
       "    }\n",
       "\n",
       "    .dataframe tbody tr th {\n",
       "        vertical-align: top;\n",
       "    }\n",
       "\n",
       "    .dataframe thead th {\n",
       "        text-align: right;\n",
       "    }\n",
       "</style>\n",
       "<table border=\"1\" class=\"dataframe\">\n",
       "  <thead>\n",
       "    <tr style=\"text-align: right;\">\n",
       "      <th></th>\n",
       "      <th>ID</th>\n",
       "      <th>X1</th>\n",
       "      <th>X2</th>\n",
       "      <th>X3</th>\n",
       "      <th>X4</th>\n",
       "      <th>X5</th>\n",
       "      <th>X6</th>\n",
       "      <th>X7</th>\n",
       "      <th>X8</th>\n",
       "      <th>X9</th>\n",
       "      <th>...</th>\n",
       "      <th>X130</th>\n",
       "      <th>X131</th>\n",
       "      <th>X132</th>\n",
       "      <th>X133</th>\n",
       "      <th>X134</th>\n",
       "      <th>X135</th>\n",
       "      <th>X136</th>\n",
       "      <th>X137</th>\n",
       "      <th>X138</th>\n",
       "      <th>X139</th>\n",
       "    </tr>\n",
       "  </thead>\n",
       "  <tbody>\n",
       "    <tr>\n",
       "      <th>0</th>\n",
       "      <td>17547.0</td>\n",
       "      <td>1.272727</td>\n",
       "      <td>0.0</td>\n",
       "      <td>1.0</td>\n",
       "      <td>0.0</td>\n",
       "      <td>3.0</td>\n",
       "      <td>0.0</td>\n",
       "      <td>0.0</td>\n",
       "      <td>7.0</td>\n",
       "      <td>26.0</td>\n",
       "      <td>...</td>\n",
       "      <td>NaN</td>\n",
       "      <td>NaN</td>\n",
       "      <td>NaN</td>\n",
       "      <td>0.0</td>\n",
       "      <td>2.0</td>\n",
       "      <td>6.0</td>\n",
       "      <td>2.0</td>\n",
       "      <td>4.0</td>\n",
       "      <td>3.0</td>\n",
       "      <td>NaN</td>\n",
       "    </tr>\n",
       "    <tr>\n",
       "      <th>1</th>\n",
       "      <td>140449.0</td>\n",
       "      <td>1.000000</td>\n",
       "      <td>0.0</td>\n",
       "      <td>1.0</td>\n",
       "      <td>NaN</td>\n",
       "      <td>1.0</td>\n",
       "      <td>NaN</td>\n",
       "      <td>0.0</td>\n",
       "      <td>8.0</td>\n",
       "      <td>4.0</td>\n",
       "      <td>...</td>\n",
       "      <td>0.0</td>\n",
       "      <td>0.0</td>\n",
       "      <td>NaN</td>\n",
       "      <td>0.0</td>\n",
       "      <td>3.0</td>\n",
       "      <td>2.0</td>\n",
       "      <td>2.0</td>\n",
       "      <td>2.0</td>\n",
       "      <td>5.0</td>\n",
       "      <td>NaN</td>\n",
       "    </tr>\n",
       "    <tr>\n",
       "      <th>2</th>\n",
       "      <td>182658.0</td>\n",
       "      <td>2.000000</td>\n",
       "      <td>NaN</td>\n",
       "      <td>2.0</td>\n",
       "      <td>NaN</td>\n",
       "      <td>2.0</td>\n",
       "      <td>NaN</td>\n",
       "      <td>0.0</td>\n",
       "      <td>64.0</td>\n",
       "      <td>2.0</td>\n",
       "      <td>...</td>\n",
       "      <td>NaN</td>\n",
       "      <td>NaN</td>\n",
       "      <td>NaN</td>\n",
       "      <td>NaN</td>\n",
       "      <td>2.0</td>\n",
       "      <td>4.0</td>\n",
       "      <td>1.0</td>\n",
       "      <td>1.0</td>\n",
       "      <td>7.0</td>\n",
       "      <td>0.0</td>\n",
       "    </tr>\n",
       "    <tr>\n",
       "      <th>3</th>\n",
       "      <td>149652.0</td>\n",
       "      <td>1.000000</td>\n",
       "      <td>0.0</td>\n",
       "      <td>1.0</td>\n",
       "      <td>NaN</td>\n",
       "      <td>1.0</td>\n",
       "      <td>0.0</td>\n",
       "      <td>0.0</td>\n",
       "      <td>9.0</td>\n",
       "      <td>9.0</td>\n",
       "      <td>...</td>\n",
       "      <td>NaN</td>\n",
       "      <td>NaN</td>\n",
       "      <td>NaN</td>\n",
       "      <td>NaN</td>\n",
       "      <td>3.0</td>\n",
       "      <td>1.0</td>\n",
       "      <td>1.0</td>\n",
       "      <td>2.0</td>\n",
       "      <td>7.0</td>\n",
       "      <td>NaN</td>\n",
       "    </tr>\n",
       "    <tr>\n",
       "      <th>4</th>\n",
       "      <td>106304.0</td>\n",
       "      <td>2.000000</td>\n",
       "      <td>NaN</td>\n",
       "      <td>2.0</td>\n",
       "      <td>NaN</td>\n",
       "      <td>3.0</td>\n",
       "      <td>NaN</td>\n",
       "      <td>0.0</td>\n",
       "      <td>1.0</td>\n",
       "      <td>6.0</td>\n",
       "      <td>...</td>\n",
       "      <td>NaN</td>\n",
       "      <td>NaN</td>\n",
       "      <td>NaN</td>\n",
       "      <td>0.0</td>\n",
       "      <td>1.0</td>\n",
       "      <td>2.0</td>\n",
       "      <td>2.0</td>\n",
       "      <td>2.0</td>\n",
       "      <td>2.0</td>\n",
       "      <td>0.0</td>\n",
       "    </tr>\n",
       "  </tbody>\n",
       "</table>\n",
       "<p>5 rows × 140 columns</p>\n",
       "</div>"
      ],
      "text/plain": [
       "         ID        X1   X2   X3   X4   X5   X6   X7    X8    X9  ...  X130  \\\n",
       "0   17547.0  1.272727  0.0  1.0  0.0  3.0  0.0  0.0   7.0  26.0  ...   NaN   \n",
       "1  140449.0  1.000000  0.0  1.0  NaN  1.0  NaN  0.0   8.0   4.0  ...   0.0   \n",
       "2  182658.0  2.000000  NaN  2.0  NaN  2.0  NaN  0.0  64.0   2.0  ...   NaN   \n",
       "3  149652.0  1.000000  0.0  1.0  NaN  1.0  0.0  0.0   9.0   9.0  ...   NaN   \n",
       "4  106304.0  2.000000  NaN  2.0  NaN  3.0  NaN  0.0   1.0   6.0  ...   NaN   \n",
       "\n",
       "   X131  X132  X133  X134  X135  X136  X137  X138  X139  \n",
       "0   NaN   NaN   0.0   2.0   6.0   2.0   4.0   3.0   NaN  \n",
       "1   0.0   NaN   0.0   3.0   2.0   2.0   2.0   5.0   NaN  \n",
       "2   NaN   NaN   NaN   2.0   4.0   1.0   1.0   7.0   0.0  \n",
       "3   NaN   NaN   NaN   3.0   1.0   1.0   2.0   7.0   NaN  \n",
       "4   NaN   NaN   0.0   1.0   2.0   2.0   2.0   2.0   0.0  \n",
       "\n",
       "[5 rows x 140 columns]"
      ]
     },
     "execution_count": 15,
     "metadata": {},
     "output_type": "execute_result"
    }
   ],
   "source": [
    "test.head()"
   ]
  },
  {
   "cell_type": "code",
   "execution_count": 16,
   "id": "81895470",
   "metadata": {
    "execution": {
     "iopub.execute_input": "2024-03-25T19:22:40.748531Z",
     "iopub.status.busy": "2024-03-25T19:22:40.748267Z",
     "iopub.status.idle": "2024-03-25T19:22:40.758108Z",
     "shell.execute_reply": "2024-03-25T19:22:40.757327Z"
    },
    "id": "JqBlQWvzNahT",
    "outputId": "fce530a9-24ce-417f-c578-8d2401af7fc7",
    "papermill": {
     "duration": 0.036721,
     "end_time": "2024-03-25T19:22:40.760040",
     "exception": false,
     "start_time": "2024-03-25T19:22:40.723319",
     "status": "completed"
    },
    "tags": []
   },
   "outputs": [
    {
     "data": {
      "text/html": [
       "<div>\n",
       "<style scoped>\n",
       "    .dataframe tbody tr th:only-of-type {\n",
       "        vertical-align: middle;\n",
       "    }\n",
       "\n",
       "    .dataframe tbody tr th {\n",
       "        vertical-align: top;\n",
       "    }\n",
       "\n",
       "    .dataframe thead th {\n",
       "        text-align: right;\n",
       "    }\n",
       "</style>\n",
       "<table border=\"1\" class=\"dataframe\">\n",
       "  <thead>\n",
       "    <tr style=\"text-align: right;\">\n",
       "      <th></th>\n",
       "      <th>ID</th>\n",
       "      <th>time</th>\n",
       "      <th>source</th>\n",
       "      <th>event</th>\n",
       "      <th>object</th>\n",
       "    </tr>\n",
       "  </thead>\n",
       "  <tbody>\n",
       "    <tr>\n",
       "      <th>0</th>\n",
       "      <td>116554</td>\n",
       "      <td>2014-01-06T05:08:08</td>\n",
       "      <td>browser</td>\n",
       "      <td>page_close</td>\n",
       "      <td>3T6XwoiMKgol57cm29Rjy8FXVFcIomxl</td>\n",
       "    </tr>\n",
       "    <tr>\n",
       "      <th>1</th>\n",
       "      <td>19439</td>\n",
       "      <td>2013-12-08T06:03:08</td>\n",
       "      <td>browser</td>\n",
       "      <td>page_close</td>\n",
       "      <td>3T6XwoiMKgol57cm29Rjy8FXVFcIomxl</td>\n",
       "    </tr>\n",
       "    <tr>\n",
       "      <th>2</th>\n",
       "      <td>107141</td>\n",
       "      <td>2013-11-26T11:15:18</td>\n",
       "      <td>browser</td>\n",
       "      <td>page_close</td>\n",
       "      <td>3T6XwoiMKgol57cm29Rjy8FXVFcIomxl</td>\n",
       "    </tr>\n",
       "    <tr>\n",
       "      <th>3</th>\n",
       "      <td>82090</td>\n",
       "      <td>2013-12-12T15:18:20</td>\n",
       "      <td>browser</td>\n",
       "      <td>video</td>\n",
       "      <td>vfBDLKTN9uOeruSh4LLBed14yLpyrqK8</td>\n",
       "    </tr>\n",
       "    <tr>\n",
       "      <th>4</th>\n",
       "      <td>86668</td>\n",
       "      <td>2013-11-25T13:30:39</td>\n",
       "      <td>server</td>\n",
       "      <td>access</td>\n",
       "      <td>raFEun0hpOJkjudwgs8gbTqL7ZxOMVZ1</td>\n",
       "    </tr>\n",
       "  </tbody>\n",
       "</table>\n",
       "</div>"
      ],
      "text/plain": [
       "       ID                 time   source       event  \\\n",
       "0  116554  2014-01-06T05:08:08  browser  page_close   \n",
       "1   19439  2013-12-08T06:03:08  browser  page_close   \n",
       "2  107141  2013-11-26T11:15:18  browser  page_close   \n",
       "3   82090  2013-12-12T15:18:20  browser       video   \n",
       "4   86668  2013-11-25T13:30:39   server      access   \n",
       "\n",
       "                             object  \n",
       "0  3T6XwoiMKgol57cm29Rjy8FXVFcIomxl  \n",
       "1  3T6XwoiMKgol57cm29Rjy8FXVFcIomxl  \n",
       "2  3T6XwoiMKgol57cm29Rjy8FXVFcIomxl  \n",
       "3  vfBDLKTN9uOeruSh4LLBed14yLpyrqK8  \n",
       "4  raFEun0hpOJkjudwgs8gbTqL7ZxOMVZ1  "
      ]
     },
     "execution_count": 16,
     "metadata": {},
     "output_type": "execute_result"
    }
   ],
   "source": [
    "logs_test.head()"
   ]
  },
  {
   "cell_type": "code",
   "execution_count": 17,
   "id": "26f0cf9c",
   "metadata": {
    "execution": {
     "iopub.execute_input": "2024-03-25T19:22:40.810355Z",
     "iopub.status.busy": "2024-03-25T19:22:40.810084Z",
     "iopub.status.idle": "2024-03-25T19:22:46.026977Z",
     "shell.execute_reply": "2024-03-25T19:22:46.026011Z"
    },
    "id": "wbyGO2EjJY7g",
    "papermill": {
     "duration": 5.244414,
     "end_time": "2024-03-25T19:22:46.029395",
     "exception": false,
     "start_time": "2024-03-25T19:22:40.784981",
     "status": "completed"
    },
    "tags": []
   },
   "outputs": [],
   "source": [
    "logs_test['time'] = pd.to_datetime(logs_test['time'])\n",
    "logs_test['year']=logs_test['time'].dt.year\n",
    "logs_test['month']=logs_test['time'].dt.month\n",
    "logs_test['day']=logs_test['time'].dt.day\n",
    "six_months_ago_test = max(logs_test['time']) - pd.DateOffset(months=3)"
   ]
  },
  {
   "cell_type": "code",
   "execution_count": 18,
   "id": "75581920",
   "metadata": {
    "execution": {
     "iopub.execute_input": "2024-03-25T19:22:46.079819Z",
     "iopub.status.busy": "2024-03-25T19:22:46.079490Z",
     "iopub.status.idle": "2024-03-25T19:22:46.093628Z",
     "shell.execute_reply": "2024-03-25T19:22:46.092688Z"
    },
    "id": "dbuDS7avLaU4",
    "outputId": "f07c21aa-cff6-4de3-8ce9-89c5de77952b",
    "papermill": {
     "duration": 0.041232,
     "end_time": "2024-03-25T19:22:46.095499",
     "exception": false,
     "start_time": "2024-03-25T19:22:46.054267",
     "status": "completed"
    },
    "tags": []
   },
   "outputs": [
    {
     "data": {
      "text/html": [
       "<div>\n",
       "<style scoped>\n",
       "    .dataframe tbody tr th:only-of-type {\n",
       "        vertical-align: middle;\n",
       "    }\n",
       "\n",
       "    .dataframe tbody tr th {\n",
       "        vertical-align: top;\n",
       "    }\n",
       "\n",
       "    .dataframe thead th {\n",
       "        text-align: right;\n",
       "    }\n",
       "</style>\n",
       "<table border=\"1\" class=\"dataframe\">\n",
       "  <thead>\n",
       "    <tr style=\"text-align: right;\">\n",
       "      <th></th>\n",
       "      <th>ID</th>\n",
       "      <th>time</th>\n",
       "      <th>source</th>\n",
       "      <th>event</th>\n",
       "      <th>object</th>\n",
       "      <th>year</th>\n",
       "      <th>month</th>\n",
       "      <th>day</th>\n",
       "    </tr>\n",
       "  </thead>\n",
       "  <tbody>\n",
       "    <tr>\n",
       "      <th>0</th>\n",
       "      <td>116554</td>\n",
       "      <td>2014-01-06 05:08:08</td>\n",
       "      <td>browser</td>\n",
       "      <td>page_close</td>\n",
       "      <td>3T6XwoiMKgol57cm29Rjy8FXVFcIomxl</td>\n",
       "      <td>2014</td>\n",
       "      <td>1</td>\n",
       "      <td>6</td>\n",
       "    </tr>\n",
       "    <tr>\n",
       "      <th>1</th>\n",
       "      <td>19439</td>\n",
       "      <td>2013-12-08 06:03:08</td>\n",
       "      <td>browser</td>\n",
       "      <td>page_close</td>\n",
       "      <td>3T6XwoiMKgol57cm29Rjy8FXVFcIomxl</td>\n",
       "      <td>2013</td>\n",
       "      <td>12</td>\n",
       "      <td>8</td>\n",
       "    </tr>\n",
       "    <tr>\n",
       "      <th>2</th>\n",
       "      <td>107141</td>\n",
       "      <td>2013-11-26 11:15:18</td>\n",
       "      <td>browser</td>\n",
       "      <td>page_close</td>\n",
       "      <td>3T6XwoiMKgol57cm29Rjy8FXVFcIomxl</td>\n",
       "      <td>2013</td>\n",
       "      <td>11</td>\n",
       "      <td>26</td>\n",
       "    </tr>\n",
       "    <tr>\n",
       "      <th>3</th>\n",
       "      <td>82090</td>\n",
       "      <td>2013-12-12 15:18:20</td>\n",
       "      <td>browser</td>\n",
       "      <td>video</td>\n",
       "      <td>vfBDLKTN9uOeruSh4LLBed14yLpyrqK8</td>\n",
       "      <td>2013</td>\n",
       "      <td>12</td>\n",
       "      <td>12</td>\n",
       "    </tr>\n",
       "    <tr>\n",
       "      <th>4</th>\n",
       "      <td>86668</td>\n",
       "      <td>2013-11-25 13:30:39</td>\n",
       "      <td>server</td>\n",
       "      <td>access</td>\n",
       "      <td>raFEun0hpOJkjudwgs8gbTqL7ZxOMVZ1</td>\n",
       "      <td>2013</td>\n",
       "      <td>11</td>\n",
       "      <td>25</td>\n",
       "    </tr>\n",
       "  </tbody>\n",
       "</table>\n",
       "</div>"
      ],
      "text/plain": [
       "       ID                time   source       event  \\\n",
       "0  116554 2014-01-06 05:08:08  browser  page_close   \n",
       "1   19439 2013-12-08 06:03:08  browser  page_close   \n",
       "2  107141 2013-11-26 11:15:18  browser  page_close   \n",
       "3   82090 2013-12-12 15:18:20  browser       video   \n",
       "4   86668 2013-11-25 13:30:39   server      access   \n",
       "\n",
       "                             object  year  month  day  \n",
       "0  3T6XwoiMKgol57cm29Rjy8FXVFcIomxl  2014      1    6  \n",
       "1  3T6XwoiMKgol57cm29Rjy8FXVFcIomxl  2013     12    8  \n",
       "2  3T6XwoiMKgol57cm29Rjy8FXVFcIomxl  2013     11   26  \n",
       "3  vfBDLKTN9uOeruSh4LLBed14yLpyrqK8  2013     12   12  \n",
       "4  raFEun0hpOJkjudwgs8gbTqL7ZxOMVZ1  2013     11   25  "
      ]
     },
     "execution_count": 18,
     "metadata": {},
     "output_type": "execute_result"
    }
   ],
   "source": [
    "logs_test.head()"
   ]
  },
  {
   "cell_type": "code",
   "execution_count": 19,
   "id": "2e434450",
   "metadata": {
    "execution": {
     "iopub.execute_input": "2024-03-25T19:22:46.146785Z",
     "iopub.status.busy": "2024-03-25T19:22:46.146483Z",
     "iopub.status.idle": "2024-03-25T19:22:46.310420Z",
     "shell.execute_reply": "2024-03-25T19:22:46.309489Z"
    },
    "id": "SoDdT6jBNahT",
    "papermill": {
     "duration": 0.192392,
     "end_time": "2024-03-25T19:22:46.312677",
     "exception": false,
     "start_time": "2024-03-25T19:22:46.120285",
     "status": "completed"
    },
    "tags": []
   },
   "outputs": [],
   "source": [
    "###changing data type\n",
    "train['ID']=train['ID'].astype('str').replace('\\.0', '', regex=True)"
   ]
  },
  {
   "cell_type": "code",
   "execution_count": 20,
   "id": "75be5f6a",
   "metadata": {
    "execution": {
     "iopub.execute_input": "2024-03-25T19:22:46.364103Z",
     "iopub.status.busy": "2024-03-25T19:22:46.363376Z",
     "iopub.status.idle": "2024-03-25T19:22:46.435619Z",
     "shell.execute_reply": "2024-03-25T19:22:46.434825Z"
    },
    "id": "ir5phL2tNahU",
    "papermill": {
     "duration": 0.099621,
     "end_time": "2024-03-25T19:22:46.437814",
     "exception": false,
     "start_time": "2024-03-25T19:22:46.338193",
     "status": "completed"
    },
    "tags": []
   },
   "outputs": [],
   "source": [
    "###changing data type\n",
    "test['ID']=test['ID'].astype('str').replace('\\.0', '', regex=True)"
   ]
  },
  {
   "cell_type": "code",
   "execution_count": 21,
   "id": "f23abde5",
   "metadata": {
    "execution": {
     "iopub.execute_input": "2024-03-25T19:22:46.489656Z",
     "iopub.status.busy": "2024-03-25T19:22:46.489344Z",
     "iopub.status.idle": "2024-03-25T19:22:50.482662Z",
     "shell.execute_reply": "2024-03-25T19:22:50.481654Z"
    },
    "id": "Sf5w6J-mNahU",
    "papermill": {
     "duration": 4.021861,
     "end_time": "2024-03-25T19:22:50.485249",
     "exception": false,
     "start_time": "2024-03-25T19:22:46.463388",
     "status": "completed"
    },
    "tags": []
   },
   "outputs": [],
   "source": [
    "##changing data type\n",
    "logs_train['ID']=logs_train['ID'].astype('str')\n",
    "logs_test['ID']=logs_test['ID'].astype('str')"
   ]
  },
  {
   "cell_type": "markdown",
   "id": "fa1173a2",
   "metadata": {
    "id": "ZeFUX_ZwNahU",
    "papermill": {
     "duration": 0.025404,
     "end_time": "2024-03-25T19:22:50.536659",
     "exception": false,
     "start_time": "2024-03-25T19:22:50.511255",
     "status": "completed"
    },
    "tags": []
   },
   "source": [
    "*Counting No of Students *"
   ]
  },
  {
   "cell_type": "code",
   "execution_count": 22,
   "id": "3f58cc80",
   "metadata": {
    "execution": {
     "iopub.execute_input": "2024-03-25T19:22:50.586560Z",
     "iopub.status.busy": "2024-03-25T19:22:50.586244Z",
     "iopub.status.idle": "2024-03-25T19:22:51.279259Z",
     "shell.execute_reply": "2024-03-25T19:22:51.278266Z"
    },
    "id": "gnT35NTMNahU",
    "outputId": "4db79be2-e2d5-4eb7-d773-51e3eae0beef",
    "papermill": {
     "duration": 0.720666,
     "end_time": "2024-03-25T19:22:51.281785",
     "exception": false,
     "start_time": "2024-03-25T19:22:50.561119",
     "status": "completed"
    },
    "tags": []
   },
   "outputs": [
    {
     "name": "stdout",
     "output_type": "stream",
     "text": [
      "83913\n",
      "114469\n"
     ]
    }
   ],
   "source": [
    "print(train['ID'].nunique())\n",
    "print(logs_train['ID'].nunique())"
   ]
  },
  {
   "cell_type": "code",
   "execution_count": 23,
   "id": "d664b9c7",
   "metadata": {
    "execution": {
     "iopub.execute_input": "2024-03-25T19:22:51.333761Z",
     "iopub.status.busy": "2024-03-25T19:22:51.333457Z",
     "iopub.status.idle": "2024-03-25T19:22:51.653689Z",
     "shell.execute_reply": "2024-03-25T19:22:51.652621Z"
    },
    "id": "EcokCpIS2TiV",
    "outputId": "5afdc770-3fd3-4655-875f-4dbc1caa3bca",
    "papermill": {
     "duration": 0.348142,
     "end_time": "2024-03-25T19:22:51.655875",
     "exception": false,
     "start_time": "2024-03-25T19:22:51.307733",
     "status": "completed"
    },
    "tags": []
   },
   "outputs": [
    {
     "name": "stdout",
     "output_type": "stream",
     "text": [
      "35982\n",
      "101910\n"
     ]
    }
   ],
   "source": [
    "print(test['ID'].nunique())\n",
    "print(logs_test['ID'].nunique())"
   ]
  },
  {
   "cell_type": "markdown",
   "id": "9dc538e5",
   "metadata": {
    "id": "-U18kp_bNahU",
    "papermill": {
     "duration": 0.02536,
     "end_time": "2024-03-25T19:22:51.706296",
     "exception": false,
     "start_time": "2024-03-25T19:22:51.680936",
     "status": "completed"
    },
    "tags": []
   },
   "source": [
    "Creating Pivot table for train logs"
   ]
  },
  {
   "cell_type": "code",
   "execution_count": 24,
   "id": "f8d66c0d",
   "metadata": {
    "execution": {
     "iopub.execute_input": "2024-03-25T19:22:51.758606Z",
     "iopub.status.busy": "2024-03-25T19:22:51.758213Z",
     "iopub.status.idle": "2024-03-25T19:22:52.656059Z",
     "shell.execute_reply": "2024-03-25T19:22:52.655221Z"
    },
    "id": "DipXYvE6NahU",
    "outputId": "d86aacea-e132-413b-af6d-91dea4f86dba",
    "papermill": {
     "duration": 0.926239,
     "end_time": "2024-03-25T19:22:52.657944",
     "exception": false,
     "start_time": "2024-03-25T19:22:51.731705",
     "status": "completed"
    },
    "tags": []
   },
   "outputs": [
    {
     "data": {
      "text/plain": [
       "event\n",
       "access        38.164265\n",
       "problem       15.470466\n",
       "page_close    15.157687\n",
       "navigate      12.371322\n",
       "video          9.767879\n",
       "discussion     7.957471\n",
       "wiki           1.110910\n",
       "Name: count, dtype: float64"
      ]
     },
     "execution_count": 24,
     "metadata": {},
     "output_type": "execute_result"
    }
   ],
   "source": [
    "logs_train['event'].value_counts()/len(logs_train)*100"
   ]
  },
  {
   "cell_type": "code",
   "execution_count": 25,
   "id": "df90da51",
   "metadata": {
    "execution": {
     "iopub.execute_input": "2024-03-25T19:22:52.709747Z",
     "iopub.status.busy": "2024-03-25T19:22:52.709208Z",
     "iopub.status.idle": "2024-03-25T19:22:53.579522Z",
     "shell.execute_reply": "2024-03-25T19:22:53.578638Z"
    },
    "id": "awtPkFbT3BpZ",
    "outputId": "94568689-44d5-4496-8138-75d49a219d00",
    "papermill": {
     "duration": 0.898539,
     "end_time": "2024-03-25T19:22:53.582077",
     "exception": false,
     "start_time": "2024-03-25T19:22:52.683538",
     "status": "completed"
    },
    "tags": []
   },
   "outputs": [
    {
     "data": {
      "text/plain": [
       "source\n",
       "server     52.558408\n",
       "browser    47.441592\n",
       "Name: count, dtype: float64"
      ]
     },
     "execution_count": 25,
     "metadata": {},
     "output_type": "execute_result"
    }
   ],
   "source": [
    "logs_train['source'].value_counts()/len(logs_train)*100"
   ]
  },
  {
   "cell_type": "code",
   "execution_count": 26,
   "id": "d6073802",
   "metadata": {
    "execution": {
     "iopub.execute_input": "2024-03-25T19:22:53.636096Z",
     "iopub.status.busy": "2024-03-25T19:22:53.635469Z",
     "iopub.status.idle": "2024-03-25T19:22:53.645851Z",
     "shell.execute_reply": "2024-03-25T19:22:53.644838Z"
    },
    "id": "rrfILjYVNahU",
    "outputId": "d42dfeca-52f6-4cdb-b3b8-25c70393f560",
    "papermill": {
     "duration": 0.038713,
     "end_time": "2024-03-25T19:22:53.648295",
     "exception": false,
     "start_time": "2024-03-25T19:22:53.609582",
     "status": "completed"
    },
    "tags": []
   },
   "outputs": [
    {
     "data": {
      "text/plain": [
       "label\n",
       "1    79.272788\n",
       "0    20.727212\n",
       "Name: count, dtype: float64"
      ]
     },
     "execution_count": 26,
     "metadata": {},
     "output_type": "execute_result"
    }
   ],
   "source": [
    "train['label'].value_counts()/len(train)*100"
   ]
  },
  {
   "cell_type": "code",
   "execution_count": 27,
   "id": "e81bde9f",
   "metadata": {
    "execution": {
     "iopub.execute_input": "2024-03-25T19:22:53.702678Z",
     "iopub.status.busy": "2024-03-25T19:22:53.701876Z",
     "iopub.status.idle": "2024-03-25T19:22:54.343137Z",
     "shell.execute_reply": "2024-03-25T19:22:54.342222Z"
    },
    "id": "aA7YaXRvNahU",
    "outputId": "85a5a61d-5101-4ba6-a2a9-5be1525a2370",
    "papermill": {
     "duration": 0.669223,
     "end_time": "2024-03-25T19:22:54.345245",
     "exception": false,
     "start_time": "2024-03-25T19:22:53.676022",
     "status": "completed"
    },
    "tags": []
   },
   "outputs": [
    {
     "data": {
      "text/plain": [
       "5832"
      ]
     },
     "execution_count": 27,
     "metadata": {},
     "output_type": "execute_result"
    }
   ],
   "source": [
    "logs_train['object'].nunique()"
   ]
  },
  {
   "cell_type": "code",
   "execution_count": 28,
   "id": "65777472",
   "metadata": {
    "execution": {
     "iopub.execute_input": "2024-03-25T19:22:54.398630Z",
     "iopub.status.busy": "2024-03-25T19:22:54.397843Z",
     "iopub.status.idle": "2024-03-25T19:23:09.476486Z",
     "shell.execute_reply": "2024-03-25T19:23:09.475465Z"
    },
    "id": "O9ojPoHENahU",
    "papermill": {
     "duration": 15.108082,
     "end_time": "2024-03-25T19:23:09.478966",
     "exception": false,
     "start_time": "2024-03-25T19:22:54.370884",
     "status": "completed"
    },
    "tags": []
   },
   "outputs": [],
   "source": [
    "##filter for page_close\n",
    "table1=logs_train[logs_train['event']=='page_close'].groupby(['ID'])[['time']].nunique().reset_index()\n",
    "table2=logs_train[logs_train['event']=='access'].groupby(['ID'])[['time']].nunique().reset_index()\n",
    "table3=logs_train[logs_train['event']=='navigate'].groupby(['ID'])[['time']].nunique().reset_index()\n",
    "table4=logs_train[logs_train['event']=='video'].groupby(['ID'])[['time']].nunique().reset_index()\n",
    "table5=logs_train[logs_train['event']=='problem'].groupby(['ID'])[['time']].nunique().reset_index()\n",
    "table6=logs_train[logs_train['event']=='discussion'].groupby(['ID'])[['time']].nunique().reset_index()\n",
    "table7=logs_train[logs_train['event']=='wiki'].groupby(['ID'])[['time']].nunique().reset_index()\n",
    "table8=logs_train[logs_train['source']=='server'].groupby(['ID'])[['time']].nunique().reset_index()\n",
    "table9=logs_train[logs_train['source']=='browser'].groupby(['ID'])[['time']].nunique().reset_index()\n"
   ]
  },
  {
   "cell_type": "code",
   "execution_count": 29,
   "id": "e8dd3b49",
   "metadata": {
    "execution": {
     "iopub.execute_input": "2024-03-25T19:23:09.532199Z",
     "iopub.status.busy": "2024-03-25T19:23:09.531453Z",
     "iopub.status.idle": "2024-03-25T19:23:11.329890Z",
     "shell.execute_reply": "2024-03-25T19:23:11.328872Z"
    },
    "id": "IQzTUEsqMLWR",
    "papermill": {
     "duration": 1.827247,
     "end_time": "2024-03-25T19:23:11.332183",
     "exception": false,
     "start_time": "2024-03-25T19:23:09.504936",
     "status": "completed"
    },
    "tags": []
   },
   "outputs": [],
   "source": [
    "table10=logs_train[logs_train['time']> six_months_ago].groupby(['ID'])[['time']].nunique().reset_index()"
   ]
  },
  {
   "cell_type": "code",
   "execution_count": 30,
   "id": "34c3c87a",
   "metadata": {
    "execution": {
     "iopub.execute_input": "2024-03-25T19:23:11.385379Z",
     "iopub.status.busy": "2024-03-25T19:23:11.385022Z",
     "iopub.status.idle": "2024-03-25T19:23:11.406458Z",
     "shell.execute_reply": "2024-03-25T19:23:11.405508Z"
    },
    "id": "E-AR2m1MNahU",
    "outputId": "ac4ee820-331b-472a-a10b-921f57f74977",
    "papermill": {
     "duration": 0.050371,
     "end_time": "2024-03-25T19:23:11.408398",
     "exception": false,
     "start_time": "2024-03-25T19:23:11.358027",
     "status": "completed"
    },
    "tags": []
   },
   "outputs": [
    {
     "name": "stdout",
     "output_type": "stream",
     "text": [
      "<class 'pandas.core.frame.DataFrame'>\n",
      "RangeIndex: 74128 entries, 0 to 74127\n",
      "Data columns (total 2 columns):\n",
      " #   Column  Non-Null Count  Dtype \n",
      "---  ------  --------------  ----- \n",
      " 0   ID      74128 non-null  object\n",
      " 1   time    74128 non-null  int64 \n",
      "dtypes: int64(1), object(1)\n",
      "memory usage: 1.1+ MB\n"
     ]
    }
   ],
   "source": [
    "table10.info()"
   ]
  },
  {
   "cell_type": "code",
   "execution_count": 31,
   "id": "ff111177",
   "metadata": {
    "execution": {
     "iopub.execute_input": "2024-03-25T19:23:11.461631Z",
     "iopub.status.busy": "2024-03-25T19:23:11.461299Z",
     "iopub.status.idle": "2024-03-25T19:23:17.799639Z",
     "shell.execute_reply": "2024-03-25T19:23:17.798763Z"
    },
    "id": "jE3unEfsqXsD",
    "papermill": {
     "duration": 6.368085,
     "end_time": "2024-03-25T19:23:17.802113",
     "exception": false,
     "start_time": "2024-03-25T19:23:11.434028",
     "status": "completed"
    },
    "tags": []
   },
   "outputs": [],
   "source": [
    "table11=logs_test[logs_test['event']=='page_close'].groupby(['ID'])[['time']].nunique().reset_index()\n",
    "table12=logs_test[logs_test['event']=='access'].groupby(['ID'])[['time']].nunique().reset_index()\n",
    "table13=logs_test[logs_test['event']=='navigate'].groupby(['ID'])[['time']].nunique().reset_index()\n",
    "table14=logs_test[logs_test['event']=='video'].groupby(['ID'])[['time']].nunique().reset_index()\n",
    "table15=logs_test[logs_test['event']=='problem'].groupby(['ID'])[['time']].nunique().reset_index()\n",
    "table16=logs_test[logs_test['event']=='discussion'].groupby(['ID'])[['time']].nunique().reset_index()\n",
    "table17=logs_test[logs_test['event']=='wiki'].groupby(['ID'])[['time']].nunique().reset_index()\n",
    "table18=logs_test[logs_test['source']=='server'].groupby(['ID'])[['time']].nunique().reset_index()\n",
    "table19=logs_test[logs_test['source']=='browser'].groupby(['ID'])[['time']].nunique().reset_index()"
   ]
  },
  {
   "cell_type": "code",
   "execution_count": 32,
   "id": "92e6ab87",
   "metadata": {
    "execution": {
     "iopub.execute_input": "2024-03-25T19:23:17.857195Z",
     "iopub.status.busy": "2024-03-25T19:23:17.856866Z",
     "iopub.status.idle": "2024-03-25T19:23:18.547375Z",
     "shell.execute_reply": "2024-03-25T19:23:18.546253Z"
    },
    "id": "f_nOYGKqMRQ2",
    "papermill": {
     "duration": 0.719881,
     "end_time": "2024-03-25T19:23:18.549876",
     "exception": false,
     "start_time": "2024-03-25T19:23:17.829995",
     "status": "completed"
    },
    "tags": []
   },
   "outputs": [],
   "source": [
    "table20=logs_test[logs_test['time']> six_months_ago_test].groupby(['ID'])[['time']].nunique().reset_index()"
   ]
  },
  {
   "cell_type": "code",
   "execution_count": 33,
   "id": "9296d2d2",
   "metadata": {
    "execution": {
     "iopub.execute_input": "2024-03-25T19:23:18.604494Z",
     "iopub.status.busy": "2024-03-25T19:23:18.604079Z",
     "iopub.status.idle": "2024-03-25T19:23:18.626070Z",
     "shell.execute_reply": "2024-03-25T19:23:18.624997Z"
    },
    "id": "9JYUzXaetMzG",
    "outputId": "52a77321-73f7-47f4-d34d-467532d1fafe",
    "papermill": {
     "duration": 0.05175,
     "end_time": "2024-03-25T19:23:18.628305",
     "exception": false,
     "start_time": "2024-03-25T19:23:18.576555",
     "status": "completed"
    },
    "tags": []
   },
   "outputs": [
    {
     "name": "stdout",
     "output_type": "stream",
     "text": [
      "<class 'pandas.core.frame.DataFrame'>\n",
      "RangeIndex: 65259 entries, 0 to 65258\n",
      "Data columns (total 2 columns):\n",
      " #   Column  Non-Null Count  Dtype \n",
      "---  ------  --------------  ----- \n",
      " 0   ID      65259 non-null  object\n",
      " 1   time    65259 non-null  int64 \n",
      "dtypes: int64(1), object(1)\n",
      "memory usage: 1019.8+ KB\n"
     ]
    }
   ],
   "source": [
    "table20.info()"
   ]
  },
  {
   "cell_type": "markdown",
   "id": "511130d3",
   "metadata": {
    "id": "1HT4P48LNahV",
    "papermill": {
     "duration": 0.026616,
     "end_time": "2024-03-25T19:23:18.683244",
     "exception": false,
     "start_time": "2024-03-25T19:23:18.656628",
     "status": "completed"
    },
    "tags": []
   },
   "source": [
    "*Joining with train and test data*"
   ]
  },
  {
   "cell_type": "code",
   "execution_count": 34,
   "id": "38833bf7",
   "metadata": {
    "execution": {
     "iopub.execute_input": "2024-03-25T19:23:18.737572Z",
     "iopub.status.busy": "2024-03-25T19:23:18.736846Z",
     "iopub.status.idle": "2024-03-25T19:23:18.761389Z",
     "shell.execute_reply": "2024-03-25T19:23:18.760395Z"
    },
    "id": "ryLHF1_6NahV",
    "outputId": "aeb80264-61b7-4f27-8fbb-a72b97917d3e",
    "papermill": {
     "duration": 0.053458,
     "end_time": "2024-03-25T19:23:18.763321",
     "exception": false,
     "start_time": "2024-03-25T19:23:18.709863",
     "status": "completed"
    },
    "tags": []
   },
   "outputs": [
    {
     "name": "stdout",
     "output_type": "stream",
     "text": [
      "<class 'pandas.core.frame.DataFrame'>\n",
      "RangeIndex: 84377 entries, 0 to 84376\n",
      "Data columns (total 5 columns):\n",
      " #   Column  Non-Null Count  Dtype  \n",
      "---  ------  --------------  -----  \n",
      " 0   ID      84377 non-null  object \n",
      " 1   X1      83959 non-null  float64\n",
      " 2   X2      25179 non-null  float64\n",
      " 3   X3      83946 non-null  float64\n",
      " 4   X4      25131 non-null  float64\n",
      "dtypes: float64(4), object(1)\n",
      "memory usage: 3.2+ MB\n"
     ]
    }
   ],
   "source": [
    "train.iloc[:,[0,1,2,3,4]].info()"
   ]
  },
  {
   "cell_type": "code",
   "execution_count": 35,
   "id": "c477fbd4",
   "metadata": {
    "execution": {
     "iopub.execute_input": "2024-03-25T19:23:18.816443Z",
     "iopub.status.busy": "2024-03-25T19:23:18.816152Z",
     "iopub.status.idle": "2024-03-25T19:23:19.133118Z",
     "shell.execute_reply": "2024-03-25T19:23:19.131779Z"
    },
    "id": "bQeG7ZvRNahV",
    "outputId": "99a1b652-a914-42b2-c2e4-cccb109b1e4f",
    "papermill": {
     "duration": 0.345609,
     "end_time": "2024-03-25T19:23:19.135164",
     "exception": false,
     "start_time": "2024-03-25T19:23:18.789555",
     "status": "completed"
    },
    "tags": []
   },
   "outputs": [
    {
     "name": "stdout",
     "output_type": "stream",
     "text": [
      "<class 'pandas.core.frame.DataFrame'>\n",
      "RangeIndex: 5710093 entries, 0 to 5710092\n",
      "Data columns (total 4 columns):\n",
      " #   Column  Dtype         \n",
      "---  ------  -----         \n",
      " 0   ID      object        \n",
      " 1   time    datetime64[ns]\n",
      " 2   source  object        \n",
      " 3   event   object        \n",
      "dtypes: datetime64[ns](1), object(3)\n",
      "memory usage: 174.3+ MB\n"
     ]
    }
   ],
   "source": [
    "logs_train.iloc[:,[0,1,2,3]].info()"
   ]
  },
  {
   "cell_type": "code",
   "execution_count": 36,
   "id": "317a92db",
   "metadata": {
    "execution": {
     "iopub.execute_input": "2024-03-25T19:23:19.188942Z",
     "iopub.status.busy": "2024-03-25T19:23:19.188652Z",
     "iopub.status.idle": "2024-03-25T19:23:19.219001Z",
     "shell.execute_reply": "2024-03-25T19:23:19.218152Z"
    },
    "id": "baJz9I2GNahV",
    "outputId": "d4e35190-475b-4589-d417-d51bdda7c899",
    "papermill": {
     "duration": 0.05916,
     "end_time": "2024-03-25T19:23:19.221049",
     "exception": false,
     "start_time": "2024-03-25T19:23:19.161889",
     "status": "completed"
    },
    "tags": []
   },
   "outputs": [
    {
     "data": {
      "text/html": [
       "<div>\n",
       "<style scoped>\n",
       "    .dataframe tbody tr th:only-of-type {\n",
       "        vertical-align: middle;\n",
       "    }\n",
       "\n",
       "    .dataframe tbody tr th {\n",
       "        vertical-align: top;\n",
       "    }\n",
       "\n",
       "    .dataframe thead th {\n",
       "        text-align: right;\n",
       "    }\n",
       "</style>\n",
       "<table border=\"1\" class=\"dataframe\">\n",
       "  <thead>\n",
       "    <tr style=\"text-align: right;\">\n",
       "      <th></th>\n",
       "      <th>ID</th>\n",
       "      <th>X1</th>\n",
       "      <th>X2</th>\n",
       "      <th>X3</th>\n",
       "      <th>X4</th>\n",
       "      <th>X5</th>\n",
       "      <th>X6</th>\n",
       "      <th>X7</th>\n",
       "      <th>X8</th>\n",
       "      <th>X9</th>\n",
       "      <th>...</th>\n",
       "      <th>X131</th>\n",
       "      <th>X132</th>\n",
       "      <th>X133</th>\n",
       "      <th>X134</th>\n",
       "      <th>X135</th>\n",
       "      <th>X136</th>\n",
       "      <th>X137</th>\n",
       "      <th>X138</th>\n",
       "      <th>X139</th>\n",
       "      <th>label</th>\n",
       "    </tr>\n",
       "  </thead>\n",
       "  <tbody>\n",
       "    <tr>\n",
       "      <th>0</th>\n",
       "      <td>7054</td>\n",
       "      <td>2.015152</td>\n",
       "      <td>0.0</td>\n",
       "      <td>32.0</td>\n",
       "      <td>NaN</td>\n",
       "      <td>4.0</td>\n",
       "      <td>NaN</td>\n",
       "      <td>NaN</td>\n",
       "      <td>7.0</td>\n",
       "      <td>6.0</td>\n",
       "      <td>...</td>\n",
       "      <td>0.0</td>\n",
       "      <td>NaN</td>\n",
       "      <td>NaN</td>\n",
       "      <td>1.0</td>\n",
       "      <td>1.0</td>\n",
       "      <td>1.0</td>\n",
       "      <td>3.0</td>\n",
       "      <td>2.0</td>\n",
       "      <td>NaN</td>\n",
       "      <td>1</td>\n",
       "    </tr>\n",
       "    <tr>\n",
       "      <th>1</th>\n",
       "      <td>147131</td>\n",
       "      <td>1.000000</td>\n",
       "      <td>NaN</td>\n",
       "      <td>2.0</td>\n",
       "      <td>NaN</td>\n",
       "      <td>NaN</td>\n",
       "      <td>0.0</td>\n",
       "      <td>NaN</td>\n",
       "      <td>6.0</td>\n",
       "      <td>5.0</td>\n",
       "      <td>...</td>\n",
       "      <td>NaN</td>\n",
       "      <td>NaN</td>\n",
       "      <td>0.0</td>\n",
       "      <td>3.0</td>\n",
       "      <td>1.0</td>\n",
       "      <td>1.0</td>\n",
       "      <td>2.0</td>\n",
       "      <td>10.0</td>\n",
       "      <td>NaN</td>\n",
       "      <td>1</td>\n",
       "    </tr>\n",
       "    <tr>\n",
       "      <th>2</th>\n",
       "      <td>132068</td>\n",
       "      <td>1.000000</td>\n",
       "      <td>NaN</td>\n",
       "      <td>1.0</td>\n",
       "      <td>NaN</td>\n",
       "      <td>2.0</td>\n",
       "      <td>NaN</td>\n",
       "      <td>0.0</td>\n",
       "      <td>9.0</td>\n",
       "      <td>1.0</td>\n",
       "      <td>...</td>\n",
       "      <td>NaN</td>\n",
       "      <td>NaN</td>\n",
       "      <td>0.0</td>\n",
       "      <td>1.0</td>\n",
       "      <td>1.0</td>\n",
       "      <td>2.0</td>\n",
       "      <td>2.0</td>\n",
       "      <td>4.0</td>\n",
       "      <td>NaN</td>\n",
       "      <td>1</td>\n",
       "    </tr>\n",
       "    <tr>\n",
       "      <th>3</th>\n",
       "      <td>85195</td>\n",
       "      <td>2.071429</td>\n",
       "      <td>0.0</td>\n",
       "      <td>1.0</td>\n",
       "      <td>NaN</td>\n",
       "      <td>2.0</td>\n",
       "      <td>NaN</td>\n",
       "      <td>NaN</td>\n",
       "      <td>8.0</td>\n",
       "      <td>7.0</td>\n",
       "      <td>...</td>\n",
       "      <td>NaN</td>\n",
       "      <td>NaN</td>\n",
       "      <td>0.0</td>\n",
       "      <td>2.0</td>\n",
       "      <td>2.0</td>\n",
       "      <td>1.0</td>\n",
       "      <td>4.0</td>\n",
       "      <td>2.0</td>\n",
       "      <td>NaN</td>\n",
       "      <td>1</td>\n",
       "    </tr>\n",
       "    <tr>\n",
       "      <th>4</th>\n",
       "      <td>191948</td>\n",
       "      <td>2.000000</td>\n",
       "      <td>NaN</td>\n",
       "      <td>2.0</td>\n",
       "      <td>0.0</td>\n",
       "      <td>2.0</td>\n",
       "      <td>NaN</td>\n",
       "      <td>NaN</td>\n",
       "      <td>14.0</td>\n",
       "      <td>2.0</td>\n",
       "      <td>...</td>\n",
       "      <td>0.0</td>\n",
       "      <td>0.0</td>\n",
       "      <td>NaN</td>\n",
       "      <td>2.0</td>\n",
       "      <td>2.0</td>\n",
       "      <td>1.0</td>\n",
       "      <td>2.0</td>\n",
       "      <td>6.0</td>\n",
       "      <td>0.0</td>\n",
       "      <td>1</td>\n",
       "    </tr>\n",
       "  </tbody>\n",
       "</table>\n",
       "<p>5 rows × 141 columns</p>\n",
       "</div>"
      ],
      "text/plain": [
       "       ID        X1   X2    X3   X4   X5   X6   X7    X8   X9  ...  X131  \\\n",
       "0    7054  2.015152  0.0  32.0  NaN  4.0  NaN  NaN   7.0  6.0  ...   0.0   \n",
       "1  147131  1.000000  NaN   2.0  NaN  NaN  0.0  NaN   6.0  5.0  ...   NaN   \n",
       "2  132068  1.000000  NaN   1.0  NaN  2.0  NaN  0.0   9.0  1.0  ...   NaN   \n",
       "3   85195  2.071429  0.0   1.0  NaN  2.0  NaN  NaN   8.0  7.0  ...   NaN   \n",
       "4  191948  2.000000  NaN   2.0  0.0  2.0  NaN  NaN  14.0  2.0  ...   0.0   \n",
       "\n",
       "   X132  X133  X134  X135  X136  X137  X138  X139  label  \n",
       "0   NaN   NaN   1.0   1.0   1.0   3.0   2.0   NaN      1  \n",
       "1   NaN   0.0   3.0   1.0   1.0   2.0  10.0   NaN      1  \n",
       "2   NaN   0.0   1.0   1.0   2.0   2.0   4.0   NaN      1  \n",
       "3   NaN   0.0   2.0   2.0   1.0   4.0   2.0   NaN      1  \n",
       "4   0.0   NaN   2.0   2.0   1.0   2.0   6.0   0.0      1  \n",
       "\n",
       "[5 rows x 141 columns]"
      ]
     },
     "execution_count": 36,
     "metadata": {},
     "output_type": "execute_result"
    }
   ],
   "source": [
    "train.head()"
   ]
  },
  {
   "cell_type": "code",
   "execution_count": 37,
   "id": "bb6672c1",
   "metadata": {
    "execution": {
     "iopub.execute_input": "2024-03-25T19:23:19.276145Z",
     "iopub.status.busy": "2024-03-25T19:23:19.275864Z",
     "iopub.status.idle": "2024-03-25T19:23:19.281182Z",
     "shell.execute_reply": "2024-03-25T19:23:19.280357Z"
    },
    "id": "z8g1JLvN2TiW",
    "outputId": "c061a4a0-16a8-41f9-ee10-a27043248beb",
    "papermill": {
     "duration": 0.034034,
     "end_time": "2024-03-25T19:23:19.283108",
     "exception": false,
     "start_time": "2024-03-25T19:23:19.249074",
     "status": "completed"
    },
    "tags": []
   },
   "outputs": [
    {
     "data": {
      "text/plain": [
       "(84377, 141)"
      ]
     },
     "execution_count": 37,
     "metadata": {},
     "output_type": "execute_result"
    }
   ],
   "source": [
    "train.shape"
   ]
  },
  {
   "cell_type": "code",
   "execution_count": 38,
   "id": "e8bdc246",
   "metadata": {
    "execution": {
     "iopub.execute_input": "2024-03-25T19:23:19.335909Z",
     "iopub.status.busy": "2024-03-25T19:23:19.335651Z",
     "iopub.status.idle": "2024-03-25T19:23:21.048503Z",
     "shell.execute_reply": "2024-03-25T19:23:21.047390Z"
    },
    "id": "7MNmCrQDNahV",
    "papermill": {
     "duration": 1.741899,
     "end_time": "2024-03-25T19:23:21.050797",
     "exception": false,
     "start_time": "2024-03-25T19:23:19.308898",
     "status": "completed"
    },
    "tags": []
   },
   "outputs": [],
   "source": [
    "train_new=pd.merge(train, table1, on='ID', how='left')\n",
    "train_new.rename(columns={'time':'page_close'},inplace=True)\n",
    "train_new=pd.merge(train_new, table2, on='ID', how='left')\n",
    "train_new.rename(columns={'time':'access'},inplace=True)\n",
    "train_new=pd.merge(train_new, table3, on='ID', how='left')\n",
    "train_new.rename(columns={'time':'navigate'},inplace=True)\n",
    "train_new=pd.merge(train_new, table4, on='ID', how='left')\n",
    "train_new.rename(columns={'time':'video'},inplace=True)\n",
    "train_new=pd.merge(train_new, table5, on='ID', how='left')\n",
    "train_new.rename(columns={'time':'problem'},inplace=True)\n",
    "train_new=pd.merge(train_new, table6, on='ID', how='left')\n",
    "train_new.rename(columns={'time':'discussion'},inplace=True)\n",
    "train_new=pd.merge(train_new, table7, on='ID', how='left')\n",
    "train_new.rename(columns={'time':'wiki'},inplace=True)\n",
    "train_new=pd.merge(train_new, table8, on='ID', how='left')\n",
    "train_new.rename(columns={'time':'server'},inplace=True)\n",
    "train_new=pd.merge(train_new, table9, on='ID', how='left')\n",
    "train_new.rename(columns={'time':'browser'},inplace=True)\n",
    "train_new=pd.merge(train_new, table10, on='ID', how='left')\n",
    "train_new.rename(columns={'time':'accessed_in_last_6_mnths'},inplace=True)"
   ]
  },
  {
   "cell_type": "code",
   "execution_count": 39,
   "id": "93bfc274",
   "metadata": {
    "execution": {
     "iopub.execute_input": "2024-03-25T19:23:21.106002Z",
     "iopub.status.busy": "2024-03-25T19:23:21.105701Z",
     "iopub.status.idle": "2024-03-25T19:23:21.133837Z",
     "shell.execute_reply": "2024-03-25T19:23:21.132948Z"
    },
    "id": "G5FJkvCfNahV",
    "outputId": "438caa3d-694d-4826-8dfb-825e41b5b7b1",
    "papermill": {
     "duration": 0.058402,
     "end_time": "2024-03-25T19:23:21.135867",
     "exception": false,
     "start_time": "2024-03-25T19:23:21.077465",
     "status": "completed"
    },
    "tags": []
   },
   "outputs": [
    {
     "data": {
      "text/html": [
       "<div>\n",
       "<style scoped>\n",
       "    .dataframe tbody tr th:only-of-type {\n",
       "        vertical-align: middle;\n",
       "    }\n",
       "\n",
       "    .dataframe tbody tr th {\n",
       "        vertical-align: top;\n",
       "    }\n",
       "\n",
       "    .dataframe thead th {\n",
       "        text-align: right;\n",
       "    }\n",
       "</style>\n",
       "<table border=\"1\" class=\"dataframe\">\n",
       "  <thead>\n",
       "    <tr style=\"text-align: right;\">\n",
       "      <th></th>\n",
       "      <th>ID</th>\n",
       "      <th>X1</th>\n",
       "      <th>X2</th>\n",
       "      <th>X3</th>\n",
       "      <th>X4</th>\n",
       "      <th>X5</th>\n",
       "      <th>X6</th>\n",
       "      <th>X7</th>\n",
       "      <th>X8</th>\n",
       "      <th>X9</th>\n",
       "      <th>...</th>\n",
       "      <th>page_close</th>\n",
       "      <th>access</th>\n",
       "      <th>navigate</th>\n",
       "      <th>video</th>\n",
       "      <th>problem</th>\n",
       "      <th>discussion</th>\n",
       "      <th>wiki</th>\n",
       "      <th>server</th>\n",
       "      <th>browser</th>\n",
       "      <th>accessed_in_last_6_mnths</th>\n",
       "    </tr>\n",
       "  </thead>\n",
       "  <tbody>\n",
       "    <tr>\n",
       "      <th>0</th>\n",
       "      <td>7054</td>\n",
       "      <td>2.015152</td>\n",
       "      <td>0.0</td>\n",
       "      <td>32.0</td>\n",
       "      <td>NaN</td>\n",
       "      <td>4.0</td>\n",
       "      <td>NaN</td>\n",
       "      <td>NaN</td>\n",
       "      <td>7.0</td>\n",
       "      <td>6.0</td>\n",
       "      <td>...</td>\n",
       "      <td>NaN</td>\n",
       "      <td>NaN</td>\n",
       "      <td>NaN</td>\n",
       "      <td>NaN</td>\n",
       "      <td>NaN</td>\n",
       "      <td>NaN</td>\n",
       "      <td>NaN</td>\n",
       "      <td>NaN</td>\n",
       "      <td>NaN</td>\n",
       "      <td>NaN</td>\n",
       "    </tr>\n",
       "    <tr>\n",
       "      <th>1</th>\n",
       "      <td>147131</td>\n",
       "      <td>1.000000</td>\n",
       "      <td>NaN</td>\n",
       "      <td>2.0</td>\n",
       "      <td>NaN</td>\n",
       "      <td>NaN</td>\n",
       "      <td>0.0</td>\n",
       "      <td>NaN</td>\n",
       "      <td>6.0</td>\n",
       "      <td>5.0</td>\n",
       "      <td>...</td>\n",
       "      <td>NaN</td>\n",
       "      <td>NaN</td>\n",
       "      <td>1.0</td>\n",
       "      <td>NaN</td>\n",
       "      <td>NaN</td>\n",
       "      <td>NaN</td>\n",
       "      <td>NaN</td>\n",
       "      <td>1.0</td>\n",
       "      <td>NaN</td>\n",
       "      <td>1.0</td>\n",
       "    </tr>\n",
       "    <tr>\n",
       "      <th>2</th>\n",
       "      <td>132068</td>\n",
       "      <td>1.000000</td>\n",
       "      <td>NaN</td>\n",
       "      <td>1.0</td>\n",
       "      <td>NaN</td>\n",
       "      <td>2.0</td>\n",
       "      <td>NaN</td>\n",
       "      <td>0.0</td>\n",
       "      <td>9.0</td>\n",
       "      <td>1.0</td>\n",
       "      <td>...</td>\n",
       "      <td>NaN</td>\n",
       "      <td>NaN</td>\n",
       "      <td>NaN</td>\n",
       "      <td>NaN</td>\n",
       "      <td>NaN</td>\n",
       "      <td>NaN</td>\n",
       "      <td>NaN</td>\n",
       "      <td>NaN</td>\n",
       "      <td>NaN</td>\n",
       "      <td>NaN</td>\n",
       "    </tr>\n",
       "    <tr>\n",
       "      <th>3</th>\n",
       "      <td>85195</td>\n",
       "      <td>2.071429</td>\n",
       "      <td>0.0</td>\n",
       "      <td>1.0</td>\n",
       "      <td>NaN</td>\n",
       "      <td>2.0</td>\n",
       "      <td>NaN</td>\n",
       "      <td>NaN</td>\n",
       "      <td>8.0</td>\n",
       "      <td>7.0</td>\n",
       "      <td>...</td>\n",
       "      <td>10.0</td>\n",
       "      <td>14.0</td>\n",
       "      <td>5.0</td>\n",
       "      <td>9.0</td>\n",
       "      <td>1.0</td>\n",
       "      <td>NaN</td>\n",
       "      <td>1.0</td>\n",
       "      <td>16.0</td>\n",
       "      <td>19.0</td>\n",
       "      <td>30.0</td>\n",
       "    </tr>\n",
       "    <tr>\n",
       "      <th>4</th>\n",
       "      <td>191948</td>\n",
       "      <td>2.000000</td>\n",
       "      <td>NaN</td>\n",
       "      <td>2.0</td>\n",
       "      <td>0.0</td>\n",
       "      <td>2.0</td>\n",
       "      <td>NaN</td>\n",
       "      <td>NaN</td>\n",
       "      <td>14.0</td>\n",
       "      <td>2.0</td>\n",
       "      <td>...</td>\n",
       "      <td>NaN</td>\n",
       "      <td>NaN</td>\n",
       "      <td>NaN</td>\n",
       "      <td>NaN</td>\n",
       "      <td>NaN</td>\n",
       "      <td>NaN</td>\n",
       "      <td>NaN</td>\n",
       "      <td>NaN</td>\n",
       "      <td>NaN</td>\n",
       "      <td>NaN</td>\n",
       "    </tr>\n",
       "  </tbody>\n",
       "</table>\n",
       "<p>5 rows × 151 columns</p>\n",
       "</div>"
      ],
      "text/plain": [
       "       ID        X1   X2    X3   X4   X5   X6   X7    X8   X9  ...  \\\n",
       "0    7054  2.015152  0.0  32.0  NaN  4.0  NaN  NaN   7.0  6.0  ...   \n",
       "1  147131  1.000000  NaN   2.0  NaN  NaN  0.0  NaN   6.0  5.0  ...   \n",
       "2  132068  1.000000  NaN   1.0  NaN  2.0  NaN  0.0   9.0  1.0  ...   \n",
       "3   85195  2.071429  0.0   1.0  NaN  2.0  NaN  NaN   8.0  7.0  ...   \n",
       "4  191948  2.000000  NaN   2.0  0.0  2.0  NaN  NaN  14.0  2.0  ...   \n",
       "\n",
       "   page_close  access  navigate  video  problem  discussion  wiki  server  \\\n",
       "0         NaN     NaN       NaN    NaN      NaN         NaN   NaN     NaN   \n",
       "1         NaN     NaN       1.0    NaN      NaN         NaN   NaN     1.0   \n",
       "2         NaN     NaN       NaN    NaN      NaN         NaN   NaN     NaN   \n",
       "3        10.0    14.0       5.0    9.0      1.0         NaN   1.0    16.0   \n",
       "4         NaN     NaN       NaN    NaN      NaN         NaN   NaN     NaN   \n",
       "\n",
       "   browser  accessed_in_last_6_mnths  \n",
       "0      NaN                       NaN  \n",
       "1      NaN                       1.0  \n",
       "2      NaN                       NaN  \n",
       "3     19.0                      30.0  \n",
       "4      NaN                       NaN  \n",
       "\n",
       "[5 rows x 151 columns]"
      ]
     },
     "execution_count": 39,
     "metadata": {},
     "output_type": "execute_result"
    }
   ],
   "source": [
    "train_new.head()"
   ]
  },
  {
   "cell_type": "code",
   "execution_count": 40,
   "id": "9327f0d8",
   "metadata": {
    "execution": {
     "iopub.execute_input": "2024-03-25T19:23:21.190806Z",
     "iopub.status.busy": "2024-03-25T19:23:21.190523Z",
     "iopub.status.idle": "2024-03-25T19:23:21.195961Z",
     "shell.execute_reply": "2024-03-25T19:23:21.195209Z"
    },
    "id": "tipUIK0b2TiW",
    "outputId": "39fe5272-142c-4a36-e7ec-2835d2233ad4",
    "papermill": {
     "duration": 0.035431,
     "end_time": "2024-03-25T19:23:21.197916",
     "exception": false,
     "start_time": "2024-03-25T19:23:21.162485",
     "status": "completed"
    },
    "tags": []
   },
   "outputs": [
    {
     "data": {
      "text/plain": [
       "(84377, 151)"
      ]
     },
     "execution_count": 40,
     "metadata": {},
     "output_type": "execute_result"
    }
   ],
   "source": [
    "train_new.shape"
   ]
  },
  {
   "cell_type": "code",
   "execution_count": 41,
   "id": "e7ef59e1",
   "metadata": {
    "execution": {
     "iopub.execute_input": "2024-03-25T19:23:21.253627Z",
     "iopub.status.busy": "2024-03-25T19:23:21.252964Z",
     "iopub.status.idle": "2024-03-25T19:23:22.146103Z",
     "shell.execute_reply": "2024-03-25T19:23:22.145294Z"
    },
    "id": "nrFhk9BrtxLo",
    "papermill": {
     "duration": 0.924278,
     "end_time": "2024-03-25T19:23:22.148919",
     "exception": false,
     "start_time": "2024-03-25T19:23:21.224641",
     "status": "completed"
    },
    "tags": []
   },
   "outputs": [],
   "source": [
    "test_new=pd.merge(test, table11, on='ID', how='left')\n",
    "test_new.rename(columns={'time':'page_close'},inplace=True)\n",
    "test_new=pd.merge(test_new, table12, on='ID', how='left')\n",
    "test_new.rename(columns={'time':'access'},inplace=True)\n",
    "test_new=pd.merge(test_new, table13, on='ID', how='left')\n",
    "test_new.rename(columns={'time':'navigate'},inplace=True)\n",
    "test_new=pd.merge(test_new, table14, on='ID', how='left')\n",
    "test_new.rename(columns={'time':'video'},inplace=True)\n",
    "test_new=pd.merge(test_new, table15, on='ID', how='left')\n",
    "test_new.rename(columns={'time':'problem'},inplace=True)\n",
    "test_new=pd.merge(test_new, table16, on='ID', how='left')\n",
    "test_new.rename(columns={'time':'discussion'},inplace=True)\n",
    "test_new=pd.merge(test_new, table17, on='ID', how='left')\n",
    "test_new.rename(columns={'time':'wiki'},inplace=True)\n",
    "test_new=pd.merge(test_new, table18, on='ID', how='left')\n",
    "test_new.rename(columns={'time':'server'},inplace=True)\n",
    "test_new=pd.merge(test_new, table19, on='ID', how='left')\n",
    "test_new.rename(columns={'time':'browser'},inplace=True)\n",
    "test_new=pd.merge(test_new, table20, on='ID', how='left')\n",
    "test_new.rename(columns={'time':'accessed_in_last_6_mnths'},inplace=True)"
   ]
  },
  {
   "cell_type": "code",
   "execution_count": 42,
   "id": "fcf289e8",
   "metadata": {
    "execution": {
     "iopub.execute_input": "2024-03-25T19:23:22.207475Z",
     "iopub.status.busy": "2024-03-25T19:23:22.207146Z",
     "iopub.status.idle": "2024-03-25T19:23:22.235121Z",
     "shell.execute_reply": "2024-03-25T19:23:22.234302Z"
    },
    "id": "f0LhrdJKt5rS",
    "outputId": "dcc2098f-be62-40b1-ed69-e0d46a6acce2",
    "papermill": {
     "duration": 0.057785,
     "end_time": "2024-03-25T19:23:22.237200",
     "exception": false,
     "start_time": "2024-03-25T19:23:22.179415",
     "status": "completed"
    },
    "tags": []
   },
   "outputs": [
    {
     "data": {
      "text/html": [
       "<div>\n",
       "<style scoped>\n",
       "    .dataframe tbody tr th:only-of-type {\n",
       "        vertical-align: middle;\n",
       "    }\n",
       "\n",
       "    .dataframe tbody tr th {\n",
       "        vertical-align: top;\n",
       "    }\n",
       "\n",
       "    .dataframe thead th {\n",
       "        text-align: right;\n",
       "    }\n",
       "</style>\n",
       "<table border=\"1\" class=\"dataframe\">\n",
       "  <thead>\n",
       "    <tr style=\"text-align: right;\">\n",
       "      <th></th>\n",
       "      <th>ID</th>\n",
       "      <th>X1</th>\n",
       "      <th>X2</th>\n",
       "      <th>X3</th>\n",
       "      <th>X4</th>\n",
       "      <th>X5</th>\n",
       "      <th>X6</th>\n",
       "      <th>X7</th>\n",
       "      <th>X8</th>\n",
       "      <th>X9</th>\n",
       "      <th>...</th>\n",
       "      <th>page_close</th>\n",
       "      <th>access</th>\n",
       "      <th>navigate</th>\n",
       "      <th>video</th>\n",
       "      <th>problem</th>\n",
       "      <th>discussion</th>\n",
       "      <th>wiki</th>\n",
       "      <th>server</th>\n",
       "      <th>browser</th>\n",
       "      <th>accessed_in_last_6_mnths</th>\n",
       "    </tr>\n",
       "  </thead>\n",
       "  <tbody>\n",
       "    <tr>\n",
       "      <th>0</th>\n",
       "      <td>17547</td>\n",
       "      <td>1.272727</td>\n",
       "      <td>0.0</td>\n",
       "      <td>1.0</td>\n",
       "      <td>0.0</td>\n",
       "      <td>3.0</td>\n",
       "      <td>0.0</td>\n",
       "      <td>0.0</td>\n",
       "      <td>7.0</td>\n",
       "      <td>26.0</td>\n",
       "      <td>...</td>\n",
       "      <td>NaN</td>\n",
       "      <td>NaN</td>\n",
       "      <td>1.0</td>\n",
       "      <td>1.0</td>\n",
       "      <td>NaN</td>\n",
       "      <td>NaN</td>\n",
       "      <td>NaN</td>\n",
       "      <td>1.0</td>\n",
       "      <td>1.0</td>\n",
       "      <td>2.0</td>\n",
       "    </tr>\n",
       "    <tr>\n",
       "      <th>1</th>\n",
       "      <td>140449</td>\n",
       "      <td>1.000000</td>\n",
       "      <td>0.0</td>\n",
       "      <td>1.0</td>\n",
       "      <td>NaN</td>\n",
       "      <td>1.0</td>\n",
       "      <td>NaN</td>\n",
       "      <td>0.0</td>\n",
       "      <td>8.0</td>\n",
       "      <td>4.0</td>\n",
       "      <td>...</td>\n",
       "      <td>NaN</td>\n",
       "      <td>NaN</td>\n",
       "      <td>2.0</td>\n",
       "      <td>NaN</td>\n",
       "      <td>NaN</td>\n",
       "      <td>2.0</td>\n",
       "      <td>NaN</td>\n",
       "      <td>4.0</td>\n",
       "      <td>NaN</td>\n",
       "      <td>NaN</td>\n",
       "    </tr>\n",
       "    <tr>\n",
       "      <th>2</th>\n",
       "      <td>182658</td>\n",
       "      <td>2.000000</td>\n",
       "      <td>NaN</td>\n",
       "      <td>2.0</td>\n",
       "      <td>NaN</td>\n",
       "      <td>2.0</td>\n",
       "      <td>NaN</td>\n",
       "      <td>0.0</td>\n",
       "      <td>64.0</td>\n",
       "      <td>2.0</td>\n",
       "      <td>...</td>\n",
       "      <td>NaN</td>\n",
       "      <td>NaN</td>\n",
       "      <td>1.0</td>\n",
       "      <td>1.0</td>\n",
       "      <td>NaN</td>\n",
       "      <td>NaN</td>\n",
       "      <td>NaN</td>\n",
       "      <td>1.0</td>\n",
       "      <td>1.0</td>\n",
       "      <td>2.0</td>\n",
       "    </tr>\n",
       "    <tr>\n",
       "      <th>3</th>\n",
       "      <td>149652</td>\n",
       "      <td>1.000000</td>\n",
       "      <td>0.0</td>\n",
       "      <td>1.0</td>\n",
       "      <td>NaN</td>\n",
       "      <td>1.0</td>\n",
       "      <td>0.0</td>\n",
       "      <td>0.0</td>\n",
       "      <td>9.0</td>\n",
       "      <td>9.0</td>\n",
       "      <td>...</td>\n",
       "      <td>NaN</td>\n",
       "      <td>NaN</td>\n",
       "      <td>3.0</td>\n",
       "      <td>NaN</td>\n",
       "      <td>NaN</td>\n",
       "      <td>2.0</td>\n",
       "      <td>NaN</td>\n",
       "      <td>5.0</td>\n",
       "      <td>NaN</td>\n",
       "      <td>5.0</td>\n",
       "    </tr>\n",
       "    <tr>\n",
       "      <th>4</th>\n",
       "      <td>106304</td>\n",
       "      <td>2.000000</td>\n",
       "      <td>NaN</td>\n",
       "      <td>2.0</td>\n",
       "      <td>NaN</td>\n",
       "      <td>3.0</td>\n",
       "      <td>NaN</td>\n",
       "      <td>0.0</td>\n",
       "      <td>1.0</td>\n",
       "      <td>6.0</td>\n",
       "      <td>...</td>\n",
       "      <td>NaN</td>\n",
       "      <td>NaN</td>\n",
       "      <td>NaN</td>\n",
       "      <td>NaN</td>\n",
       "      <td>NaN</td>\n",
       "      <td>NaN</td>\n",
       "      <td>NaN</td>\n",
       "      <td>NaN</td>\n",
       "      <td>NaN</td>\n",
       "      <td>NaN</td>\n",
       "    </tr>\n",
       "  </tbody>\n",
       "</table>\n",
       "<p>5 rows × 150 columns</p>\n",
       "</div>"
      ],
      "text/plain": [
       "       ID        X1   X2   X3   X4   X5   X6   X7    X8    X9  ...  \\\n",
       "0   17547  1.272727  0.0  1.0  0.0  3.0  0.0  0.0   7.0  26.0  ...   \n",
       "1  140449  1.000000  0.0  1.0  NaN  1.0  NaN  0.0   8.0   4.0  ...   \n",
       "2  182658  2.000000  NaN  2.0  NaN  2.0  NaN  0.0  64.0   2.0  ...   \n",
       "3  149652  1.000000  0.0  1.0  NaN  1.0  0.0  0.0   9.0   9.0  ...   \n",
       "4  106304  2.000000  NaN  2.0  NaN  3.0  NaN  0.0   1.0   6.0  ...   \n",
       "\n",
       "   page_close  access  navigate  video  problem  discussion  wiki  server  \\\n",
       "0         NaN     NaN       1.0    1.0      NaN         NaN   NaN     1.0   \n",
       "1         NaN     NaN       2.0    NaN      NaN         2.0   NaN     4.0   \n",
       "2         NaN     NaN       1.0    1.0      NaN         NaN   NaN     1.0   \n",
       "3         NaN     NaN       3.0    NaN      NaN         2.0   NaN     5.0   \n",
       "4         NaN     NaN       NaN    NaN      NaN         NaN   NaN     NaN   \n",
       "\n",
       "   browser  accessed_in_last_6_mnths  \n",
       "0      1.0                       2.0  \n",
       "1      NaN                       NaN  \n",
       "2      1.0                       2.0  \n",
       "3      NaN                       5.0  \n",
       "4      NaN                       NaN  \n",
       "\n",
       "[5 rows x 150 columns]"
      ]
     },
     "execution_count": 42,
     "metadata": {},
     "output_type": "execute_result"
    }
   ],
   "source": [
    "test_new.head()"
   ]
  },
  {
   "cell_type": "code",
   "execution_count": 43,
   "id": "3776b65f",
   "metadata": {
    "execution": {
     "iopub.execute_input": "2024-03-25T19:23:22.292881Z",
     "iopub.status.busy": "2024-03-25T19:23:22.292631Z",
     "iopub.status.idle": "2024-03-25T19:23:22.299736Z",
     "shell.execute_reply": "2024-03-25T19:23:22.297248Z"
    },
    "id": "zSJbmUA62TiW",
    "outputId": "cf1a5d31-ed1d-470a-fe7c-171da34d72b9",
    "papermill": {
     "duration": 0.036824,
     "end_time": "2024-03-25T19:23:22.301717",
     "exception": false,
     "start_time": "2024-03-25T19:23:22.264893",
     "status": "completed"
    },
    "tags": []
   },
   "outputs": [
    {
     "data": {
      "text/plain": [
       "(35982, 150)"
      ]
     },
     "execution_count": 43,
     "metadata": {},
     "output_type": "execute_result"
    }
   ],
   "source": [
    "test_new.shape"
   ]
  },
  {
   "cell_type": "code",
   "execution_count": 44,
   "id": "fe3f725c",
   "metadata": {
    "execution": {
     "iopub.execute_input": "2024-03-25T19:23:22.357350Z",
     "iopub.status.busy": "2024-03-25T19:23:22.357077Z",
     "iopub.status.idle": "2024-03-25T19:23:22.526812Z",
     "shell.execute_reply": "2024-03-25T19:23:22.525917Z"
    },
    "id": "w119D8DpNahV",
    "outputId": "f45e7091-e39d-4ccf-b266-a023eea74f37",
    "papermill": {
     "duration": 0.20049,
     "end_time": "2024-03-25T19:23:22.529410",
     "exception": false,
     "start_time": "2024-03-25T19:23:22.328920",
     "status": "completed"
    },
    "tags": []
   },
   "outputs": [
    {
     "name": "stdout",
     "output_type": "stream",
     "text": [
      "drop columns number 2 with 70.158929566114 null values\n",
      "drop columns number 4 with 70.21581710655748 null values\n",
      "drop columns number 6 with 70.20870616400204 null values\n",
      "drop columns number 7 with 70.04870995650474 null values\n",
      "drop columns number 18 with 70.08663498346705 null values\n",
      "drop columns number 19 with 70.26085307607524 null values\n",
      "drop columns number 20 with 70.13759673844768 null values\n",
      "drop columns number 21 with 69.98352631641323 null values\n",
      "drop columns number 22 with 70.03804354267157 null values\n",
      "drop columns number 23 with 70.26085307607524 null values\n",
      "drop columns number 24 with 70.09848655439278 null values\n",
      "drop columns number 38 with 70.16841082285457 null values\n",
      "drop columns number 39 with 69.85434419332283 null values\n",
      "drop columns number 40 with 70.23477962003864 null values\n",
      "drop columns number 46 with 70.12100453915167 null values\n",
      "drop columns number 51 with 70.314185145241 null values\n",
      "drop columns number 53 with 70.25374213351981 null values\n",
      "drop columns number 54 with 70.0024888298944 null values\n",
      "drop columns number 55 with 70.25374213351981 null values\n",
      "drop columns number 58 with 70.27981558955639 null values\n",
      "drop columns number 59 with 70.1802623937803 null values\n",
      "drop columns number 60 with 70.18618817924316 null values\n",
      "drop columns number 61 with 70.25492729061237 null values\n",
      "drop columns number 62 with 69.87567702098913 null values\n",
      "drop columns number 63 with 70.20515069272432 null values\n",
      "drop columns number 66 with 70.06174668452303 null values\n",
      "drop columns number 67 with 70.15300378065112 null values\n",
      "drop columns number 68 with 69.8555293504154 null values\n",
      "drop columns number 70 with 70.30588904559299 null values\n",
      "drop columns number 71 with 69.94441613235834 null values\n",
      "drop columns number 73 with 70.29996326013013 null values\n",
      "drop columns number 75 with 70.06885762707847 null values\n",
      "drop columns number 76 with 69.91478720504402 null values\n",
      "drop columns number 88 with 70.10441233985564 null values\n",
      "drop columns number 89 with 70.13878189554026 null values\n",
      "drop columns number 91 with 70.3011484172227 null values\n",
      "drop columns number 93 with 70.09256076892993 null values\n",
      "drop columns number 94 with 70.27981558955639 null values\n",
      "drop columns number 106 with 70.20396553563175 null values\n",
      "drop columns number 119 with 70.12574516752196 null values\n",
      "drop columns number 120 with 69.9716747454875 null values\n",
      "drop columns number 123 with 70.07833888381904 null values\n",
      "drop columns number 124 with 70.3189257736113 null values\n",
      "drop columns number 129 with 70.13167095298482 null values\n",
      "drop columns number 130 with 69.90649110539601 null values\n",
      "drop columns number 131 with 70.27151948990839 null values\n",
      "drop columns number 132 with 70.15181862355855 null values\n",
      "drop columns number 133 with 69.93612003271033 null values\n",
      "drop columns number 139 with 70.39359067044336 null values\n",
      "drop columns number 141 with 61.567725802055065 null values\n",
      "drop columns number 142 with 55.51631368737926 null values\n",
      "drop columns number 144 with 65.77266316650272 null values\n",
      "drop columns number 145 with 80.0455100323548 null values\n",
      "drop columns number 146 with 81.44162508740533 null values\n",
      "drop columns number 147 with 87.26311672612205 null values\n",
      "drop columns number 149 with 58.1378811761499 null values\n",
      "drop columns number 150 with 63.478199035282124 null values\n"
     ]
    }
   ],
   "source": [
    "train_new.columns.to_list()\n",
    "list_cols=[]\n",
    "for i in range(len(train_new.columns.to_list())):\n",
    "   x=train_new.iloc[:,i].isna().sum()/len(train_new)*100\n",
    "   if (train_new.iloc[:,i].isna().sum()/len(train_new)*100)>50:\n",
    "          print(f'drop columns number',i,\"with\",x,\"null values\")\n",
    "   else:\n",
    "          list_cols.append(i)\n"
   ]
  },
  {
   "cell_type": "code",
   "execution_count": 45,
   "id": "9a4e2f78",
   "metadata": {
    "execution": {
     "iopub.execute_input": "2024-03-25T19:23:22.584981Z",
     "iopub.status.busy": "2024-03-25T19:23:22.584143Z",
     "iopub.status.idle": "2024-03-25T19:23:22.589932Z",
     "shell.execute_reply": "2024-03-25T19:23:22.589122Z"
    },
    "id": "BRuSDHIam3ht",
    "outputId": "dad4f21b-219e-4f28-e521-b7e4a80dc89b",
    "papermill": {
     "duration": 0.0351,
     "end_time": "2024-03-25T19:23:22.591811",
     "exception": false,
     "start_time": "2024-03-25T19:23:22.556711",
     "status": "completed"
    },
    "tags": []
   },
   "outputs": [
    {
     "data": {
      "text/plain": [
       "94"
      ]
     },
     "execution_count": 45,
     "metadata": {},
     "output_type": "execute_result"
    }
   ],
   "source": [
    "len(list_cols)"
   ]
  },
  {
   "cell_type": "code",
   "execution_count": 46,
   "id": "f04a9410",
   "metadata": {
    "execution": {
     "iopub.execute_input": "2024-03-25T19:23:22.647123Z",
     "iopub.status.busy": "2024-03-25T19:23:22.646867Z",
     "iopub.status.idle": "2024-03-25T19:23:22.671762Z",
     "shell.execute_reply": "2024-03-25T19:23:22.670989Z"
    },
    "id": "7-Qgtj-xkxoK",
    "papermill": {
     "duration": 0.055308,
     "end_time": "2024-03-25T19:23:22.673968",
     "exception": false,
     "start_time": "2024-03-25T19:23:22.618660",
     "status": "completed"
    },
    "tags": []
   },
   "outputs": [],
   "source": [
    "train_new1=train_new.iloc[:,list_cols]"
   ]
  },
  {
   "cell_type": "code",
   "execution_count": 47,
   "id": "987b5d6c",
   "metadata": {
    "execution": {
     "iopub.execute_input": "2024-03-25T19:23:22.729790Z",
     "iopub.status.busy": "2024-03-25T19:23:22.729283Z",
     "iopub.status.idle": "2024-03-25T19:23:22.755223Z",
     "shell.execute_reply": "2024-03-25T19:23:22.754431Z"
    },
    "id": "eF0H451n2TiW",
    "papermill": {
     "duration": 0.056109,
     "end_time": "2024-03-25T19:23:22.757532",
     "exception": false,
     "start_time": "2024-03-25T19:23:22.701423",
     "status": "completed"
    },
    "tags": []
   },
   "outputs": [],
   "source": [
    "test_cols=train_new1.drop('label',axis=1).columns.to_list()"
   ]
  },
  {
   "cell_type": "code",
   "execution_count": 48,
   "id": "9859f816",
   "metadata": {
    "execution": {
     "iopub.execute_input": "2024-03-25T19:23:22.815274Z",
     "iopub.status.busy": "2024-03-25T19:23:22.814974Z",
     "iopub.status.idle": "2024-03-25T19:23:22.829531Z",
     "shell.execute_reply": "2024-03-25T19:23:22.828628Z"
    },
    "id": "XvD6kvJgqKWg",
    "papermill": {
     "duration": 0.044262,
     "end_time": "2024-03-25T19:23:22.831464",
     "exception": false,
     "start_time": "2024-03-25T19:23:22.787202",
     "status": "completed"
    },
    "tags": []
   },
   "outputs": [],
   "source": [
    "test_new1=test_new[test_cols]"
   ]
  },
  {
   "cell_type": "code",
   "execution_count": 49,
   "id": "58d91a4b",
   "metadata": {
    "execution": {
     "iopub.execute_input": "2024-03-25T19:23:22.886678Z",
     "iopub.status.busy": "2024-03-25T19:23:22.886383Z",
     "iopub.status.idle": "2024-03-25T19:23:22.915110Z",
     "shell.execute_reply": "2024-03-25T19:23:22.914239Z"
    },
    "id": "-ZCXiMAoqFvj",
    "outputId": "8491ed50-03b7-4678-b908-b2aceb321ab8",
    "papermill": {
     "duration": 0.058995,
     "end_time": "2024-03-25T19:23:22.917400",
     "exception": false,
     "start_time": "2024-03-25T19:23:22.858405",
     "status": "completed"
    },
    "tags": []
   },
   "outputs": [
    {
     "data": {
      "text/html": [
       "<div>\n",
       "<style scoped>\n",
       "    .dataframe tbody tr th:only-of-type {\n",
       "        vertical-align: middle;\n",
       "    }\n",
       "\n",
       "    .dataframe tbody tr th {\n",
       "        vertical-align: top;\n",
       "    }\n",
       "\n",
       "    .dataframe thead th {\n",
       "        text-align: right;\n",
       "    }\n",
       "</style>\n",
       "<table border=\"1\" class=\"dataframe\">\n",
       "  <thead>\n",
       "    <tr style=\"text-align: right;\">\n",
       "      <th></th>\n",
       "      <th>ID</th>\n",
       "      <th>X1</th>\n",
       "      <th>X3</th>\n",
       "      <th>X5</th>\n",
       "      <th>X8</th>\n",
       "      <th>X9</th>\n",
       "      <th>X10</th>\n",
       "      <th>X11</th>\n",
       "      <th>X12</th>\n",
       "      <th>X13</th>\n",
       "      <th>...</th>\n",
       "      <th>X127</th>\n",
       "      <th>X128</th>\n",
       "      <th>X134</th>\n",
       "      <th>X135</th>\n",
       "      <th>X136</th>\n",
       "      <th>X137</th>\n",
       "      <th>X138</th>\n",
       "      <th>label</th>\n",
       "      <th>navigate</th>\n",
       "      <th>server</th>\n",
       "    </tr>\n",
       "  </thead>\n",
       "  <tbody>\n",
       "    <tr>\n",
       "      <th>0</th>\n",
       "      <td>7054</td>\n",
       "      <td>2.015152</td>\n",
       "      <td>32.0</td>\n",
       "      <td>4.0</td>\n",
       "      <td>7.0</td>\n",
       "      <td>6.0</td>\n",
       "      <td>2.0</td>\n",
       "      <td>5.0</td>\n",
       "      <td>2.0</td>\n",
       "      <td>15.0</td>\n",
       "      <td>...</td>\n",
       "      <td>18.0</td>\n",
       "      <td>13.0</td>\n",
       "      <td>1.0</td>\n",
       "      <td>1.0</td>\n",
       "      <td>1.0</td>\n",
       "      <td>3.0</td>\n",
       "      <td>2.0</td>\n",
       "      <td>1</td>\n",
       "      <td>NaN</td>\n",
       "      <td>NaN</td>\n",
       "    </tr>\n",
       "    <tr>\n",
       "      <th>1</th>\n",
       "      <td>147131</td>\n",
       "      <td>1.000000</td>\n",
       "      <td>2.0</td>\n",
       "      <td>NaN</td>\n",
       "      <td>6.0</td>\n",
       "      <td>5.0</td>\n",
       "      <td>8.0</td>\n",
       "      <td>4.0</td>\n",
       "      <td>7.0</td>\n",
       "      <td>12.0</td>\n",
       "      <td>...</td>\n",
       "      <td>9.0</td>\n",
       "      <td>4.0</td>\n",
       "      <td>3.0</td>\n",
       "      <td>1.0</td>\n",
       "      <td>1.0</td>\n",
       "      <td>2.0</td>\n",
       "      <td>10.0</td>\n",
       "      <td>1</td>\n",
       "      <td>1.0</td>\n",
       "      <td>1.0</td>\n",
       "    </tr>\n",
       "    <tr>\n",
       "      <th>2</th>\n",
       "      <td>132068</td>\n",
       "      <td>1.000000</td>\n",
       "      <td>1.0</td>\n",
       "      <td>2.0</td>\n",
       "      <td>9.0</td>\n",
       "      <td>1.0</td>\n",
       "      <td>7.0</td>\n",
       "      <td>10.0</td>\n",
       "      <td>7.0</td>\n",
       "      <td>17.0</td>\n",
       "      <td>...</td>\n",
       "      <td>2.0</td>\n",
       "      <td>1.0</td>\n",
       "      <td>1.0</td>\n",
       "      <td>1.0</td>\n",
       "      <td>2.0</td>\n",
       "      <td>2.0</td>\n",
       "      <td>4.0</td>\n",
       "      <td>1</td>\n",
       "      <td>NaN</td>\n",
       "      <td>NaN</td>\n",
       "    </tr>\n",
       "    <tr>\n",
       "      <th>3</th>\n",
       "      <td>85195</td>\n",
       "      <td>2.071429</td>\n",
       "      <td>1.0</td>\n",
       "      <td>2.0</td>\n",
       "      <td>8.0</td>\n",
       "      <td>7.0</td>\n",
       "      <td>9.0</td>\n",
       "      <td>4.0</td>\n",
       "      <td>18.0</td>\n",
       "      <td>8.0</td>\n",
       "      <td>...</td>\n",
       "      <td>12.0</td>\n",
       "      <td>12.0</td>\n",
       "      <td>2.0</td>\n",
       "      <td>2.0</td>\n",
       "      <td>1.0</td>\n",
       "      <td>4.0</td>\n",
       "      <td>2.0</td>\n",
       "      <td>1</td>\n",
       "      <td>5.0</td>\n",
       "      <td>16.0</td>\n",
       "    </tr>\n",
       "    <tr>\n",
       "      <th>4</th>\n",
       "      <td>191948</td>\n",
       "      <td>2.000000</td>\n",
       "      <td>2.0</td>\n",
       "      <td>2.0</td>\n",
       "      <td>14.0</td>\n",
       "      <td>2.0</td>\n",
       "      <td>2.0</td>\n",
       "      <td>4.0</td>\n",
       "      <td>4.0</td>\n",
       "      <td>3.0</td>\n",
       "      <td>...</td>\n",
       "      <td>14.0</td>\n",
       "      <td>3.0</td>\n",
       "      <td>2.0</td>\n",
       "      <td>2.0</td>\n",
       "      <td>1.0</td>\n",
       "      <td>2.0</td>\n",
       "      <td>6.0</td>\n",
       "      <td>1</td>\n",
       "      <td>NaN</td>\n",
       "      <td>NaN</td>\n",
       "    </tr>\n",
       "  </tbody>\n",
       "</table>\n",
       "<p>5 rows × 94 columns</p>\n",
       "</div>"
      ],
      "text/plain": [
       "       ID        X1    X3   X5    X8   X9  X10   X11   X12   X13  ...  X127  \\\n",
       "0    7054  2.015152  32.0  4.0   7.0  6.0  2.0   5.0   2.0  15.0  ...  18.0   \n",
       "1  147131  1.000000   2.0  NaN   6.0  5.0  8.0   4.0   7.0  12.0  ...   9.0   \n",
       "2  132068  1.000000   1.0  2.0   9.0  1.0  7.0  10.0   7.0  17.0  ...   2.0   \n",
       "3   85195  2.071429   1.0  2.0   8.0  7.0  9.0   4.0  18.0   8.0  ...  12.0   \n",
       "4  191948  2.000000   2.0  2.0  14.0  2.0  2.0   4.0   4.0   3.0  ...  14.0   \n",
       "\n",
       "   X128  X134  X135  X136  X137  X138  label  navigate  server  \n",
       "0  13.0   1.0   1.0   1.0   3.0   2.0      1       NaN     NaN  \n",
       "1   4.0   3.0   1.0   1.0   2.0  10.0      1       1.0     1.0  \n",
       "2   1.0   1.0   1.0   2.0   2.0   4.0      1       NaN     NaN  \n",
       "3  12.0   2.0   2.0   1.0   4.0   2.0      1       5.0    16.0  \n",
       "4   3.0   2.0   2.0   1.0   2.0   6.0      1       NaN     NaN  \n",
       "\n",
       "[5 rows x 94 columns]"
      ]
     },
     "execution_count": 49,
     "metadata": {},
     "output_type": "execute_result"
    }
   ],
   "source": [
    "train_new1.head()"
   ]
  },
  {
   "cell_type": "code",
   "execution_count": 50,
   "id": "485e63fd",
   "metadata": {
    "execution": {
     "iopub.execute_input": "2024-03-25T19:23:22.975024Z",
     "iopub.status.busy": "2024-03-25T19:23:22.974754Z",
     "iopub.status.idle": "2024-03-25T19:23:22.980006Z",
     "shell.execute_reply": "2024-03-25T19:23:22.979211Z"
    },
    "id": "6mIWArXLNahV",
    "outputId": "82824280-5611-4254-cc6b-4fefeadf4fca",
    "papermill": {
     "duration": 0.036233,
     "end_time": "2024-03-25T19:23:22.981787",
     "exception": false,
     "start_time": "2024-03-25T19:23:22.945554",
     "status": "completed"
    },
    "tags": []
   },
   "outputs": [
    {
     "data": {
      "text/plain": [
       "(84377, 94)"
      ]
     },
     "execution_count": 50,
     "metadata": {},
     "output_type": "execute_result"
    }
   ],
   "source": [
    "train_new1.shape"
   ]
  },
  {
   "cell_type": "code",
   "execution_count": 51,
   "id": "6ac77d7f",
   "metadata": {
    "execution": {
     "iopub.execute_input": "2024-03-25T19:23:23.037820Z",
     "iopub.status.busy": "2024-03-25T19:23:23.037570Z",
     "iopub.status.idle": "2024-03-25T19:23:23.066215Z",
     "shell.execute_reply": "2024-03-25T19:23:23.065372Z"
    },
    "id": "gcOMewQUNahV",
    "outputId": "cb7e1545-81a5-4cef-cc1b-39f2827e6f29",
    "papermill": {
     "duration": 0.058481,
     "end_time": "2024-03-25T19:23:23.068080",
     "exception": false,
     "start_time": "2024-03-25T19:23:23.009599",
     "status": "completed"
    },
    "tags": []
   },
   "outputs": [
    {
     "data": {
      "text/html": [
       "<div>\n",
       "<style scoped>\n",
       "    .dataframe tbody tr th:only-of-type {\n",
       "        vertical-align: middle;\n",
       "    }\n",
       "\n",
       "    .dataframe tbody tr th {\n",
       "        vertical-align: top;\n",
       "    }\n",
       "\n",
       "    .dataframe thead th {\n",
       "        text-align: right;\n",
       "    }\n",
       "</style>\n",
       "<table border=\"1\" class=\"dataframe\">\n",
       "  <thead>\n",
       "    <tr style=\"text-align: right;\">\n",
       "      <th></th>\n",
       "      <th>ID</th>\n",
       "      <th>X1</th>\n",
       "      <th>X3</th>\n",
       "      <th>X5</th>\n",
       "      <th>X8</th>\n",
       "      <th>X9</th>\n",
       "      <th>X10</th>\n",
       "      <th>X11</th>\n",
       "      <th>X12</th>\n",
       "      <th>X13</th>\n",
       "      <th>...</th>\n",
       "      <th>X126</th>\n",
       "      <th>X127</th>\n",
       "      <th>X128</th>\n",
       "      <th>X134</th>\n",
       "      <th>X135</th>\n",
       "      <th>X136</th>\n",
       "      <th>X137</th>\n",
       "      <th>X138</th>\n",
       "      <th>navigate</th>\n",
       "      <th>server</th>\n",
       "    </tr>\n",
       "  </thead>\n",
       "  <tbody>\n",
       "    <tr>\n",
       "      <th>0</th>\n",
       "      <td>17547</td>\n",
       "      <td>1.272727</td>\n",
       "      <td>1.0</td>\n",
       "      <td>3.0</td>\n",
       "      <td>7.0</td>\n",
       "      <td>26.0</td>\n",
       "      <td>48.0</td>\n",
       "      <td>8.0</td>\n",
       "      <td>8.0</td>\n",
       "      <td>9.0</td>\n",
       "      <td>...</td>\n",
       "      <td>1.0</td>\n",
       "      <td>19.0</td>\n",
       "      <td>42.0</td>\n",
       "      <td>2.0</td>\n",
       "      <td>6.0</td>\n",
       "      <td>2.0</td>\n",
       "      <td>4.0</td>\n",
       "      <td>3.0</td>\n",
       "      <td>1.0</td>\n",
       "      <td>1.0</td>\n",
       "    </tr>\n",
       "    <tr>\n",
       "      <th>1</th>\n",
       "      <td>140449</td>\n",
       "      <td>1.000000</td>\n",
       "      <td>1.0</td>\n",
       "      <td>1.0</td>\n",
       "      <td>8.0</td>\n",
       "      <td>4.0</td>\n",
       "      <td>5.0</td>\n",
       "      <td>3.0</td>\n",
       "      <td>1.0</td>\n",
       "      <td>6.0</td>\n",
       "      <td>...</td>\n",
       "      <td>1.0</td>\n",
       "      <td>17.0</td>\n",
       "      <td>3.0</td>\n",
       "      <td>3.0</td>\n",
       "      <td>2.0</td>\n",
       "      <td>2.0</td>\n",
       "      <td>2.0</td>\n",
       "      <td>5.0</td>\n",
       "      <td>2.0</td>\n",
       "      <td>4.0</td>\n",
       "    </tr>\n",
       "    <tr>\n",
       "      <th>2</th>\n",
       "      <td>182658</td>\n",
       "      <td>2.000000</td>\n",
       "      <td>2.0</td>\n",
       "      <td>2.0</td>\n",
       "      <td>64.0</td>\n",
       "      <td>2.0</td>\n",
       "      <td>7.0</td>\n",
       "      <td>8.0</td>\n",
       "      <td>14.0</td>\n",
       "      <td>19.0</td>\n",
       "      <td>...</td>\n",
       "      <td>1.0</td>\n",
       "      <td>16.0</td>\n",
       "      <td>12.0</td>\n",
       "      <td>2.0</td>\n",
       "      <td>4.0</td>\n",
       "      <td>1.0</td>\n",
       "      <td>1.0</td>\n",
       "      <td>7.0</td>\n",
       "      <td>1.0</td>\n",
       "      <td>1.0</td>\n",
       "    </tr>\n",
       "    <tr>\n",
       "      <th>3</th>\n",
       "      <td>149652</td>\n",
       "      <td>1.000000</td>\n",
       "      <td>1.0</td>\n",
       "      <td>1.0</td>\n",
       "      <td>9.0</td>\n",
       "      <td>9.0</td>\n",
       "      <td>10.0</td>\n",
       "      <td>1.0</td>\n",
       "      <td>15.0</td>\n",
       "      <td>19.0</td>\n",
       "      <td>...</td>\n",
       "      <td>1.0</td>\n",
       "      <td>16.0</td>\n",
       "      <td>3.0</td>\n",
       "      <td>3.0</td>\n",
       "      <td>1.0</td>\n",
       "      <td>1.0</td>\n",
       "      <td>2.0</td>\n",
       "      <td>7.0</td>\n",
       "      <td>3.0</td>\n",
       "      <td>5.0</td>\n",
       "    </tr>\n",
       "    <tr>\n",
       "      <th>4</th>\n",
       "      <td>106304</td>\n",
       "      <td>2.000000</td>\n",
       "      <td>2.0</td>\n",
       "      <td>3.0</td>\n",
       "      <td>1.0</td>\n",
       "      <td>6.0</td>\n",
       "      <td>4.0</td>\n",
       "      <td>2.0</td>\n",
       "      <td>4.0</td>\n",
       "      <td>4.0</td>\n",
       "      <td>...</td>\n",
       "      <td>1.0</td>\n",
       "      <td>7.0</td>\n",
       "      <td>1.0</td>\n",
       "      <td>1.0</td>\n",
       "      <td>2.0</td>\n",
       "      <td>2.0</td>\n",
       "      <td>2.0</td>\n",
       "      <td>2.0</td>\n",
       "      <td>NaN</td>\n",
       "      <td>NaN</td>\n",
       "    </tr>\n",
       "  </tbody>\n",
       "</table>\n",
       "<p>5 rows × 93 columns</p>\n",
       "</div>"
      ],
      "text/plain": [
       "       ID        X1   X3   X5    X8    X9   X10  X11   X12   X13  ...  X126  \\\n",
       "0   17547  1.272727  1.0  3.0   7.0  26.0  48.0  8.0   8.0   9.0  ...   1.0   \n",
       "1  140449  1.000000  1.0  1.0   8.0   4.0   5.0  3.0   1.0   6.0  ...   1.0   \n",
       "2  182658  2.000000  2.0  2.0  64.0   2.0   7.0  8.0  14.0  19.0  ...   1.0   \n",
       "3  149652  1.000000  1.0  1.0   9.0   9.0  10.0  1.0  15.0  19.0  ...   1.0   \n",
       "4  106304  2.000000  2.0  3.0   1.0   6.0   4.0  2.0   4.0   4.0  ...   1.0   \n",
       "\n",
       "   X127  X128  X134  X135  X136  X137  X138  navigate  server  \n",
       "0  19.0  42.0   2.0   6.0   2.0   4.0   3.0       1.0     1.0  \n",
       "1  17.0   3.0   3.0   2.0   2.0   2.0   5.0       2.0     4.0  \n",
       "2  16.0  12.0   2.0   4.0   1.0   1.0   7.0       1.0     1.0  \n",
       "3  16.0   3.0   3.0   1.0   1.0   2.0   7.0       3.0     5.0  \n",
       "4   7.0   1.0   1.0   2.0   2.0   2.0   2.0       NaN     NaN  \n",
       "\n",
       "[5 rows x 93 columns]"
      ]
     },
     "execution_count": 51,
     "metadata": {},
     "output_type": "execute_result"
    }
   ],
   "source": [
    "test_new1.head()"
   ]
  },
  {
   "cell_type": "code",
   "execution_count": 52,
   "id": "0a093037",
   "metadata": {
    "execution": {
     "iopub.execute_input": "2024-03-25T19:23:23.127528Z",
     "iopub.status.busy": "2024-03-25T19:23:23.127207Z",
     "iopub.status.idle": "2024-03-25T19:23:23.132792Z",
     "shell.execute_reply": "2024-03-25T19:23:23.131943Z"
    },
    "id": "3PwAZF4w2Tif",
    "outputId": "a306672c-6da8-41a8-bf5b-48b6c471b717",
    "papermill": {
     "duration": 0.037375,
     "end_time": "2024-03-25T19:23:23.134833",
     "exception": false,
     "start_time": "2024-03-25T19:23:23.097458",
     "status": "completed"
    },
    "tags": []
   },
   "outputs": [
    {
     "data": {
      "text/plain": [
       "(35982, 93)"
      ]
     },
     "execution_count": 52,
     "metadata": {},
     "output_type": "execute_result"
    }
   ],
   "source": [
    "test_new1.shape"
   ]
  },
  {
   "cell_type": "markdown",
   "id": "69bd50b9",
   "metadata": {
    "id": "LdVC18YTNahV",
    "papermill": {
     "duration": 0.028897,
     "end_time": "2024-03-25T19:23:23.192413",
     "exception": false,
     "start_time": "2024-03-25T19:23:23.163516",
     "status": "completed"
    },
    "tags": []
   },
   "source": [
    "**Handling Missing values **"
   ]
  },
  {
   "cell_type": "code",
   "execution_count": 53,
   "id": "793b70b5",
   "metadata": {
    "execution": {
     "iopub.execute_input": "2024-03-25T19:23:23.249515Z",
     "iopub.status.busy": "2024-03-25T19:23:23.249154Z",
     "iopub.status.idle": "2024-03-25T19:23:23.282388Z",
     "shell.execute_reply": "2024-03-25T19:23:23.281564Z"
    },
    "id": "hPNcr4PONahV",
    "papermill": {
     "duration": 0.064317,
     "end_time": "2024-03-25T19:23:23.284892",
     "exception": false,
     "start_time": "2024-03-25T19:23:23.220575",
     "status": "completed"
    },
    "tags": []
   },
   "outputs": [],
   "source": [
    "train_new_X=train_new1.drop(['label','ID'],axis=1)\n",
    "test_new_X=test_new1.drop(['ID'],axis=1)"
   ]
  },
  {
   "cell_type": "code",
   "execution_count": 54,
   "id": "c4cd84cf",
   "metadata": {
    "execution": {
     "iopub.execute_input": "2024-03-25T19:23:23.343781Z",
     "iopub.status.busy": "2024-03-25T19:23:23.343449Z",
     "iopub.status.idle": "2024-03-25T19:23:23.349976Z",
     "shell.execute_reply": "2024-03-25T19:23:23.349055Z"
    },
    "id": "d9RIXmyu2Tif",
    "outputId": "235c0d2a-1262-4620-b58a-7323b9d33114",
    "papermill": {
     "duration": 0.037548,
     "end_time": "2024-03-25T19:23:23.351818",
     "exception": false,
     "start_time": "2024-03-25T19:23:23.314270",
     "status": "completed"
    },
    "tags": []
   },
   "outputs": [
    {
     "name": "stdout",
     "output_type": "stream",
     "text": [
      "(84377, 92)\n"
     ]
    },
    {
     "data": {
      "text/plain": [
       "(35982, 92)"
      ]
     },
     "execution_count": 54,
     "metadata": {},
     "output_type": "execute_result"
    }
   ],
   "source": [
    "print(train_new_X.shape)\n",
    "test_new_X.shape"
   ]
  },
  {
   "cell_type": "code",
   "execution_count": 55,
   "id": "491bcfb5",
   "metadata": {
    "execution": {
     "iopub.execute_input": "2024-03-25T19:23:23.409552Z",
     "iopub.status.busy": "2024-03-25T19:23:23.409274Z",
     "iopub.status.idle": "2024-03-25T19:23:24.009093Z",
     "shell.execute_reply": "2024-03-25T19:23:24.008320Z"
    },
    "id": "q5ToxswnNahV",
    "papermill": {
     "duration": 0.631553,
     "end_time": "2024-03-25T19:23:24.011444",
     "exception": false,
     "start_time": "2024-03-25T19:23:23.379891",
     "status": "completed"
    },
    "tags": []
   },
   "outputs": [],
   "source": [
    "from sklearn.impute import SimpleImputer\n",
    "imputer=SimpleImputer(strategy='mean')\n",
    "train_imputed=imputer.fit_transform(train_new_X)"
   ]
  },
  {
   "cell_type": "code",
   "execution_count": 56,
   "id": "80d96018",
   "metadata": {
    "execution": {
     "iopub.execute_input": "2024-03-25T19:23:24.071141Z",
     "iopub.status.busy": "2024-03-25T19:23:24.070635Z",
     "iopub.status.idle": "2024-03-25T19:23:24.137246Z",
     "shell.execute_reply": "2024-03-25T19:23:24.136426Z"
    },
    "id": "RTtX9v99wMDo",
    "papermill": {
     "duration": 0.098915,
     "end_time": "2024-03-25T19:23:24.139573",
     "exception": false,
     "start_time": "2024-03-25T19:23:24.040658",
     "status": "completed"
    },
    "tags": []
   },
   "outputs": [],
   "source": [
    "test_imputed=imputer.fit_transform(test_new_X)"
   ]
  },
  {
   "cell_type": "code",
   "execution_count": 57,
   "id": "c6659937",
   "metadata": {
    "execution": {
     "iopub.execute_input": "2024-03-25T19:23:24.199114Z",
     "iopub.status.busy": "2024-03-25T19:23:24.198810Z",
     "iopub.status.idle": "2024-03-25T19:23:24.203322Z",
     "shell.execute_reply": "2024-03-25T19:23:24.202474Z"
    },
    "id": "D6tSO0a5NahV",
    "papermill": {
     "duration": 0.035954,
     "end_time": "2024-03-25T19:23:24.205228",
     "exception": false,
     "start_time": "2024-03-25T19:23:24.169274",
     "status": "completed"
    },
    "tags": []
   },
   "outputs": [],
   "source": [
    "train_imputed=pd.DataFrame(train_imputed,columns=train_new_X.columns.to_list())"
   ]
  },
  {
   "cell_type": "code",
   "execution_count": 58,
   "id": "3e341532",
   "metadata": {
    "execution": {
     "iopub.execute_input": "2024-03-25T19:23:24.264041Z",
     "iopub.status.busy": "2024-03-25T19:23:24.263749Z",
     "iopub.status.idle": "2024-03-25T19:23:24.269776Z",
     "shell.execute_reply": "2024-03-25T19:23:24.268806Z"
    },
    "id": "60gf0WsL2Tif",
    "outputId": "5e2b80ca-3f8a-4697-d51d-0ac47ca61dbf",
    "papermill": {
     "duration": 0.038255,
     "end_time": "2024-03-25T19:23:24.271879",
     "exception": false,
     "start_time": "2024-03-25T19:23:24.233624",
     "status": "completed"
    },
    "tags": []
   },
   "outputs": [
    {
     "data": {
      "text/plain": [
       "(84377, 92)"
      ]
     },
     "execution_count": 58,
     "metadata": {},
     "output_type": "execute_result"
    }
   ],
   "source": [
    "train_imputed.shape"
   ]
  },
  {
   "cell_type": "code",
   "execution_count": 59,
   "id": "65651ce1",
   "metadata": {
    "execution": {
     "iopub.execute_input": "2024-03-25T19:23:24.331941Z",
     "iopub.status.busy": "2024-03-25T19:23:24.331661Z",
     "iopub.status.idle": "2024-03-25T19:23:24.335961Z",
     "shell.execute_reply": "2024-03-25T19:23:24.335058Z"
    },
    "id": "CorPOmHsxN_n",
    "papermill": {
     "duration": 0.036181,
     "end_time": "2024-03-25T19:23:24.337936",
     "exception": false,
     "start_time": "2024-03-25T19:23:24.301755",
     "status": "completed"
    },
    "tags": []
   },
   "outputs": [],
   "source": [
    "test_imputed=pd.DataFrame(test_imputed,columns=test_new_X.columns.to_list())"
   ]
  },
  {
   "cell_type": "code",
   "execution_count": 60,
   "id": "c5ee2992",
   "metadata": {
    "execution": {
     "iopub.execute_input": "2024-03-25T19:23:24.395717Z",
     "iopub.status.busy": "2024-03-25T19:23:24.395428Z",
     "iopub.status.idle": "2024-03-25T19:23:24.460936Z",
     "shell.execute_reply": "2024-03-25T19:23:24.459842Z"
    },
    "id": "mriXm6PNNahW",
    "papermill": {
     "duration": 0.096949,
     "end_time": "2024-03-25T19:23:24.463264",
     "exception": false,
     "start_time": "2024-03-25T19:23:24.366315",
     "status": "completed"
    },
    "tags": []
   },
   "outputs": [],
   "source": [
    "from sklearn.preprocessing import MinMaxScaler\n",
    "scaler=MinMaxScaler()\n",
    "train_norm=scaler.fit_transform(train_imputed)"
   ]
  },
  {
   "cell_type": "code",
   "execution_count": 61,
   "id": "69743cef",
   "metadata": {
    "execution": {
     "iopub.execute_input": "2024-03-25T19:23:24.522800Z",
     "iopub.status.busy": "2024-03-25T19:23:24.522281Z",
     "iopub.status.idle": "2024-03-25T19:23:24.550067Z",
     "shell.execute_reply": "2024-03-25T19:23:24.549099Z"
    },
    "id": "w2NloQnkxeLF",
    "papermill": {
     "duration": 0.060452,
     "end_time": "2024-03-25T19:23:24.552546",
     "exception": false,
     "start_time": "2024-03-25T19:23:24.492094",
     "status": "completed"
    },
    "tags": []
   },
   "outputs": [],
   "source": [
    "test_norm=scaler.fit_transform(test_imputed)"
   ]
  },
  {
   "cell_type": "code",
   "execution_count": 62,
   "id": "1d2ad2cb",
   "metadata": {
    "execution": {
     "iopub.execute_input": "2024-03-25T19:23:24.613423Z",
     "iopub.status.busy": "2024-03-25T19:23:24.613053Z",
     "iopub.status.idle": "2024-03-25T19:23:24.617693Z",
     "shell.execute_reply": "2024-03-25T19:23:24.616825Z"
    },
    "id": "Lc6poeG6NahW",
    "papermill": {
     "duration": 0.03665,
     "end_time": "2024-03-25T19:23:24.619595",
     "exception": false,
     "start_time": "2024-03-25T19:23:24.582945",
     "status": "completed"
    },
    "tags": []
   },
   "outputs": [],
   "source": [
    "train_norm=pd.DataFrame(train_norm,columns=train_imputed.columns.to_list())"
   ]
  },
  {
   "cell_type": "code",
   "execution_count": 63,
   "id": "aa90bf3a",
   "metadata": {
    "execution": {
     "iopub.execute_input": "2024-03-25T19:23:24.676384Z",
     "iopub.status.busy": "2024-03-25T19:23:24.676104Z",
     "iopub.status.idle": "2024-03-25T19:23:24.680344Z",
     "shell.execute_reply": "2024-03-25T19:23:24.679506Z"
    },
    "id": "USdE22qXyK09",
    "papermill": {
     "duration": 0.034554,
     "end_time": "2024-03-25T19:23:24.682121",
     "exception": false,
     "start_time": "2024-03-25T19:23:24.647567",
     "status": "completed"
    },
    "tags": []
   },
   "outputs": [],
   "source": [
    "test_norm=pd.DataFrame(test_norm,columns=test_imputed.columns.to_list())"
   ]
  },
  {
   "cell_type": "code",
   "execution_count": 64,
   "id": "88cc5886",
   "metadata": {
    "execution": {
     "iopub.execute_input": "2024-03-25T19:23:24.738905Z",
     "iopub.status.busy": "2024-03-25T19:23:24.738651Z",
     "iopub.status.idle": "2024-03-25T19:23:24.760190Z",
     "shell.execute_reply": "2024-03-25T19:23:24.759374Z"
    },
    "id": "gV0e-jCxNahW",
    "outputId": "b6365c7b-63fc-49f3-e172-e8aaa5000294",
    "papermill": {
     "duration": 0.052017,
     "end_time": "2024-03-25T19:23:24.762113",
     "exception": false,
     "start_time": "2024-03-25T19:23:24.710096",
     "status": "completed"
    },
    "tags": []
   },
   "outputs": [
    {
     "data": {
      "text/html": [
       "<div>\n",
       "<style scoped>\n",
       "    .dataframe tbody tr th:only-of-type {\n",
       "        vertical-align: middle;\n",
       "    }\n",
       "\n",
       "    .dataframe tbody tr th {\n",
       "        vertical-align: top;\n",
       "    }\n",
       "\n",
       "    .dataframe thead th {\n",
       "        text-align: right;\n",
       "    }\n",
       "</style>\n",
       "<table border=\"1\" class=\"dataframe\">\n",
       "  <thead>\n",
       "    <tr style=\"text-align: right;\">\n",
       "      <th></th>\n",
       "      <th>X1</th>\n",
       "      <th>X3</th>\n",
       "      <th>X5</th>\n",
       "      <th>X8</th>\n",
       "      <th>X9</th>\n",
       "      <th>X10</th>\n",
       "      <th>X11</th>\n",
       "      <th>X12</th>\n",
       "      <th>X13</th>\n",
       "      <th>X14</th>\n",
       "      <th>...</th>\n",
       "      <th>X126</th>\n",
       "      <th>X127</th>\n",
       "      <th>X128</th>\n",
       "      <th>X134</th>\n",
       "      <th>X135</th>\n",
       "      <th>X136</th>\n",
       "      <th>X137</th>\n",
       "      <th>X138</th>\n",
       "      <th>navigate</th>\n",
       "      <th>server</th>\n",
       "    </tr>\n",
       "  </thead>\n",
       "  <tbody>\n",
       "    <tr>\n",
       "      <th>0</th>\n",
       "      <td>0.169192</td>\n",
       "      <td>0.008602</td>\n",
       "      <td>0.250000</td>\n",
       "      <td>0.012346</td>\n",
       "      <td>0.011161</td>\n",
       "      <td>0.00271</td>\n",
       "      <td>0.005057</td>\n",
       "      <td>0.002404</td>\n",
       "      <td>0.021472</td>\n",
       "      <td>0.025381</td>\n",
       "      <td>...</td>\n",
       "      <td>0.0</td>\n",
       "      <td>0.032075</td>\n",
       "      <td>0.003296</td>\n",
       "      <td>0.000000</td>\n",
       "      <td>0.000000</td>\n",
       "      <td>0.000000</td>\n",
       "      <td>0.027778</td>\n",
       "      <td>0.034483</td>\n",
       "      <td>0.011388</td>\n",
       "      <td>0.006669</td>\n",
       "    </tr>\n",
       "    <tr>\n",
       "      <th>1</th>\n",
       "      <td>0.000000</td>\n",
       "      <td>0.000277</td>\n",
       "      <td>0.075564</td>\n",
       "      <td>0.010288</td>\n",
       "      <td>0.008929</td>\n",
       "      <td>0.01897</td>\n",
       "      <td>0.003793</td>\n",
       "      <td>0.014423</td>\n",
       "      <td>0.016871</td>\n",
       "      <td>0.000000</td>\n",
       "      <td>...</td>\n",
       "      <td>0.0</td>\n",
       "      <td>0.015094</td>\n",
       "      <td>0.000824</td>\n",
       "      <td>0.024390</td>\n",
       "      <td>0.000000</td>\n",
       "      <td>0.000000</td>\n",
       "      <td>0.013889</td>\n",
       "      <td>0.310345</td>\n",
       "      <td>0.000000</td>\n",
       "      <td>0.000000</td>\n",
       "    </tr>\n",
       "    <tr>\n",
       "      <th>2</th>\n",
       "      <td>0.000000</td>\n",
       "      <td>0.000000</td>\n",
       "      <td>0.083333</td>\n",
       "      <td>0.016461</td>\n",
       "      <td>0.000000</td>\n",
       "      <td>0.01626</td>\n",
       "      <td>0.011378</td>\n",
       "      <td>0.014423</td>\n",
       "      <td>0.024540</td>\n",
       "      <td>0.003384</td>\n",
       "      <td>...</td>\n",
       "      <td>0.0</td>\n",
       "      <td>0.001887</td>\n",
       "      <td>0.000000</td>\n",
       "      <td>0.000000</td>\n",
       "      <td>0.000000</td>\n",
       "      <td>0.012346</td>\n",
       "      <td>0.013889</td>\n",
       "      <td>0.103448</td>\n",
       "      <td>0.011388</td>\n",
       "      <td>0.006669</td>\n",
       "    </tr>\n",
       "    <tr>\n",
       "      <th>3</th>\n",
       "      <td>0.178571</td>\n",
       "      <td>0.000000</td>\n",
       "      <td>0.083333</td>\n",
       "      <td>0.014403</td>\n",
       "      <td>0.013393</td>\n",
       "      <td>0.02168</td>\n",
       "      <td>0.003793</td>\n",
       "      <td>0.040865</td>\n",
       "      <td>0.010736</td>\n",
       "      <td>0.006768</td>\n",
       "      <td>...</td>\n",
       "      <td>0.0</td>\n",
       "      <td>0.020755</td>\n",
       "      <td>0.003021</td>\n",
       "      <td>0.012195</td>\n",
       "      <td>0.011628</td>\n",
       "      <td>0.000000</td>\n",
       "      <td>0.041667</td>\n",
       "      <td>0.034483</td>\n",
       "      <td>0.008529</td>\n",
       "      <td>0.004307</td>\n",
       "    </tr>\n",
       "    <tr>\n",
       "      <th>4</th>\n",
       "      <td>0.166667</td>\n",
       "      <td>0.000277</td>\n",
       "      <td>0.083333</td>\n",
       "      <td>0.026749</td>\n",
       "      <td>0.002232</td>\n",
       "      <td>0.00271</td>\n",
       "      <td>0.003793</td>\n",
       "      <td>0.007212</td>\n",
       "      <td>0.003067</td>\n",
       "      <td>0.010152</td>\n",
       "      <td>...</td>\n",
       "      <td>0.0</td>\n",
       "      <td>0.024528</td>\n",
       "      <td>0.000549</td>\n",
       "      <td>0.012195</td>\n",
       "      <td>0.011628</td>\n",
       "      <td>0.000000</td>\n",
       "      <td>0.013889</td>\n",
       "      <td>0.172414</td>\n",
       "      <td>0.011388</td>\n",
       "      <td>0.006669</td>\n",
       "    </tr>\n",
       "  </tbody>\n",
       "</table>\n",
       "<p>5 rows × 92 columns</p>\n",
       "</div>"
      ],
      "text/plain": [
       "         X1        X3        X5        X8        X9      X10       X11  \\\n",
       "0  0.169192  0.008602  0.250000  0.012346  0.011161  0.00271  0.005057   \n",
       "1  0.000000  0.000277  0.075564  0.010288  0.008929  0.01897  0.003793   \n",
       "2  0.000000  0.000000  0.083333  0.016461  0.000000  0.01626  0.011378   \n",
       "3  0.178571  0.000000  0.083333  0.014403  0.013393  0.02168  0.003793   \n",
       "4  0.166667  0.000277  0.083333  0.026749  0.002232  0.00271  0.003793   \n",
       "\n",
       "        X12       X13       X14  ...  X126      X127      X128      X134  \\\n",
       "0  0.002404  0.021472  0.025381  ...   0.0  0.032075  0.003296  0.000000   \n",
       "1  0.014423  0.016871  0.000000  ...   0.0  0.015094  0.000824  0.024390   \n",
       "2  0.014423  0.024540  0.003384  ...   0.0  0.001887  0.000000  0.000000   \n",
       "3  0.040865  0.010736  0.006768  ...   0.0  0.020755  0.003021  0.012195   \n",
       "4  0.007212  0.003067  0.010152  ...   0.0  0.024528  0.000549  0.012195   \n",
       "\n",
       "       X135      X136      X137      X138  navigate    server  \n",
       "0  0.000000  0.000000  0.027778  0.034483  0.011388  0.006669  \n",
       "1  0.000000  0.000000  0.013889  0.310345  0.000000  0.000000  \n",
       "2  0.000000  0.012346  0.013889  0.103448  0.011388  0.006669  \n",
       "3  0.011628  0.000000  0.041667  0.034483  0.008529  0.004307  \n",
       "4  0.011628  0.000000  0.013889  0.172414  0.011388  0.006669  \n",
       "\n",
       "[5 rows x 92 columns]"
      ]
     },
     "execution_count": 64,
     "metadata": {},
     "output_type": "execute_result"
    }
   ],
   "source": [
    "train_norm.head()"
   ]
  },
  {
   "cell_type": "code",
   "execution_count": 65,
   "id": "d8c0494e",
   "metadata": {
    "execution": {
     "iopub.execute_input": "2024-03-25T19:23:24.821100Z",
     "iopub.status.busy": "2024-03-25T19:23:24.820827Z",
     "iopub.status.idle": "2024-03-25T19:23:24.843605Z",
     "shell.execute_reply": "2024-03-25T19:23:24.842755Z"
    },
    "id": "R-STGpLQyTmg",
    "outputId": "162536a6-546d-47f6-a8a6-86d909c12a75",
    "papermill": {
     "duration": 0.054425,
     "end_time": "2024-03-25T19:23:24.845575",
     "exception": false,
     "start_time": "2024-03-25T19:23:24.791150",
     "status": "completed"
    },
    "tags": []
   },
   "outputs": [
    {
     "data": {
      "text/html": [
       "<div>\n",
       "<style scoped>\n",
       "    .dataframe tbody tr th:only-of-type {\n",
       "        vertical-align: middle;\n",
       "    }\n",
       "\n",
       "    .dataframe tbody tr th {\n",
       "        vertical-align: top;\n",
       "    }\n",
       "\n",
       "    .dataframe thead th {\n",
       "        text-align: right;\n",
       "    }\n",
       "</style>\n",
       "<table border=\"1\" class=\"dataframe\">\n",
       "  <thead>\n",
       "    <tr style=\"text-align: right;\">\n",
       "      <th></th>\n",
       "      <th>X1</th>\n",
       "      <th>X3</th>\n",
       "      <th>X5</th>\n",
       "      <th>X8</th>\n",
       "      <th>X9</th>\n",
       "      <th>X10</th>\n",
       "      <th>X11</th>\n",
       "      <th>X12</th>\n",
       "      <th>X13</th>\n",
       "      <th>X14</th>\n",
       "      <th>...</th>\n",
       "      <th>X126</th>\n",
       "      <th>X127</th>\n",
       "      <th>X128</th>\n",
       "      <th>X134</th>\n",
       "      <th>X135</th>\n",
       "      <th>X136</th>\n",
       "      <th>X137</th>\n",
       "      <th>X138</th>\n",
       "      <th>navigate</th>\n",
       "      <th>server</th>\n",
       "    </tr>\n",
       "  </thead>\n",
       "  <tbody>\n",
       "    <tr>\n",
       "      <th>0</th>\n",
       "      <td>0.090909</td>\n",
       "      <td>0.000000</td>\n",
       "      <td>0.181818</td>\n",
       "      <td>0.004040</td>\n",
       "      <td>0.052083</td>\n",
       "      <td>0.149682</td>\n",
       "      <td>0.012750</td>\n",
       "      <td>0.016018</td>\n",
       "      <td>0.023324</td>\n",
       "      <td>0.098592</td>\n",
       "      <td>...</td>\n",
       "      <td>0.0</td>\n",
       "      <td>0.093264</td>\n",
       "      <td>0.011688</td>\n",
       "      <td>0.021277</td>\n",
       "      <td>0.075758</td>\n",
       "      <td>0.019608</td>\n",
       "      <td>0.069767</td>\n",
       "      <td>0.086957</td>\n",
       "      <td>0.000000</td>\n",
       "      <td>0.000000</td>\n",
       "    </tr>\n",
       "    <tr>\n",
       "      <th>1</th>\n",
       "      <td>0.000000</td>\n",
       "      <td>0.000000</td>\n",
       "      <td>0.000000</td>\n",
       "      <td>0.004714</td>\n",
       "      <td>0.006250</td>\n",
       "      <td>0.012739</td>\n",
       "      <td>0.003643</td>\n",
       "      <td>0.000000</td>\n",
       "      <td>0.014577</td>\n",
       "      <td>0.002817</td>\n",
       "      <td>...</td>\n",
       "      <td>0.0</td>\n",
       "      <td>0.082902</td>\n",
       "      <td>0.000570</td>\n",
       "      <td>0.042553</td>\n",
       "      <td>0.015152</td>\n",
       "      <td>0.019608</td>\n",
       "      <td>0.023256</td>\n",
       "      <td>0.173913</td>\n",
       "      <td>0.010753</td>\n",
       "      <td>0.004380</td>\n",
       "    </tr>\n",
       "    <tr>\n",
       "      <th>2</th>\n",
       "      <td>0.333333</td>\n",
       "      <td>0.001049</td>\n",
       "      <td>0.090909</td>\n",
       "      <td>0.042424</td>\n",
       "      <td>0.002083</td>\n",
       "      <td>0.019108</td>\n",
       "      <td>0.012750</td>\n",
       "      <td>0.029748</td>\n",
       "      <td>0.052478</td>\n",
       "      <td>0.008451</td>\n",
       "      <td>...</td>\n",
       "      <td>0.0</td>\n",
       "      <td>0.077720</td>\n",
       "      <td>0.003136</td>\n",
       "      <td>0.021277</td>\n",
       "      <td>0.045455</td>\n",
       "      <td>0.000000</td>\n",
       "      <td>0.000000</td>\n",
       "      <td>0.260870</td>\n",
       "      <td>0.000000</td>\n",
       "      <td>0.000000</td>\n",
       "    </tr>\n",
       "    <tr>\n",
       "      <th>3</th>\n",
       "      <td>0.000000</td>\n",
       "      <td>0.000000</td>\n",
       "      <td>0.000000</td>\n",
       "      <td>0.005387</td>\n",
       "      <td>0.016667</td>\n",
       "      <td>0.028662</td>\n",
       "      <td>0.000000</td>\n",
       "      <td>0.032037</td>\n",
       "      <td>0.052478</td>\n",
       "      <td>0.011268</td>\n",
       "      <td>...</td>\n",
       "      <td>0.0</td>\n",
       "      <td>0.077720</td>\n",
       "      <td>0.000570</td>\n",
       "      <td>0.042553</td>\n",
       "      <td>0.000000</td>\n",
       "      <td>0.000000</td>\n",
       "      <td>0.023256</td>\n",
       "      <td>0.260870</td>\n",
       "      <td>0.021505</td>\n",
       "      <td>0.005839</td>\n",
       "    </tr>\n",
       "    <tr>\n",
       "      <th>4</th>\n",
       "      <td>0.333333</td>\n",
       "      <td>0.001049</td>\n",
       "      <td>0.181818</td>\n",
       "      <td>0.000000</td>\n",
       "      <td>0.010417</td>\n",
       "      <td>0.009554</td>\n",
       "      <td>0.001821</td>\n",
       "      <td>0.006865</td>\n",
       "      <td>0.008746</td>\n",
       "      <td>0.047887</td>\n",
       "      <td>...</td>\n",
       "      <td>0.0</td>\n",
       "      <td>0.031088</td>\n",
       "      <td>0.000000</td>\n",
       "      <td>0.000000</td>\n",
       "      <td>0.015152</td>\n",
       "      <td>0.019608</td>\n",
       "      <td>0.023256</td>\n",
       "      <td>0.043478</td>\n",
       "      <td>0.027021</td>\n",
       "      <td>0.016485</td>\n",
       "    </tr>\n",
       "  </tbody>\n",
       "</table>\n",
       "<p>5 rows × 92 columns</p>\n",
       "</div>"
      ],
      "text/plain": [
       "         X1        X3        X5        X8        X9       X10       X11  \\\n",
       "0  0.090909  0.000000  0.181818  0.004040  0.052083  0.149682  0.012750   \n",
       "1  0.000000  0.000000  0.000000  0.004714  0.006250  0.012739  0.003643   \n",
       "2  0.333333  0.001049  0.090909  0.042424  0.002083  0.019108  0.012750   \n",
       "3  0.000000  0.000000  0.000000  0.005387  0.016667  0.028662  0.000000   \n",
       "4  0.333333  0.001049  0.181818  0.000000  0.010417  0.009554  0.001821   \n",
       "\n",
       "        X12       X13       X14  ...  X126      X127      X128      X134  \\\n",
       "0  0.016018  0.023324  0.098592  ...   0.0  0.093264  0.011688  0.021277   \n",
       "1  0.000000  0.014577  0.002817  ...   0.0  0.082902  0.000570  0.042553   \n",
       "2  0.029748  0.052478  0.008451  ...   0.0  0.077720  0.003136  0.021277   \n",
       "3  0.032037  0.052478  0.011268  ...   0.0  0.077720  0.000570  0.042553   \n",
       "4  0.006865  0.008746  0.047887  ...   0.0  0.031088  0.000000  0.000000   \n",
       "\n",
       "       X135      X136      X137      X138  navigate    server  \n",
       "0  0.075758  0.019608  0.069767  0.086957  0.000000  0.000000  \n",
       "1  0.015152  0.019608  0.023256  0.173913  0.010753  0.004380  \n",
       "2  0.045455  0.000000  0.000000  0.260870  0.000000  0.000000  \n",
       "3  0.000000  0.000000  0.023256  0.260870  0.021505  0.005839  \n",
       "4  0.015152  0.019608  0.023256  0.043478  0.027021  0.016485  \n",
       "\n",
       "[5 rows x 92 columns]"
      ]
     },
     "execution_count": 65,
     "metadata": {},
     "output_type": "execute_result"
    }
   ],
   "source": [
    "test_norm.head()"
   ]
  },
  {
   "cell_type": "markdown",
   "id": "05a3a373",
   "metadata": {
    "id": "UwDDkxzCx9Jl",
    "papermill": {
     "duration": 0.028287,
     "end_time": "2024-03-25T19:23:24.905247",
     "exception": false,
     "start_time": "2024-03-25T19:23:24.876960",
     "status": "completed"
    },
    "tags": []
   },
   "source": [
    "Correlation Matrix"
   ]
  },
  {
   "cell_type": "code",
   "execution_count": 66,
   "id": "85121c79",
   "metadata": {
    "execution": {
     "iopub.execute_input": "2024-03-25T19:23:24.963845Z",
     "iopub.status.busy": "2024-03-25T19:23:24.963320Z",
     "iopub.status.idle": "2024-03-25T19:23:24.991131Z",
     "shell.execute_reply": "2024-03-25T19:23:24.990219Z"
    },
    "id": "tsjW6YAHx_aM",
    "papermill": {
     "duration": 0.059303,
     "end_time": "2024-03-25T19:23:24.993260",
     "exception": false,
     "start_time": "2024-03-25T19:23:24.933957",
     "status": "completed"
    },
    "tags": []
   },
   "outputs": [],
   "source": [
    "train_corr=pd.concat([train_norm,train_new1['label']],axis=1)"
   ]
  },
  {
   "cell_type": "code",
   "execution_count": 67,
   "id": "48068fb0",
   "metadata": {
    "execution": {
     "iopub.execute_input": "2024-03-25T19:23:25.052649Z",
     "iopub.status.busy": "2024-03-25T19:23:25.051841Z",
     "iopub.status.idle": "2024-03-25T19:23:25.184107Z",
     "shell.execute_reply": "2024-03-25T19:23:25.183214Z"
    },
    "id": "V3Ty5ihUyOX9",
    "outputId": "95d41cca-bf96-41ae-ad20-60a61db66afa",
    "papermill": {
     "duration": 0.164159,
     "end_time": "2024-03-25T19:23:25.186592",
     "exception": false,
     "start_time": "2024-03-25T19:23:25.022433",
     "status": "completed"
    },
    "tags": []
   },
   "outputs": [
    {
     "name": "stdout",
     "output_type": "stream",
     "text": [
      "[-0.06404756921916885, -0.28494242130883346, -0.04459837779008885, -0.14067299648852727, -0.15340546083651974, -0.14160920100740348, -0.1244459387186772, -0.11221269981027461, -0.10853552327215428, -0.11776253992776277, -0.15452589332393743, -0.15585897029723697, -0.43843728297524825, -0.1507509126503846, -0.15913456231662318, -0.16200284859140351, -0.1682123261044757, -0.16227912938622602, -0.13662257992912408, -0.13013680552332446, -0.12726896125210943, -0.1325281189012514, -0.13439338011049648, -0.2249470285393465, -0.16729467315686528, -0.32340374435260005, -0.3025852559478819, -0.2778692220200997, -0.28789548325281994, -0.1689006870921307, -0.3054417080379066, -0.2973509867476671, -0.2988126614973096, -0.46733885816478016, -0.027312442236019373, -0.2833722651963051, -0.515309160269356, -0.4254818244432893, -0.0027533111028222785, -0.02760308013995292, -0.038711393362031145, -0.03997322724255825, -0.08334755628448504, -0.5309211304858069, -0.24576285238039192, -0.2554936664966142, -0.23112432967977392, -0.14636138019078412, -0.20527162363651708, -0.24445501199579367, -0.24417744681348227, -0.23901343895727176, -0.26049084500228603, -0.27390796587230043, -0.44916556572052063, -0.455894282583137, -0.24283260647138408, -0.23216532688361957, -0.26011726444329186, -0.28616526242447216, -0.3091423568261547, -0.30256897373326735, -0.24752866622117478, -0.15265492908113645, -0.07507601024440316, -0.04144299147968652, -0.02718640632886015, -0.18590900840980865, -0.17532248297519315, -0.18681123795332988, -0.18195019843636714, -0.19603787960226862, -0.18759963546111147, -0.1217685999211768, -0.1567807427653291, -0.4655505220335685, -0.18932351006966386, -0.22956991745656324, -0.45576049242230326, -0.48725971882286767, -0.27335284627001616, -0.04887840925563575, -0.050312221474678745, -0.07629682284656089, -0.49375082560896605, -0.325902050414371, -0.2701210046437287, -0.4321184102352805, -0.3879455277450725, -0.10660267788148484, -0.10552503447471888, -0.09810738086923856, 1.0]\n"
     ]
    }
   ],
   "source": [
    "corr_list=[]\n",
    "cols=train_corr.columns.to_list()\n",
    "for i in range(len(train_corr.columns.to_list())):\n",
    "  correlation = train_corr.iloc[:,i].corr(train_corr['label'])\n",
    "  corr_list.append(correlation)\n",
    "\n",
    "print(corr_list)"
   ]
  },
  {
   "cell_type": "code",
   "execution_count": 68,
   "id": "c1879ec7",
   "metadata": {
    "execution": {
     "iopub.execute_input": "2024-03-25T19:23:25.250274Z",
     "iopub.status.busy": "2024-03-25T19:23:25.249938Z",
     "iopub.status.idle": "2024-03-25T19:23:27.129019Z",
     "shell.execute_reply": "2024-03-25T19:23:27.128082Z"
    },
    "id": "XFnuxFBCz8dk",
    "outputId": "7f58f686-f4f1-43c6-cc89-1e4d134df508",
    "papermill": {
     "duration": 1.912289,
     "end_time": "2024-03-25T19:23:27.132146",
     "exception": false,
     "start_time": "2024-03-25T19:23:25.219857",
     "status": "completed"
    },
    "tags": []
   },
   "outputs": [
    {
     "name": "stderr",
     "output_type": "stream",
     "text": [
      "/opt/conda/lib/python3.10/site-packages/seaborn/_oldcore.py:1119: FutureWarning: use_inf_as_na option is deprecated and will be removed in a future version. Convert inf values to NaN before operating instead.\n",
      "  with pd.option_context('mode.use_inf_as_na', True):\n",
      "/opt/conda/lib/python3.10/site-packages/seaborn/_oldcore.py:1119: FutureWarning: use_inf_as_na option is deprecated and will be removed in a future version. Convert inf values to NaN before operating instead.\n",
      "  with pd.option_context('mode.use_inf_as_na', True):\n",
      "/opt/conda/lib/python3.10/site-packages/seaborn/_oldcore.py:1119: FutureWarning: use_inf_as_na option is deprecated and will be removed in a future version. Convert inf values to NaN before operating instead.\n",
      "  with pd.option_context('mode.use_inf_as_na', True):\n",
      "/opt/conda/lib/python3.10/site-packages/seaborn/_oldcore.py:1119: FutureWarning: use_inf_as_na option is deprecated and will be removed in a future version. Convert inf values to NaN before operating instead.\n",
      "  with pd.option_context('mode.use_inf_as_na', True):\n",
      "/opt/conda/lib/python3.10/site-packages/seaborn/_oldcore.py:1119: FutureWarning: use_inf_as_na option is deprecated and will be removed in a future version. Convert inf values to NaN before operating instead.\n",
      "  with pd.option_context('mode.use_inf_as_na', True):\n",
      "/opt/conda/lib/python3.10/site-packages/seaborn/_oldcore.py:1119: FutureWarning: use_inf_as_na option is deprecated and will be removed in a future version. Convert inf values to NaN before operating instead.\n",
      "  with pd.option_context('mode.use_inf_as_na', True):\n",
      "/opt/conda/lib/python3.10/site-packages/seaborn/_oldcore.py:1119: FutureWarning: use_inf_as_na option is deprecated and will be removed in a future version. Convert inf values to NaN before operating instead.\n",
      "  with pd.option_context('mode.use_inf_as_na', True):\n",
      "/opt/conda/lib/python3.10/site-packages/seaborn/_oldcore.py:1119: FutureWarning: use_inf_as_na option is deprecated and will be removed in a future version. Convert inf values to NaN before operating instead.\n",
      "  with pd.option_context('mode.use_inf_as_na', True):\n",
      "/opt/conda/lib/python3.10/site-packages/seaborn/_oldcore.py:1119: FutureWarning: use_inf_as_na option is deprecated and will be removed in a future version. Convert inf values to NaN before operating instead.\n",
      "  with pd.option_context('mode.use_inf_as_na', True):\n",
      "/opt/conda/lib/python3.10/site-packages/seaborn/_oldcore.py:1119: FutureWarning: use_inf_as_na option is deprecated and will be removed in a future version. Convert inf values to NaN before operating instead.\n",
      "  with pd.option_context('mode.use_inf_as_na', True):\n",
      "/opt/conda/lib/python3.10/site-packages/seaborn/_oldcore.py:1119: FutureWarning: use_inf_as_na option is deprecated and will be removed in a future version. Convert inf values to NaN before operating instead.\n",
      "  with pd.option_context('mode.use_inf_as_na', True):\n",
      "/opt/conda/lib/python3.10/site-packages/seaborn/_oldcore.py:1119: FutureWarning: use_inf_as_na option is deprecated and will be removed in a future version. Convert inf values to NaN before operating instead.\n",
      "  with pd.option_context('mode.use_inf_as_na', True):\n",
      "/opt/conda/lib/python3.10/site-packages/seaborn/_oldcore.py:1119: FutureWarning: use_inf_as_na option is deprecated and will be removed in a future version. Convert inf values to NaN before operating instead.\n",
      "  with pd.option_context('mode.use_inf_as_na', True):\n",
      "/opt/conda/lib/python3.10/site-packages/seaborn/_oldcore.py:1119: FutureWarning: use_inf_as_na option is deprecated and will be removed in a future version. Convert inf values to NaN before operating instead.\n",
      "  with pd.option_context('mode.use_inf_as_na', True):\n",
      "/opt/conda/lib/python3.10/site-packages/seaborn/_oldcore.py:1119: FutureWarning: use_inf_as_na option is deprecated and will be removed in a future version. Convert inf values to NaN before operating instead.\n",
      "  with pd.option_context('mode.use_inf_as_na', True):\n",
      "/opt/conda/lib/python3.10/site-packages/seaborn/_oldcore.py:1119: FutureWarning: use_inf_as_na option is deprecated and will be removed in a future version. Convert inf values to NaN before operating instead.\n",
      "  with pd.option_context('mode.use_inf_as_na', True):\n",
      "/opt/conda/lib/python3.10/site-packages/seaborn/_oldcore.py:1119: FutureWarning: use_inf_as_na option is deprecated and will be removed in a future version. Convert inf values to NaN before operating instead.\n",
      "  with pd.option_context('mode.use_inf_as_na', True):\n",
      "/opt/conda/lib/python3.10/site-packages/seaborn/_oldcore.py:1119: FutureWarning: use_inf_as_na option is deprecated and will be removed in a future version. Convert inf values to NaN before operating instead.\n",
      "  with pd.option_context('mode.use_inf_as_na', True):\n",
      "/opt/conda/lib/python3.10/site-packages/seaborn/_oldcore.py:1119: FutureWarning: use_inf_as_na option is deprecated and will be removed in a future version. Convert inf values to NaN before operating instead.\n",
      "  with pd.option_context('mode.use_inf_as_na', True):\n",
      "/opt/conda/lib/python3.10/site-packages/seaborn/_oldcore.py:1119: FutureWarning: use_inf_as_na option is deprecated and will be removed in a future version. Convert inf values to NaN before operating instead.\n",
      "  with pd.option_context('mode.use_inf_as_na', True):\n"
     ]
    },
    {
     "data": {
      "image/png": "[encoded data removed]",
      "text/plain": [
       "<Figure size 1500x1500 with 12 Axes>"
      ]
     },
     "metadata": {},
     "output_type": "display_data"
    }
   ],
   "source": [
    "# prompt: lineplot\n",
    "fig, axes = plt.subplots(nrows=4, ncols=3, figsize=(15, 15))\n",
    "sns.lineplot(x = cols[0:10], y = corr_list[0:10],ax=axes[0,0])\n",
    "sns.lineplot(x = cols[10:20], y = corr_list[10:20],ax=axes[0,1])\n",
    "sns.lineplot(x = cols[20:30], y = corr_list[20:30],ax=axes[0,2])\n",
    "sns.lineplot(x = cols[30:40], y = corr_list[30:40],ax=axes[1,0])\n",
    "sns.lineplot(x = cols[40:50], y = corr_list[40:50],ax=axes[1,1])\n",
    "sns.lineplot(x = cols[50:60], y = corr_list[50:60],ax=axes[1,2])\n",
    "sns.lineplot(x = cols[60:70], y = corr_list[60:70],ax=axes[2,0])\n",
    "sns.lineplot(x = cols[70:80], y = corr_list[70:80],ax=axes[2,1])\n",
    "sns.lineplot(x = cols[80:90], y = corr_list[80:90],ax=axes[2,2])\n",
    "sns.lineplot(x = cols[90:100], y = corr_list[90:100],ax=axes[3,0])\n",
    "plt.show()\n"
   ]
  },
  {
   "cell_type": "code",
   "execution_count": 69,
   "id": "accf986d",
   "metadata": {
    "execution": {
     "iopub.execute_input": "2024-03-25T19:23:27.198627Z",
     "iopub.status.busy": "2024-03-25T19:23:27.197970Z",
     "iopub.status.idle": "2024-03-25T19:23:27.202439Z",
     "shell.execute_reply": "2024-03-25T19:23:27.201456Z"
    },
    "id": "amyYslu-twyD",
    "papermill": {
     "duration": 0.039681,
     "end_time": "2024-03-25T19:23:27.204513",
     "exception": false,
     "start_time": "2024-03-25T19:23:27.164832",
     "status": "completed"
    },
    "tags": []
   },
   "outputs": [],
   "source": [
    "X=train_norm"
   ]
  },
  {
   "cell_type": "code",
   "execution_count": 70,
   "id": "86989182",
   "metadata": {
    "execution": {
     "iopub.execute_input": "2024-03-25T19:23:27.270235Z",
     "iopub.status.busy": "2024-03-25T19:23:27.269915Z",
     "iopub.status.idle": "2024-03-25T19:23:27.273890Z",
     "shell.execute_reply": "2024-03-25T19:23:27.273061Z"
    },
    "id": "Nqm0_U1gt5ls",
    "papermill": {
     "duration": 0.039015,
     "end_time": "2024-03-25T19:23:27.275703",
     "exception": false,
     "start_time": "2024-03-25T19:23:27.236688",
     "status": "completed"
    },
    "tags": []
   },
   "outputs": [],
   "source": [
    "Y=train_new1['label']"
   ]
  },
  {
   "cell_type": "markdown",
   "id": "9871a694",
   "metadata": {
    "id": "RQQdDLy6uHSF",
    "papermill": {
     "duration": 0.030933,
     "end_time": "2024-03-25T19:23:27.337954",
     "exception": false,
     "start_time": "2024-03-25T19:23:27.307021",
     "status": "completed"
    },
    "tags": []
   },
   "source": [
    "Splitting Data into test and train"
   ]
  },
  {
   "cell_type": "code",
   "execution_count": 71,
   "id": "6cdbdcfb",
   "metadata": {
    "execution": {
     "iopub.execute_input": "2024-03-25T19:23:27.403139Z",
     "iopub.status.busy": "2024-03-25T19:23:27.402276Z",
     "iopub.status.idle": "2024-03-25T19:23:27.465485Z",
     "shell.execute_reply": "2024-03-25T19:23:27.464475Z"
    },
    "id": "UZmIK6TkuGmX",
    "papermill": {
     "duration": 0.098647,
     "end_time": "2024-03-25T19:23:27.467978",
     "exception": false,
     "start_time": "2024-03-25T19:23:27.369331",
     "status": "completed"
    },
    "tags": []
   },
   "outputs": [],
   "source": [
    "from sklearn.model_selection import train_test_split\n",
    "X_train,X_test,Y_train,Y_test=train_test_split(X,Y,test_size=0.3,random_state=43)"
   ]
  },
  {
   "cell_type": "code",
   "execution_count": 72,
   "id": "a12c187a",
   "metadata": {
    "execution": {
     "iopub.execute_input": "2024-03-25T19:23:27.535073Z",
     "iopub.status.busy": "2024-03-25T19:23:27.534220Z",
     "iopub.status.idle": "2024-03-25T19:23:27.539635Z",
     "shell.execute_reply": "2024-03-25T19:23:27.538725Z"
    },
    "id": "j9yHXx11ueDP",
    "outputId": "89655993-caa5-49cd-f53e-5789a345c488",
    "papermill": {
     "duration": 0.040345,
     "end_time": "2024-03-25T19:23:27.541425",
     "exception": false,
     "start_time": "2024-03-25T19:23:27.501080",
     "status": "completed"
    },
    "tags": []
   },
   "outputs": [
    {
     "name": "stdout",
     "output_type": "stream",
     "text": [
      "(59063, 92)\n",
      "(25314, 92)\n",
      "(59063,)\n",
      "(25314,)\n"
     ]
    }
   ],
   "source": [
    "print(X_train.shape)\n",
    "print(X_test.shape)\n",
    "print(Y_train.shape)\n",
    "print(Y_test.shape)"
   ]
  },
  {
   "cell_type": "code",
   "execution_count": 73,
   "id": "1aaf42c3",
   "metadata": {
    "execution": {
     "iopub.execute_input": "2024-03-25T19:23:27.605527Z",
     "iopub.status.busy": "2024-03-25T19:23:27.605025Z",
     "iopub.status.idle": "2024-03-25T19:23:29.362246Z",
     "shell.execute_reply": "2024-03-25T19:23:29.361097Z"
    },
    "id": "miPwsKWuupWz",
    "papermill": {
     "duration": 1.792068,
     "end_time": "2024-03-25T19:23:29.364867",
     "exception": false,
     "start_time": "2024-03-25T19:23:27.572799",
     "status": "completed"
    },
    "tags": []
   },
   "outputs": [],
   "source": [
    "from sklearn.linear_model import LogisticRegression\n",
    "log_reg = LogisticRegression(penalty='l2', solver='liblinear', random_state=42)\n",
    "model=log_reg.fit(X_train, Y_train)"
   ]
  },
  {
   "cell_type": "code",
   "execution_count": 74,
   "id": "a219887f",
   "metadata": {
    "execution": {
     "iopub.execute_input": "2024-03-25T19:23:29.440894Z",
     "iopub.status.busy": "2024-03-25T19:23:29.440529Z",
     "iopub.status.idle": "2024-03-25T19:23:29.446970Z",
     "shell.execute_reply": "2024-03-25T19:23:29.445959Z"
    },
    "id": "Pqod4WVyxqb2",
    "outputId": "45327294-925d-40d7-b6ce-eb7c84171697",
    "papermill": {
     "duration": 0.047344,
     "end_time": "2024-03-25T19:23:29.450020",
     "exception": false,
     "start_time": "2024-03-25T19:23:29.402676",
     "status": "completed"
    },
    "tags": []
   },
   "outputs": [
    {
     "name": "stdout",
     "output_type": "stream",
     "text": [
      "[[ 3.70621667e-02 -1.30520135e+00 -1.17102898e+00  1.15558868e+00\n",
      "   1.00084092e+00  1.17394838e-01  1.12801868e+00  6.77826297e-01\n",
      "   6.43198720e-01 -1.07590478e-02  5.26426210e-01  1.53679933e+00\n",
      "   5.99908537e-02 -2.39846004e-01  2.35105523e-01 -2.25269139e-01\n",
      "   1.63160122e+00  9.01652088e-01  1.11800181e-01 -3.92779207e-01\n",
      "   1.07447995e+00  9.45946770e-01  8.69574200e-01 -5.14869866e+00\n",
      "  -4.17337008e-01  2.14997224e+00 -1.09572557e+00 -1.23396856e+00\n",
      "  -2.24465397e+00 -7.75348259e-01 -1.49166453e+00 -1.07650648e+00\n",
      "  -1.25515980e+00 -7.86259754e-01 -7.43553387e-02  2.91646060e+00\n",
      "  -2.35960739e+00  1.28845955e+00  1.76742326e-05  2.23132403e-01\n",
      "   2.31000869e-01  5.43479391e-02 -4.12304188e-01 -2.26121052e+00\n",
      "  -5.37613051e-01 -8.96959628e-01 -1.25506989e+00 -8.19792772e-01\n",
      "  -4.80108341e-01 -4.72653287e-01 -5.82233864e-01 -6.55002786e-01\n",
      "  -1.55142876e+00 -1.04741396e+00  7.64540132e-01 -5.72097806e+00\n",
      "   1.18900010e+00 -9.51031976e-01 -8.65386720e-01 -1.02882464e+00\n",
      "  -1.41151567e+00 -1.90407254e+00 -2.28559249e+00 -8.60845396e-01\n",
      "   5.52092560e-01 -2.86208493e-01  2.62995993e-01 -1.96802906e+00\n",
      "  -2.12208025e+00 -8.82042025e-01 -2.06220087e+00  3.44267087e-01\n",
      "  -7.08390920e-01  5.03600136e-02 -1.45085990e-01 -8.22846124e-01\n",
      "  -2.77278448e+00 -6.67604004e+00 -5.81500918e+00 -2.90603384e+00\n",
      "   4.98618588e+00  4.58430605e-01  4.99435102e-01 -2.67961516e-02\n",
      "  -1.88528447e+00 -2.41285061e+00 -2.16632057e+00 -1.26159371e+01\n",
      "  -6.25498331e+00 -8.23172387e-01 -1.17117997e+00 -6.73927975e-01]]\n"
     ]
    }
   ],
   "source": [
    "coefficients = model.coef_\n",
    "print(coefficients)"
   ]
  },
  {
   "cell_type": "code",
   "execution_count": 75,
   "id": "2c442302",
   "metadata": {
    "execution": {
     "iopub.execute_input": "2024-03-25T19:23:29.521797Z",
     "iopub.status.busy": "2024-03-25T19:23:29.521524Z",
     "iopub.status.idle": "2024-03-25T19:23:29.527800Z",
     "shell.execute_reply": "2024-03-25T19:23:29.527024Z"
    },
    "id": "rbtoZZri37_8",
    "outputId": "594657d4-d35c-40f0-a49d-9c55bc438754",
    "papermill": {
     "duration": 0.043803,
     "end_time": "2024-03-25T19:23:29.530396",
     "exception": false,
     "start_time": "2024-03-25T19:23:29.486593",
     "status": "completed"
    },
    "tags": []
   },
   "outputs": [
    {
     "name": "stdout",
     "output_type": "stream",
     "text": [
      "Feature Importance:\n",
      "X1: 0.037062166687359344\n",
      "X3: 1.305201350582076\n",
      "X5: 1.1710289774147478\n",
      "X8: 1.1555886760416032\n",
      "X9: 1.0008409169945618\n",
      "X10: 0.11739483809879367\n",
      "X11: 1.1280186787726882\n",
      "X12: 0.6778262969907082\n",
      "X13: 0.6431987195285921\n",
      "X14: 0.010759047829369268\n",
      "X15: 0.5264262101982868\n",
      "X16: 1.5367993322729736\n",
      "X17: 0.05999085368600174\n",
      "X25: 0.23984600393409897\n",
      "X26: 0.23510552304229557\n",
      "X27: 0.22526913932310902\n",
      "X28: 1.6316012186013258\n",
      "X29: 0.9016520883816579\n",
      "X30: 0.11180018128077254\n",
      "X31: 0.3927792067889764\n",
      "X32: 1.074479951717787\n",
      "X33: 0.945946769736775\n",
      "X34: 0.8695741999406839\n",
      "X35: 5.148698657431757\n",
      "X36: 0.4173370075960141\n",
      "X37: 2.1499722383308457\n",
      "X41: 1.0957255747961365\n",
      "X42: 1.233968558856196\n",
      "X43: 2.244653967919892\n",
      "X44: 0.7753482587541695\n",
      "X45: 1.4916645318513109\n",
      "X47: 1.0765064751691336\n",
      "X48: 1.255159802164534\n",
      "X49: 0.7862597535085778\n",
      "X50: 0.07435533871847039\n",
      "X52: 2.9164605966601047\n",
      "X56: 2.3596073918574922\n",
      "X57: 1.2884595513865351\n",
      "X64: 1.767423263767011e-05\n",
      "X65: 0.22313240278204813\n",
      "X69: 0.23100086909947978\n",
      "X72: 0.054347939099296826\n",
      "X74: 0.41230418815872455\n",
      "X77: 2.2612105168988843\n",
      "X78: 0.5376130506848988\n",
      "X79: 0.8969596275908991\n",
      "X80: 1.255069891121658\n",
      "X81: 0.8197927718653475\n",
      "X82: 0.4801083411622543\n",
      "X83: 0.47265328705725007\n",
      "X84: 0.582233863965488\n",
      "X85: 0.6550027860798641\n",
      "X86: 1.551428758010641\n",
      "X87: 1.047413959810814\n",
      "X90: 0.7645401323891606\n",
      "X92: 5.720978055847968\n",
      "X95: 1.1890001044136314\n",
      "X96: 0.9510319758170352\n",
      "X97: 0.865386719781347\n",
      "X98: 1.0288246398731185\n",
      "X99: 1.4115156729916787\n",
      "X100: 1.9040725350930106\n",
      "X101: 2.285592486041715\n",
      "X102: 0.86084539572904\n",
      "X103: 0.5520925604965976\n",
      "X104: 0.2862084925823856\n",
      "X105: 0.2629959932861996\n",
      "X107: 1.9680290584345288\n",
      "X108: 2.1220802522435296\n",
      "X109: 0.8820420247213964\n",
      "X110: 2.062200873399419\n",
      "X111: 0.3442670871659991\n",
      "X112: 0.7083909204074893\n",
      "X113: 0.05036001355170204\n",
      "X114: 0.14508599012046994\n",
      "X115: 0.8228461243978384\n",
      "X116: 2.772784482805434\n",
      "X117: 6.676040039140813\n",
      "X118: 5.815009181043085\n",
      "X121: 2.906033840980517\n",
      "X122: 4.986185883853817\n",
      "X125: 0.45843060500633503\n",
      "X126: 0.4994351018367694\n",
      "X127: 0.026796151560052443\n",
      "X128: 1.8852844685440404\n",
      "X134: 2.4128506149153846\n",
      "X135: 2.1663205719828875\n",
      "X136: 12.615937107492332\n",
      "X137: 6.254983308599942\n",
      "X138: 0.8231723870395095\n",
      "navigate: 1.1711799694628844\n",
      "server: 0.6739279748688461\n"
     ]
    }
   ],
   "source": [
    "print(\"Feature Importance:\")\n",
    "for i, feature in enumerate(X_train.columns.to_list()):\n",
    "    importance = np.abs(coefficients[:, i])\n",
    "    print(f\"{feature}: {importance[0]}\")\n"
   ]
  },
  {
   "cell_type": "code",
   "execution_count": 76,
   "id": "2481086b",
   "metadata": {
    "execution": {
     "iopub.execute_input": "2024-03-25T19:23:29.596690Z",
     "iopub.status.busy": "2024-03-25T19:23:29.595993Z",
     "iopub.status.idle": "2024-03-25T19:23:29.613699Z",
     "shell.execute_reply": "2024-03-25T19:23:29.612416Z"
    },
    "id": "a-swd0L53XNl",
    "outputId": "533413ef-56d5-4abf-b999-0444b16e8946",
    "papermill": {
     "duration": 0.055444,
     "end_time": "2024-03-25T19:23:29.617720",
     "exception": false,
     "start_time": "2024-03-25T19:23:29.562276",
     "status": "completed"
    },
    "tags": []
   },
   "outputs": [
    {
     "name": "stdout",
     "output_type": "stream",
     "text": [
      "\n",
      "Accuracy: 0.87\n"
     ]
    }
   ],
   "source": [
    "from sklearn.metrics import accuracy_score\n",
    "accuracy = model.score(X_test, Y_test)\n",
    "print(f\"\\nAccuracy: {accuracy:.2f}\")"
   ]
  },
  {
   "cell_type": "code",
   "execution_count": 77,
   "id": "db16c907",
   "metadata": {
    "execution": {
     "iopub.execute_input": "2024-03-25T19:23:29.751633Z",
     "iopub.status.busy": "2024-03-25T19:23:29.751282Z",
     "iopub.status.idle": "2024-03-25T19:23:31.404384Z",
     "shell.execute_reply": "2024-03-25T19:23:31.403563Z"
    },
    "papermill": {
     "duration": 1.713533,
     "end_time": "2024-03-25T19:23:31.406753",
     "exception": false,
     "start_time": "2024-03-25T19:23:29.693220",
     "status": "completed"
    },
    "tags": []
   },
   "outputs": [
    {
     "name": "stdout",
     "output_type": "stream",
     "text": [
      "Accuracy: 0.8785257169945485\n"
     ]
    }
   ],
   "source": [
    "import xgboost as xgb\n",
    "# Define parameters for XGBoost\n",
    "params = {\n",
    "    'objective': 'binary:logistic',  # Binary classification\n",
    "    'eval_metric': 'logloss',         # Evaluation metric\n",
    "    'eta': 0.1,                        # Learning rate\n",
    "    'max_depth': 3,                    # Maximum depth of tree\n",
    "    'min_child_weight': 1,             # Minimum sum of instance weight needed in a child\n",
    "    'gamma': 0,                        # Minimum loss reduction required to make a further partition on a leaf node\n",
    "    'subsample': 0.8,                  # Subsample ratio of the training instances\n",
    "    'colsample_bytree': 0.8,           # Subsample ratio of columns when constructing each tree\n",
    "    'scale_pos_weight': 1,             # Control the balance of positive and negative weights\n",
    "    'seed': 42                         # Random seed\n",
    "}\n",
    "\n",
    "# Create XGBoost classifier\n",
    "clf = xgb.XGBClassifier(**params)\n",
    "\n",
    "# Train the classifier\n",
    "clf.fit(X_train, Y_train)\n",
    "\n",
    "# Make predictions on the test set\n",
    "y_pred = clf.predict(X_test)\n",
    "\n",
    "# Evaluate the model\n",
    "accuracy = accuracy_score(Y_test, y_pred)\n",
    "print(\"Accuracy:\", accuracy)"
   ]
  },
  {
   "cell_type": "code",
   "execution_count": 78,
   "id": "74ceed19",
   "metadata": {
    "execution": {
     "iopub.execute_input": "2024-03-25T19:23:31.492761Z",
     "iopub.status.busy": "2024-03-25T19:23:31.491930Z",
     "iopub.status.idle": "2024-03-25T19:23:31.500020Z",
     "shell.execute_reply": "2024-03-25T19:23:31.498785Z"
    },
    "id": "RWy6fE4c2Tih",
    "outputId": "b670534a-5a12-40b7-d4f8-9346915afd8b",
    "papermill": {
     "duration": 0.05702,
     "end_time": "2024-03-25T19:23:31.503026",
     "exception": false,
     "start_time": "2024-03-25T19:23:31.446006",
     "status": "completed"
    },
    "tags": []
   },
   "outputs": [
    {
     "data": {
      "text/plain": [
       "(35982, 92)"
      ]
     },
     "execution_count": 78,
     "metadata": {},
     "output_type": "execute_result"
    }
   ],
   "source": [
    "test_norm.shape"
   ]
  },
  {
   "cell_type": "code",
   "execution_count": 79,
   "id": "7f3e5a4f",
   "metadata": {
    "execution": {
     "iopub.execute_input": "2024-03-25T19:23:31.575548Z",
     "iopub.status.busy": "2024-03-25T19:23:31.574894Z",
     "iopub.status.idle": "2024-03-25T19:23:31.655019Z",
     "shell.execute_reply": "2024-03-25T19:23:31.654236Z"
    },
    "id": "FnAxA_dw3o9k",
    "papermill": {
     "duration": 0.120292,
     "end_time": "2024-03-25T19:23:31.657487",
     "exception": false,
     "start_time": "2024-03-25T19:23:31.537195",
     "status": "completed"
    },
    "tags": []
   },
   "outputs": [],
   "source": [
    "label_new=pd.DataFrame(clf.predict(test_norm),columns=['label'])"
   ]
  },
  {
   "cell_type": "code",
   "execution_count": 80,
   "id": "596fca6e",
   "metadata": {
    "execution": {
     "iopub.execute_input": "2024-03-25T19:23:31.738104Z",
     "iopub.status.busy": "2024-03-25T19:23:31.737205Z",
     "iopub.status.idle": "2024-03-25T19:23:31.752948Z",
     "shell.execute_reply": "2024-03-25T19:23:31.752053Z"
    },
    "id": "iBX_-pJ33wUm",
    "papermill": {
     "duration": 0.052207,
     "end_time": "2024-03-25T19:23:31.754991",
     "exception": false,
     "start_time": "2024-03-25T19:23:31.702784",
     "status": "completed"
    },
    "tags": []
   },
   "outputs": [],
   "source": [
    "X_test_predicted=pd.concat([test_norm,label_new],axis=1)"
   ]
  },
  {
   "cell_type": "code",
   "execution_count": 81,
   "id": "71f86737",
   "metadata": {
    "execution": {
     "iopub.execute_input": "2024-03-25T19:23:31.828753Z",
     "iopub.status.busy": "2024-03-25T19:23:31.828029Z",
     "iopub.status.idle": "2024-03-25T19:23:31.845537Z",
     "shell.execute_reply": "2024-03-25T19:23:31.844647Z"
    },
    "id": "Lk7E_JwI5PHj",
    "papermill": {
     "duration": 0.057838,
     "end_time": "2024-03-25T19:23:31.847921",
     "exception": false,
     "start_time": "2024-03-25T19:23:31.790083",
     "status": "completed"
    },
    "tags": []
   },
   "outputs": [],
   "source": [
    "X_test_predicted=pd.concat([test_new1['ID'],X_test_predicted],axis=1)"
   ]
  },
  {
   "cell_type": "code",
   "execution_count": 82,
   "id": "bb78398e",
   "metadata": {
    "execution": {
     "iopub.execute_input": "2024-03-25T19:23:31.934443Z",
     "iopub.status.busy": "2024-03-25T19:23:31.933935Z",
     "iopub.status.idle": "2024-03-25T19:23:31.976320Z",
     "shell.execute_reply": "2024-03-25T19:23:31.975337Z"
    },
    "id": "k65bYp0b46-X",
    "outputId": "7b62d457-1a0b-4c67-8873-4db6b897cca3",
    "papermill": {
     "duration": 0.087573,
     "end_time": "2024-03-25T19:23:31.978654",
     "exception": false,
     "start_time": "2024-03-25T19:23:31.891081",
     "status": "completed"
    },
    "tags": []
   },
   "outputs": [
    {
     "data": {
      "text/html": [
       "<div>\n",
       "<style scoped>\n",
       "    .dataframe tbody tr th:only-of-type {\n",
       "        vertical-align: middle;\n",
       "    }\n",
       "\n",
       "    .dataframe tbody tr th {\n",
       "        vertical-align: top;\n",
       "    }\n",
       "\n",
       "    .dataframe thead th {\n",
       "        text-align: right;\n",
       "    }\n",
       "</style>\n",
       "<table border=\"1\" class=\"dataframe\">\n",
       "  <thead>\n",
       "    <tr style=\"text-align: right;\">\n",
       "      <th></th>\n",
       "      <th>ID</th>\n",
       "      <th>X1</th>\n",
       "      <th>X3</th>\n",
       "      <th>X5</th>\n",
       "      <th>X8</th>\n",
       "      <th>X9</th>\n",
       "      <th>X10</th>\n",
       "      <th>X11</th>\n",
       "      <th>X12</th>\n",
       "      <th>X13</th>\n",
       "      <th>...</th>\n",
       "      <th>X127</th>\n",
       "      <th>X128</th>\n",
       "      <th>X134</th>\n",
       "      <th>X135</th>\n",
       "      <th>X136</th>\n",
       "      <th>X137</th>\n",
       "      <th>X138</th>\n",
       "      <th>navigate</th>\n",
       "      <th>server</th>\n",
       "      <th>label</th>\n",
       "    </tr>\n",
       "  </thead>\n",
       "  <tbody>\n",
       "    <tr>\n",
       "      <th>0</th>\n",
       "      <td>17547</td>\n",
       "      <td>0.090909</td>\n",
       "      <td>0.000000</td>\n",
       "      <td>0.181818</td>\n",
       "      <td>0.004040</td>\n",
       "      <td>0.052083</td>\n",
       "      <td>0.149682</td>\n",
       "      <td>0.012750</td>\n",
       "      <td>0.016018</td>\n",
       "      <td>0.023324</td>\n",
       "      <td>...</td>\n",
       "      <td>0.093264</td>\n",
       "      <td>0.011688</td>\n",
       "      <td>0.021277</td>\n",
       "      <td>0.075758</td>\n",
       "      <td>0.019608</td>\n",
       "      <td>0.069767</td>\n",
       "      <td>0.086957</td>\n",
       "      <td>0.000000</td>\n",
       "      <td>0.000000</td>\n",
       "      <td>0</td>\n",
       "    </tr>\n",
       "    <tr>\n",
       "      <th>1</th>\n",
       "      <td>140449</td>\n",
       "      <td>0.000000</td>\n",
       "      <td>0.000000</td>\n",
       "      <td>0.000000</td>\n",
       "      <td>0.004714</td>\n",
       "      <td>0.006250</td>\n",
       "      <td>0.012739</td>\n",
       "      <td>0.003643</td>\n",
       "      <td>0.000000</td>\n",
       "      <td>0.014577</td>\n",
       "      <td>...</td>\n",
       "      <td>0.082902</td>\n",
       "      <td>0.000570</td>\n",
       "      <td>0.042553</td>\n",
       "      <td>0.015152</td>\n",
       "      <td>0.019608</td>\n",
       "      <td>0.023256</td>\n",
       "      <td>0.173913</td>\n",
       "      <td>0.010753</td>\n",
       "      <td>0.004380</td>\n",
       "      <td>1</td>\n",
       "    </tr>\n",
       "    <tr>\n",
       "      <th>2</th>\n",
       "      <td>182658</td>\n",
       "      <td>0.333333</td>\n",
       "      <td>0.001049</td>\n",
       "      <td>0.090909</td>\n",
       "      <td>0.042424</td>\n",
       "      <td>0.002083</td>\n",
       "      <td>0.019108</td>\n",
       "      <td>0.012750</td>\n",
       "      <td>0.029748</td>\n",
       "      <td>0.052478</td>\n",
       "      <td>...</td>\n",
       "      <td>0.077720</td>\n",
       "      <td>0.003136</td>\n",
       "      <td>0.021277</td>\n",
       "      <td>0.045455</td>\n",
       "      <td>0.000000</td>\n",
       "      <td>0.000000</td>\n",
       "      <td>0.260870</td>\n",
       "      <td>0.000000</td>\n",
       "      <td>0.000000</td>\n",
       "      <td>1</td>\n",
       "    </tr>\n",
       "    <tr>\n",
       "      <th>3</th>\n",
       "      <td>149652</td>\n",
       "      <td>0.000000</td>\n",
       "      <td>0.000000</td>\n",
       "      <td>0.000000</td>\n",
       "      <td>0.005387</td>\n",
       "      <td>0.016667</td>\n",
       "      <td>0.028662</td>\n",
       "      <td>0.000000</td>\n",
       "      <td>0.032037</td>\n",
       "      <td>0.052478</td>\n",
       "      <td>...</td>\n",
       "      <td>0.077720</td>\n",
       "      <td>0.000570</td>\n",
       "      <td>0.042553</td>\n",
       "      <td>0.000000</td>\n",
       "      <td>0.000000</td>\n",
       "      <td>0.023256</td>\n",
       "      <td>0.260870</td>\n",
       "      <td>0.021505</td>\n",
       "      <td>0.005839</td>\n",
       "      <td>1</td>\n",
       "    </tr>\n",
       "    <tr>\n",
       "      <th>4</th>\n",
       "      <td>106304</td>\n",
       "      <td>0.333333</td>\n",
       "      <td>0.001049</td>\n",
       "      <td>0.181818</td>\n",
       "      <td>0.000000</td>\n",
       "      <td>0.010417</td>\n",
       "      <td>0.009554</td>\n",
       "      <td>0.001821</td>\n",
       "      <td>0.006865</td>\n",
       "      <td>0.008746</td>\n",
       "      <td>...</td>\n",
       "      <td>0.031088</td>\n",
       "      <td>0.000000</td>\n",
       "      <td>0.000000</td>\n",
       "      <td>0.015152</td>\n",
       "      <td>0.019608</td>\n",
       "      <td>0.023256</td>\n",
       "      <td>0.043478</td>\n",
       "      <td>0.027021</td>\n",
       "      <td>0.016485</td>\n",
       "      <td>1</td>\n",
       "    </tr>\n",
       "    <tr>\n",
       "      <th>...</th>\n",
       "      <td>...</td>\n",
       "      <td>...</td>\n",
       "      <td>...</td>\n",
       "      <td>...</td>\n",
       "      <td>...</td>\n",
       "      <td>...</td>\n",
       "      <td>...</td>\n",
       "      <td>...</td>\n",
       "      <td>...</td>\n",
       "      <td>...</td>\n",
       "      <td>...</td>\n",
       "      <td>...</td>\n",
       "      <td>...</td>\n",
       "      <td>...</td>\n",
       "      <td>...</td>\n",
       "      <td>...</td>\n",
       "      <td>...</td>\n",
       "      <td>...</td>\n",
       "      <td>...</td>\n",
       "      <td>...</td>\n",
       "      <td>...</td>\n",
       "    </tr>\n",
       "    <tr>\n",
       "      <th>35977</th>\n",
       "      <td>102422</td>\n",
       "      <td>0.000000</td>\n",
       "      <td>0.001049</td>\n",
       "      <td>0.000000</td>\n",
       "      <td>0.006061</td>\n",
       "      <td>0.012500</td>\n",
       "      <td>0.025478</td>\n",
       "      <td>0.016393</td>\n",
       "      <td>0.002288</td>\n",
       "      <td>0.052478</td>\n",
       "      <td>...</td>\n",
       "      <td>0.031088</td>\n",
       "      <td>0.000570</td>\n",
       "      <td>0.042553</td>\n",
       "      <td>0.000000</td>\n",
       "      <td>0.000000</td>\n",
       "      <td>0.023256</td>\n",
       "      <td>0.086957</td>\n",
       "      <td>0.000000</td>\n",
       "      <td>0.000000</td>\n",
       "      <td>1</td>\n",
       "    </tr>\n",
       "    <tr>\n",
       "      <th>35978</th>\n",
       "      <td>129387</td>\n",
       "      <td>0.358974</td>\n",
       "      <td>0.000000</td>\n",
       "      <td>0.181818</td>\n",
       "      <td>0.003367</td>\n",
       "      <td>0.008333</td>\n",
       "      <td>0.025478</td>\n",
       "      <td>0.010929</td>\n",
       "      <td>0.027460</td>\n",
       "      <td>0.008746</td>\n",
       "      <td>...</td>\n",
       "      <td>0.005181</td>\n",
       "      <td>0.005131</td>\n",
       "      <td>0.021277</td>\n",
       "      <td>0.015152</td>\n",
       "      <td>0.019608</td>\n",
       "      <td>0.023256</td>\n",
       "      <td>0.043478</td>\n",
       "      <td>0.027021</td>\n",
       "      <td>0.016485</td>\n",
       "      <td>1</td>\n",
       "    </tr>\n",
       "    <tr>\n",
       "      <th>35979</th>\n",
       "      <td>131835</td>\n",
       "      <td>0.000000</td>\n",
       "      <td>0.000000</td>\n",
       "      <td>0.000000</td>\n",
       "      <td>0.004040</td>\n",
       "      <td>0.016667</td>\n",
       "      <td>0.009554</td>\n",
       "      <td>0.014572</td>\n",
       "      <td>0.016018</td>\n",
       "      <td>0.049563</td>\n",
       "      <td>...</td>\n",
       "      <td>0.020725</td>\n",
       "      <td>0.001425</td>\n",
       "      <td>0.042553</td>\n",
       "      <td>0.000000</td>\n",
       "      <td>0.019608</td>\n",
       "      <td>0.000000</td>\n",
       "      <td>0.260870</td>\n",
       "      <td>0.027021</td>\n",
       "      <td>0.016485</td>\n",
       "      <td>1</td>\n",
       "    </tr>\n",
       "    <tr>\n",
       "      <th>35980</th>\n",
       "      <td>68715</td>\n",
       "      <td>0.166667</td>\n",
       "      <td>0.023085</td>\n",
       "      <td>0.454545</td>\n",
       "      <td>0.000673</td>\n",
       "      <td>0.043750</td>\n",
       "      <td>0.019108</td>\n",
       "      <td>0.012750</td>\n",
       "      <td>0.036613</td>\n",
       "      <td>0.052478</td>\n",
       "      <td>...</td>\n",
       "      <td>0.077720</td>\n",
       "      <td>0.002281</td>\n",
       "      <td>0.000000</td>\n",
       "      <td>0.045455</td>\n",
       "      <td>0.000000</td>\n",
       "      <td>0.000000</td>\n",
       "      <td>0.347826</td>\n",
       "      <td>0.000000</td>\n",
       "      <td>0.000000</td>\n",
       "      <td>1</td>\n",
       "    </tr>\n",
       "    <tr>\n",
       "      <th>35981</th>\n",
       "      <td>55601</td>\n",
       "      <td>0.013333</td>\n",
       "      <td>0.000000</td>\n",
       "      <td>0.090909</td>\n",
       "      <td>0.006061</td>\n",
       "      <td>0.010417</td>\n",
       "      <td>0.015924</td>\n",
       "      <td>0.003643</td>\n",
       "      <td>0.002288</td>\n",
       "      <td>0.014577</td>\n",
       "      <td>...</td>\n",
       "      <td>0.015544</td>\n",
       "      <td>0.004276</td>\n",
       "      <td>0.021277</td>\n",
       "      <td>0.015152</td>\n",
       "      <td>0.039216</td>\n",
       "      <td>0.000000</td>\n",
       "      <td>0.217391</td>\n",
       "      <td>0.027021</td>\n",
       "      <td>0.016485</td>\n",
       "      <td>1</td>\n",
       "    </tr>\n",
       "  </tbody>\n",
       "</table>\n",
       "<p>35982 rows × 94 columns</p>\n",
       "</div>"
      ],
      "text/plain": [
       "           ID        X1        X3        X5        X8        X9       X10  \\\n",
       "0       17547  0.090909  0.000000  0.181818  0.004040  0.052083  0.149682   \n",
       "1      140449  0.000000  0.000000  0.000000  0.004714  0.006250  0.012739   \n",
       "2      182658  0.333333  0.001049  0.090909  0.042424  0.002083  0.019108   \n",
       "3      149652  0.000000  0.000000  0.000000  0.005387  0.016667  0.028662   \n",
       "4      106304  0.333333  0.001049  0.181818  0.000000  0.010417  0.009554   \n",
       "...       ...       ...       ...       ...       ...       ...       ...   \n",
       "35977  102422  0.000000  0.001049  0.000000  0.006061  0.012500  0.025478   \n",
       "35978  129387  0.358974  0.000000  0.181818  0.003367  0.008333  0.025478   \n",
       "35979  131835  0.000000  0.000000  0.000000  0.004040  0.016667  0.009554   \n",
       "35980   68715  0.166667  0.023085  0.454545  0.000673  0.043750  0.019108   \n",
       "35981   55601  0.013333  0.000000  0.090909  0.006061  0.010417  0.015924   \n",
       "\n",
       "            X11       X12       X13  ...      X127      X128      X134  \\\n",
       "0      0.012750  0.016018  0.023324  ...  0.093264  0.011688  0.021277   \n",
       "1      0.003643  0.000000  0.014577  ...  0.082902  0.000570  0.042553   \n",
       "2      0.012750  0.029748  0.052478  ...  0.077720  0.003136  0.021277   \n",
       "3      0.000000  0.032037  0.052478  ...  0.077720  0.000570  0.042553   \n",
       "4      0.001821  0.006865  0.008746  ...  0.031088  0.000000  0.000000   \n",
       "...         ...       ...       ...  ...       ...       ...       ...   \n",
       "35977  0.016393  0.002288  0.052478  ...  0.031088  0.000570  0.042553   \n",
       "35978  0.010929  0.027460  0.008746  ...  0.005181  0.005131  0.021277   \n",
       "35979  0.014572  0.016018  0.049563  ...  0.020725  0.001425  0.042553   \n",
       "35980  0.012750  0.036613  0.052478  ...  0.077720  0.002281  0.000000   \n",
       "35981  0.003643  0.002288  0.014577  ...  0.015544  0.004276  0.021277   \n",
       "\n",
       "           X135      X136      X137      X138  navigate    server  label  \n",
       "0      0.075758  0.019608  0.069767  0.086957  0.000000  0.000000      0  \n",
       "1      0.015152  0.019608  0.023256  0.173913  0.010753  0.004380      1  \n",
       "2      0.045455  0.000000  0.000000  0.260870  0.000000  0.000000      1  \n",
       "3      0.000000  0.000000  0.023256  0.260870  0.021505  0.005839      1  \n",
       "4      0.015152  0.019608  0.023256  0.043478  0.027021  0.016485      1  \n",
       "...         ...       ...       ...       ...       ...       ...    ...  \n",
       "35977  0.000000  0.000000  0.023256  0.086957  0.000000  0.000000      1  \n",
       "35978  0.015152  0.019608  0.023256  0.043478  0.027021  0.016485      1  \n",
       "35979  0.000000  0.019608  0.000000  0.260870  0.027021  0.016485      1  \n",
       "35980  0.045455  0.000000  0.000000  0.347826  0.000000  0.000000      1  \n",
       "35981  0.015152  0.039216  0.000000  0.217391  0.027021  0.016485      1  \n",
       "\n",
       "[35982 rows x 94 columns]"
      ]
     },
     "execution_count": 82,
     "metadata": {},
     "output_type": "execute_result"
    }
   ],
   "source": [
    "X_test_predicted"
   ]
  },
  {
   "cell_type": "code",
   "execution_count": 83,
   "id": "37d908f9",
   "metadata": {
    "execution": {
     "iopub.execute_input": "2024-03-25T19:23:32.051437Z",
     "iopub.status.busy": "2024-03-25T19:23:32.050538Z",
     "iopub.status.idle": "2024-03-25T19:23:32.057067Z",
     "shell.execute_reply": "2024-03-25T19:23:32.056162Z"
    },
    "id": "mH3NWg-85g6q",
    "papermill": {
     "duration": 0.042662,
     "end_time": "2024-03-25T19:23:32.058968",
     "exception": false,
     "start_time": "2024-03-25T19:23:32.016306",
     "status": "completed"
    },
    "tags": []
   },
   "outputs": [],
   "source": [
    "submission=X_test_predicted[['ID','label']]"
   ]
  },
  {
   "cell_type": "code",
   "execution_count": 84,
   "id": "b00c273e",
   "metadata": {
    "execution": {
     "iopub.execute_input": "2024-03-25T19:23:32.126663Z",
     "iopub.status.busy": "2024-03-25T19:23:32.126315Z",
     "iopub.status.idle": "2024-03-25T19:23:32.178275Z",
     "shell.execute_reply": "2024-03-25T19:23:32.177389Z"
    },
    "id": "9OSH8Clu53--",
    "papermill": {
     "duration": 0.088226,
     "end_time": "2024-03-25T19:23:32.180240",
     "exception": false,
     "start_time": "2024-03-25T19:23:32.092014",
     "status": "completed"
    },
    "tags": []
   },
   "outputs": [],
   "source": [
    "submission.to_csv(\"/kaggle/working/submission.csv\",header=True,index=False)"
   ]
  },
  {
   "cell_type": "code",
   "execution_count": 85,
   "id": "7b935740",
   "metadata": {
    "execution": {
     "iopub.execute_input": "2024-03-25T19:23:32.249619Z",
     "iopub.status.busy": "2024-03-25T19:23:32.249294Z",
     "iopub.status.idle": "2024-03-25T19:23:32.255339Z",
     "shell.execute_reply": "2024-03-25T19:23:32.254427Z"
    },
    "id": "1LL7d6eI2Tih",
    "outputId": "e8fd7783-5747-4cc5-e51f-4d63ea572078",
    "papermill": {
     "duration": 0.043507,
     "end_time": "2024-03-25T19:23:32.257680",
     "exception": false,
     "start_time": "2024-03-25T19:23:32.214173",
     "status": "completed"
    },
    "tags": []
   },
   "outputs": [
    {
     "data": {
      "text/plain": [
       "(35982, 2)"
      ]
     },
     "execution_count": 85,
     "metadata": {},
     "output_type": "execute_result"
    }
   ],
   "source": [
    "submission.shape"
   ]
  }
 ],
 "metadata": {
  "accelerator": "GPU",
  "colab": {
   "gpuType": "T4",
   "name": "stay or stray v2",
   "provenance": []
  },
  "kaggle": {
   "accelerator": "nvidiaTeslaT4",
   "dataSources": [
    {
     "databundleVersionId": 7976886,
     "sourceId": 72650,
     "sourceType": "competition"
    }
   ],
   "dockerImageVersionId": 30673,
   "isGpuEnabled": true,
   "isInternetEnabled": true,
   "language": "python",
   "sourceType": "notebook"
  },
  "kernelspec": {
   "display_name": "Python 3",
   "language": "python",
   "name": "python3"
  },
  "language_info": {
   "codemirror_mode": {
    "name": "ipython",
    "version": 3
   },
   "file_extension": ".py",
   "mimetype": "text/x-python",
   "name": "python",
   "nbconvert_exporter": "python",
   "pygments_lexer": "ipython3",
   "version": "3.10.13"
  },
  "papermill": {
   "default_parameters": {},
   "duration": 100.106451,
   "end_time": "2024-03-25T19:23:33.415890",
   "environment_variables": {},
   "exception": null,
   "input_path": "__notebook__.ipynb",
   "output_path": "__notebook__.ipynb",
   "parameters": {},
   "start_time": "2024-03-25T19:21:53.309439",
   "version": "2.5.0"
  }
 },
 "nbformat": 4,
 "nbformat_minor": 5
}
